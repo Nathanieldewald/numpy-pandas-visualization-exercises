{
 "cells": [
  {
   "cell_type": "markdown",
   "source": [
    "Exercises I\n",
    "\n",
    "Run python -m pip install pymysql from your terminal to install pymysql.\n",
    "\n",
    "Create a notebook or python script named advanced_dataframes to do your work in for these exercises.\n",
    "\n",
    "1.Run python -m pip install pymysql from your terminal to install the mysql client (any folder is fine)\n",
    "\n",
    "2.cd into your exercises folder for this module and run echo env.py >> .gitignore\n",
    "\n",
    "3.Create a function named get_db_url. It should accept a username, hostname, password, and database name and return an url connection string formatted like in the example at the start of this lesson.\n",
    "\n",
    "4.Use your function to obtain a connection to the employees database.\n",
    "\n",
    "5.Once you have successfully run a query:\n",
    "\n",
    "a. Intentionally make a typo in the database url. What kind of error message do you see?\n",
    "\n",
    "b. Intentionally make an error in your SQL query. What does the error message look like?\n",
    "\n",
    "6.Read the employees and titles tables into two separate DataFrames.\n",
    "\n",
    "7.How many rows and columns do you have in each DataFrame? Is that what you expected?\n",
    "\n",
    "8.Display the summary statistics for each DataFrame.\n",
    "\n",
    "9.How many unique titles are in the titles DataFrame?\n",
    "\n",
    "10.What is the oldest date in the to_date column?\n",
    "\n",
    "11.What is the most recent date in the to_date column?\n",
    "\n"
   ],
   "metadata": {
    "collapsed": false
   }
  },
  {
   "cell_type": "markdown",
   "source": [
    "1.Run python -m pip install pymysql from your terminal to install the mysql client (any folder is fine)"
   ],
   "metadata": {
    "collapsed": false
   }
  },
  {
   "cell_type": "markdown",
   "source": [
    "done"
   ],
   "metadata": {
    "collapsed": false
   }
  },
  {
   "cell_type": "markdown",
   "source": [
    "2.cd into your exercises folder for this module and run echo env.py >> .gitignore"
   ],
   "metadata": {
    "collapsed": false
   }
  },
  {
   "cell_type": "markdown",
   "source": [
    "done"
   ],
   "metadata": {
    "collapsed": false
   }
  },
  {
   "cell_type": "markdown",
   "source": [
    "3.Create a function named get_db_url. It should accept a username, hostname, password, and database name and return a url connection string formatted like in the example at the start of this lesson."
   ],
   "metadata": {
    "collapsed": false
   }
  },
  {
   "cell_type": "markdown",
   "source": [],
   "metadata": {
    "collapsed": false
   }
  },
  {
   "cell_type": "code",
   "execution_count": 105,
   "outputs": [],
   "source": [
    "import pandas as pd\n",
    "import numpy as np\n",
    "import env"
   ],
   "metadata": {
    "collapsed": false
   }
  },
  {
   "cell_type": "code",
   "execution_count": 106,
   "outputs": [],
   "source": [
    "def get_db_url(database):\n",
    "    database = database\n",
    "    url = f'mysql+pymysql://{env.username}:{env.password}@{env.host}/{database}'\n",
    "    return url\n"
   ],
   "metadata": {
    "collapsed": false
   }
  },
  {
   "cell_type": "markdown",
   "source": [
    "4.Use your function to obtain a connection to the employees database."
   ],
   "metadata": {
    "collapsed": false
   }
  },
  {
   "cell_type": "code",
   "execution_count": 107,
   "outputs": [
    {
     "data": {
      "text/plain": "   emp_no  birth_date first_name  last_name gender   hire_date\n0   10051  1953-07-28   Hidefumi      Caine      M  1992-10-15\n1   10052  1961-02-26     Heping     Nitsch      M  1988-05-21\n2   10053  1954-09-13     Sanjiv   Zschoche      F  1986-02-04\n3   10054  1957-04-04     Mayumi  Schueller      M  1995-03-13\n4   10055  1956-06-06     Georgy     Dredge      M  1992-04-27",
      "text/html": "<div>\n<style scoped>\n    .dataframe tbody tr th:only-of-type {\n        vertical-align: middle;\n    }\n\n    .dataframe tbody tr th {\n        vertical-align: top;\n    }\n\n    .dataframe thead th {\n        text-align: right;\n    }\n</style>\n<table border=\"1\" class=\"dataframe\">\n  <thead>\n    <tr style=\"text-align: right;\">\n      <th></th>\n      <th>emp_no</th>\n      <th>birth_date</th>\n      <th>first_name</th>\n      <th>last_name</th>\n      <th>gender</th>\n      <th>hire_date</th>\n    </tr>\n  </thead>\n  <tbody>\n    <tr>\n      <th>0</th>\n      <td>10051</td>\n      <td>1953-07-28</td>\n      <td>Hidefumi</td>\n      <td>Caine</td>\n      <td>M</td>\n      <td>1992-10-15</td>\n    </tr>\n    <tr>\n      <th>1</th>\n      <td>10052</td>\n      <td>1961-02-26</td>\n      <td>Heping</td>\n      <td>Nitsch</td>\n      <td>M</td>\n      <td>1988-05-21</td>\n    </tr>\n    <tr>\n      <th>2</th>\n      <td>10053</td>\n      <td>1954-09-13</td>\n      <td>Sanjiv</td>\n      <td>Zschoche</td>\n      <td>F</td>\n      <td>1986-02-04</td>\n    </tr>\n    <tr>\n      <th>3</th>\n      <td>10054</td>\n      <td>1957-04-04</td>\n      <td>Mayumi</td>\n      <td>Schueller</td>\n      <td>M</td>\n      <td>1995-03-13</td>\n    </tr>\n    <tr>\n      <th>4</th>\n      <td>10055</td>\n      <td>1956-06-06</td>\n      <td>Georgy</td>\n      <td>Dredge</td>\n      <td>M</td>\n      <td>1992-04-27</td>\n    </tr>\n  </tbody>\n</table>\n</div>"
     },
     "execution_count": 107,
     "metadata": {},
     "output_type": "execute_result"
    }
   ],
   "source": [
    "pd.read_sql('SELECT * FROM employees LIMIT 5 OFFSET 50', get_db_url(\"employees\"))"
   ],
   "metadata": {
    "collapsed": false
   }
  },
  {
   "cell_type": "markdown",
   "source": [
    "5.Once you have successfully run a query:\n",
    "\n",
    "a. Intentionally make a typo in the database url. What kind of error message do you see?\n",
    "operationalerror\n",
    "b. Intentionally make an error in your SQL query. What does the error message look like?\n",
    "programmingerror"
   ],
   "metadata": {
    "collapsed": false
   }
  },
  {
   "cell_type": "code",
   "execution_count": 108,
   "outputs": [
    {
     "ename": "OperationalError",
     "evalue": "(pymysql.err.OperationalError) (1044, \"Access denied for user 'pagel_2185'@'%' to database 'emploees'\")\n(Background on this error at: https://sqlalche.me/e/14/e3q8)",
     "output_type": "error",
     "traceback": [
      "\u001B[0;31m---------------------------------------------------------------------------\u001B[0m",
      "\u001B[0;31mOperationalError\u001B[0m                          Traceback (most recent call last)",
      "File \u001B[0;32m~/anaconda3/lib/python3.10/site-packages/sqlalchemy/engine/base.py:3280\u001B[0m, in \u001B[0;36mEngine._wrap_pool_connect\u001B[0;34m(self, fn, connection)\u001B[0m\n\u001B[1;32m   3279\u001B[0m \u001B[38;5;28;01mtry\u001B[39;00m:\n\u001B[0;32m-> 3280\u001B[0m     \u001B[38;5;28;01mreturn\u001B[39;00m \u001B[43mfn\u001B[49m\u001B[43m(\u001B[49m\u001B[43m)\u001B[49m\n\u001B[1;32m   3281\u001B[0m \u001B[38;5;28;01mexcept\u001B[39;00m dialect\u001B[38;5;241m.\u001B[39mdbapi\u001B[38;5;241m.\u001B[39mError \u001B[38;5;28;01mas\u001B[39;00m e:\n",
      "File \u001B[0;32m~/anaconda3/lib/python3.10/site-packages/sqlalchemy/pool/base.py:310\u001B[0m, in \u001B[0;36mPool.connect\u001B[0;34m(self)\u001B[0m\n\u001B[1;32m    303\u001B[0m \u001B[38;5;124;03m\"\"\"Return a DBAPI connection from the pool.\u001B[39;00m\n\u001B[1;32m    304\u001B[0m \n\u001B[1;32m    305\u001B[0m \u001B[38;5;124;03mThe connection is instrumented such that when its\u001B[39;00m\n\u001B[0;32m   (...)\u001B[0m\n\u001B[1;32m    308\u001B[0m \n\u001B[1;32m    309\u001B[0m \u001B[38;5;124;03m\"\"\"\u001B[39;00m\n\u001B[0;32m--> 310\u001B[0m \u001B[38;5;28;01mreturn\u001B[39;00m \u001B[43m_ConnectionFairy\u001B[49m\u001B[38;5;241;43m.\u001B[39;49m\u001B[43m_checkout\u001B[49m\u001B[43m(\u001B[49m\u001B[38;5;28;43mself\u001B[39;49m\u001B[43m)\u001B[49m\n",
      "File \u001B[0;32m~/anaconda3/lib/python3.10/site-packages/sqlalchemy/pool/base.py:868\u001B[0m, in \u001B[0;36m_ConnectionFairy._checkout\u001B[0;34m(cls, pool, threadconns, fairy)\u001B[0m\n\u001B[1;32m    867\u001B[0m \u001B[38;5;28;01mif\u001B[39;00m \u001B[38;5;129;01mnot\u001B[39;00m fairy:\n\u001B[0;32m--> 868\u001B[0m     fairy \u001B[38;5;241m=\u001B[39m \u001B[43m_ConnectionRecord\u001B[49m\u001B[38;5;241;43m.\u001B[39;49m\u001B[43mcheckout\u001B[49m\u001B[43m(\u001B[49m\u001B[43mpool\u001B[49m\u001B[43m)\u001B[49m\n\u001B[1;32m    870\u001B[0m     fairy\u001B[38;5;241m.\u001B[39m_pool \u001B[38;5;241m=\u001B[39m pool\n",
      "File \u001B[0;32m~/anaconda3/lib/python3.10/site-packages/sqlalchemy/pool/base.py:476\u001B[0m, in \u001B[0;36m_ConnectionRecord.checkout\u001B[0;34m(cls, pool)\u001B[0m\n\u001B[1;32m    474\u001B[0m \u001B[38;5;129m@classmethod\u001B[39m\n\u001B[1;32m    475\u001B[0m \u001B[38;5;28;01mdef\u001B[39;00m \u001B[38;5;21mcheckout\u001B[39m(\u001B[38;5;28mcls\u001B[39m, pool):\n\u001B[0;32m--> 476\u001B[0m     rec \u001B[38;5;241m=\u001B[39m \u001B[43mpool\u001B[49m\u001B[38;5;241;43m.\u001B[39;49m\u001B[43m_do_get\u001B[49m\u001B[43m(\u001B[49m\u001B[43m)\u001B[49m\n\u001B[1;32m    477\u001B[0m     \u001B[38;5;28;01mtry\u001B[39;00m:\n",
      "File \u001B[0;32m~/anaconda3/lib/python3.10/site-packages/sqlalchemy/pool/impl.py:145\u001B[0m, in \u001B[0;36mQueuePool._do_get\u001B[0;34m(self)\u001B[0m\n\u001B[1;32m    144\u001B[0m \u001B[38;5;28;01mexcept\u001B[39;00m:\n\u001B[0;32m--> 145\u001B[0m     \u001B[38;5;28;01mwith\u001B[39;00m util\u001B[38;5;241m.\u001B[39msafe_reraise():\n\u001B[1;32m    146\u001B[0m         \u001B[38;5;28mself\u001B[39m\u001B[38;5;241m.\u001B[39m_dec_overflow()\n",
      "File \u001B[0;32m~/anaconda3/lib/python3.10/site-packages/sqlalchemy/util/langhelpers.py:70\u001B[0m, in \u001B[0;36msafe_reraise.__exit__\u001B[0;34m(self, type_, value, traceback)\u001B[0m\n\u001B[1;32m     69\u001B[0m     \u001B[38;5;28;01mif\u001B[39;00m \u001B[38;5;129;01mnot\u001B[39;00m \u001B[38;5;28mself\u001B[39m\u001B[38;5;241m.\u001B[39mwarn_only:\n\u001B[0;32m---> 70\u001B[0m         \u001B[43mcompat\u001B[49m\u001B[38;5;241;43m.\u001B[39;49m\u001B[43mraise_\u001B[49m\u001B[43m(\u001B[49m\n\u001B[1;32m     71\u001B[0m \u001B[43m            \u001B[49m\u001B[43mexc_value\u001B[49m\u001B[43m,\u001B[49m\n\u001B[1;32m     72\u001B[0m \u001B[43m            \u001B[49m\u001B[43mwith_traceback\u001B[49m\u001B[38;5;241;43m=\u001B[39;49m\u001B[43mexc_tb\u001B[49m\u001B[43m,\u001B[49m\n\u001B[1;32m     73\u001B[0m \u001B[43m        \u001B[49m\u001B[43m)\u001B[49m\n\u001B[1;32m     74\u001B[0m \u001B[38;5;28;01melse\u001B[39;00m:\n",
      "File \u001B[0;32m~/anaconda3/lib/python3.10/site-packages/sqlalchemy/util/compat.py:208\u001B[0m, in \u001B[0;36mraise_\u001B[0;34m(***failed resolving arguments***)\u001B[0m\n\u001B[1;32m    207\u001B[0m \u001B[38;5;28;01mtry\u001B[39;00m:\n\u001B[0;32m--> 208\u001B[0m     \u001B[38;5;28;01mraise\u001B[39;00m exception\n\u001B[1;32m    209\u001B[0m \u001B[38;5;28;01mfinally\u001B[39;00m:\n\u001B[1;32m    210\u001B[0m     \u001B[38;5;66;03m# credit to\u001B[39;00m\n\u001B[1;32m    211\u001B[0m     \u001B[38;5;66;03m# https://cosmicpercolator.com/2016/01/13/exception-leaks-in-python-2-and-3/\u001B[39;00m\n\u001B[1;32m    212\u001B[0m     \u001B[38;5;66;03m# as the __traceback__ object creates a cycle\u001B[39;00m\n",
      "File \u001B[0;32m~/anaconda3/lib/python3.10/site-packages/sqlalchemy/pool/impl.py:143\u001B[0m, in \u001B[0;36mQueuePool._do_get\u001B[0;34m(self)\u001B[0m\n\u001B[1;32m    142\u001B[0m \u001B[38;5;28;01mtry\u001B[39;00m:\n\u001B[0;32m--> 143\u001B[0m     \u001B[38;5;28;01mreturn\u001B[39;00m \u001B[38;5;28;43mself\u001B[39;49m\u001B[38;5;241;43m.\u001B[39;49m\u001B[43m_create_connection\u001B[49m\u001B[43m(\u001B[49m\u001B[43m)\u001B[49m\n\u001B[1;32m    144\u001B[0m \u001B[38;5;28;01mexcept\u001B[39;00m:\n",
      "File \u001B[0;32m~/anaconda3/lib/python3.10/site-packages/sqlalchemy/pool/base.py:256\u001B[0m, in \u001B[0;36mPool._create_connection\u001B[0;34m(self)\u001B[0m\n\u001B[1;32m    254\u001B[0m \u001B[38;5;124;03m\"\"\"Called by subclasses to create a new ConnectionRecord.\"\"\"\u001B[39;00m\n\u001B[0;32m--> 256\u001B[0m \u001B[38;5;28;01mreturn\u001B[39;00m \u001B[43m_ConnectionRecord\u001B[49m\u001B[43m(\u001B[49m\u001B[38;5;28;43mself\u001B[39;49m\u001B[43m)\u001B[49m\n",
      "File \u001B[0;32m~/anaconda3/lib/python3.10/site-packages/sqlalchemy/pool/base.py:371\u001B[0m, in \u001B[0;36m_ConnectionRecord.__init__\u001B[0;34m(self, pool, connect)\u001B[0m\n\u001B[1;32m    370\u001B[0m \u001B[38;5;28;01mif\u001B[39;00m connect:\n\u001B[0;32m--> 371\u001B[0m     \u001B[38;5;28;43mself\u001B[39;49m\u001B[38;5;241;43m.\u001B[39;49m\u001B[43m__connect\u001B[49m\u001B[43m(\u001B[49m\u001B[43m)\u001B[49m\n\u001B[1;32m    372\u001B[0m \u001B[38;5;28mself\u001B[39m\u001B[38;5;241m.\u001B[39mfinalize_callback \u001B[38;5;241m=\u001B[39m deque()\n",
      "File \u001B[0;32m~/anaconda3/lib/python3.10/site-packages/sqlalchemy/pool/base.py:665\u001B[0m, in \u001B[0;36m_ConnectionRecord.__connect\u001B[0;34m(self)\u001B[0m\n\u001B[1;32m    664\u001B[0m \u001B[38;5;28;01mexcept\u001B[39;00m \u001B[38;5;167;01mException\u001B[39;00m \u001B[38;5;28;01mas\u001B[39;00m e:\n\u001B[0;32m--> 665\u001B[0m     \u001B[38;5;28;01mwith\u001B[39;00m util\u001B[38;5;241m.\u001B[39msafe_reraise():\n\u001B[1;32m    666\u001B[0m         pool\u001B[38;5;241m.\u001B[39mlogger\u001B[38;5;241m.\u001B[39mdebug(\u001B[38;5;124m\"\u001B[39m\u001B[38;5;124mError on connect(): \u001B[39m\u001B[38;5;132;01m%s\u001B[39;00m\u001B[38;5;124m\"\u001B[39m, e)\n",
      "File \u001B[0;32m~/anaconda3/lib/python3.10/site-packages/sqlalchemy/util/langhelpers.py:70\u001B[0m, in \u001B[0;36msafe_reraise.__exit__\u001B[0;34m(self, type_, value, traceback)\u001B[0m\n\u001B[1;32m     69\u001B[0m     \u001B[38;5;28;01mif\u001B[39;00m \u001B[38;5;129;01mnot\u001B[39;00m \u001B[38;5;28mself\u001B[39m\u001B[38;5;241m.\u001B[39mwarn_only:\n\u001B[0;32m---> 70\u001B[0m         \u001B[43mcompat\u001B[49m\u001B[38;5;241;43m.\u001B[39;49m\u001B[43mraise_\u001B[49m\u001B[43m(\u001B[49m\n\u001B[1;32m     71\u001B[0m \u001B[43m            \u001B[49m\u001B[43mexc_value\u001B[49m\u001B[43m,\u001B[49m\n\u001B[1;32m     72\u001B[0m \u001B[43m            \u001B[49m\u001B[43mwith_traceback\u001B[49m\u001B[38;5;241;43m=\u001B[39;49m\u001B[43mexc_tb\u001B[49m\u001B[43m,\u001B[49m\n\u001B[1;32m     73\u001B[0m \u001B[43m        \u001B[49m\u001B[43m)\u001B[49m\n\u001B[1;32m     74\u001B[0m \u001B[38;5;28;01melse\u001B[39;00m:\n",
      "File \u001B[0;32m~/anaconda3/lib/python3.10/site-packages/sqlalchemy/util/compat.py:208\u001B[0m, in \u001B[0;36mraise_\u001B[0;34m(***failed resolving arguments***)\u001B[0m\n\u001B[1;32m    207\u001B[0m \u001B[38;5;28;01mtry\u001B[39;00m:\n\u001B[0;32m--> 208\u001B[0m     \u001B[38;5;28;01mraise\u001B[39;00m exception\n\u001B[1;32m    209\u001B[0m \u001B[38;5;28;01mfinally\u001B[39;00m:\n\u001B[1;32m    210\u001B[0m     \u001B[38;5;66;03m# credit to\u001B[39;00m\n\u001B[1;32m    211\u001B[0m     \u001B[38;5;66;03m# https://cosmicpercolator.com/2016/01/13/exception-leaks-in-python-2-and-3/\u001B[39;00m\n\u001B[1;32m    212\u001B[0m     \u001B[38;5;66;03m# as the __traceback__ object creates a cycle\u001B[39;00m\n",
      "File \u001B[0;32m~/anaconda3/lib/python3.10/site-packages/sqlalchemy/pool/base.py:661\u001B[0m, in \u001B[0;36m_ConnectionRecord.__connect\u001B[0;34m(self)\u001B[0m\n\u001B[1;32m    660\u001B[0m \u001B[38;5;28mself\u001B[39m\u001B[38;5;241m.\u001B[39mstarttime \u001B[38;5;241m=\u001B[39m time\u001B[38;5;241m.\u001B[39mtime()\n\u001B[0;32m--> 661\u001B[0m \u001B[38;5;28mself\u001B[39m\u001B[38;5;241m.\u001B[39mdbapi_connection \u001B[38;5;241m=\u001B[39m connection \u001B[38;5;241m=\u001B[39m \u001B[43mpool\u001B[49m\u001B[38;5;241;43m.\u001B[39;49m\u001B[43m_invoke_creator\u001B[49m\u001B[43m(\u001B[49m\u001B[38;5;28;43mself\u001B[39;49m\u001B[43m)\u001B[49m\n\u001B[1;32m    662\u001B[0m pool\u001B[38;5;241m.\u001B[39mlogger\u001B[38;5;241m.\u001B[39mdebug(\u001B[38;5;124m\"\u001B[39m\u001B[38;5;124mCreated new connection \u001B[39m\u001B[38;5;132;01m%r\u001B[39;00m\u001B[38;5;124m\"\u001B[39m, connection)\n",
      "File \u001B[0;32m~/anaconda3/lib/python3.10/site-packages/sqlalchemy/engine/create.py:590\u001B[0m, in \u001B[0;36mcreate_engine.<locals>.connect\u001B[0;34m(connection_record)\u001B[0m\n\u001B[1;32m    589\u001B[0m             \u001B[38;5;28;01mreturn\u001B[39;00m connection\n\u001B[0;32m--> 590\u001B[0m \u001B[38;5;28;01mreturn\u001B[39;00m \u001B[43mdialect\u001B[49m\u001B[38;5;241;43m.\u001B[39;49m\u001B[43mconnect\u001B[49m\u001B[43m(\u001B[49m\u001B[38;5;241;43m*\u001B[39;49m\u001B[43mcargs\u001B[49m\u001B[43m,\u001B[49m\u001B[43m \u001B[49m\u001B[38;5;241;43m*\u001B[39;49m\u001B[38;5;241;43m*\u001B[39;49m\u001B[43mcparams\u001B[49m\u001B[43m)\u001B[49m\n",
      "File \u001B[0;32m~/anaconda3/lib/python3.10/site-packages/sqlalchemy/engine/default.py:597\u001B[0m, in \u001B[0;36mDefaultDialect.connect\u001B[0;34m(self, *cargs, **cparams)\u001B[0m\n\u001B[1;32m    595\u001B[0m \u001B[38;5;28;01mdef\u001B[39;00m \u001B[38;5;21mconnect\u001B[39m(\u001B[38;5;28mself\u001B[39m, \u001B[38;5;241m*\u001B[39mcargs, \u001B[38;5;241m*\u001B[39m\u001B[38;5;241m*\u001B[39mcparams):\n\u001B[1;32m    596\u001B[0m     \u001B[38;5;66;03m# inherits the docstring from interfaces.Dialect.connect\u001B[39;00m\n\u001B[0;32m--> 597\u001B[0m     \u001B[38;5;28;01mreturn\u001B[39;00m \u001B[38;5;28;43mself\u001B[39;49m\u001B[38;5;241;43m.\u001B[39;49m\u001B[43mdbapi\u001B[49m\u001B[38;5;241;43m.\u001B[39;49m\u001B[43mconnect\u001B[49m\u001B[43m(\u001B[49m\u001B[38;5;241;43m*\u001B[39;49m\u001B[43mcargs\u001B[49m\u001B[43m,\u001B[49m\u001B[43m \u001B[49m\u001B[38;5;241;43m*\u001B[39;49m\u001B[38;5;241;43m*\u001B[39;49m\u001B[43mcparams\u001B[49m\u001B[43m)\u001B[49m\n",
      "File \u001B[0;32m~/anaconda3/lib/python3.10/site-packages/pymysql/connections.py:352\u001B[0m, in \u001B[0;36mConnection.__init__\u001B[0;34m(self, user, password, host, database, unix_socket, port, charset, sql_mode, read_default_file, conv, use_unicode, client_flag, cursorclass, init_command, connect_timeout, read_default_group, autocommit, local_infile, max_allowed_packet, defer_connect, auth_plugin_map, read_timeout, write_timeout, bind_address, binary_prefix, program_name, server_public_key, ssl, ssl_ca, ssl_cert, ssl_disabled, ssl_key, ssl_verify_cert, ssl_verify_identity, compress, named_pipe, passwd, db)\u001B[0m\n\u001B[1;32m    351\u001B[0m \u001B[38;5;28;01melse\u001B[39;00m:\n\u001B[0;32m--> 352\u001B[0m     \u001B[38;5;28;43mself\u001B[39;49m\u001B[38;5;241;43m.\u001B[39;49m\u001B[43mconnect\u001B[49m\u001B[43m(\u001B[49m\u001B[43m)\u001B[49m\n",
      "File \u001B[0;32m~/anaconda3/lib/python3.10/site-packages/pymysql/connections.py:636\u001B[0m, in \u001B[0;36mConnection.connect\u001B[0;34m(self, sock)\u001B[0m\n\u001B[1;32m    635\u001B[0m \u001B[38;5;28mself\u001B[39m\u001B[38;5;241m.\u001B[39m_get_server_information()\n\u001B[0;32m--> 636\u001B[0m \u001B[38;5;28;43mself\u001B[39;49m\u001B[38;5;241;43m.\u001B[39;49m\u001B[43m_request_authentication\u001B[49m\u001B[43m(\u001B[49m\u001B[43m)\u001B[49m\n\u001B[1;32m    638\u001B[0m \u001B[38;5;28;01mif\u001B[39;00m \u001B[38;5;28mself\u001B[39m\u001B[38;5;241m.\u001B[39msql_mode \u001B[38;5;129;01mis\u001B[39;00m \u001B[38;5;129;01mnot\u001B[39;00m \u001B[38;5;28;01mNone\u001B[39;00m:\n",
      "File \u001B[0;32m~/anaconda3/lib/python3.10/site-packages/pymysql/connections.py:911\u001B[0m, in \u001B[0;36mConnection._request_authentication\u001B[0;34m(self)\u001B[0m\n\u001B[1;32m    910\u001B[0m \u001B[38;5;28mself\u001B[39m\u001B[38;5;241m.\u001B[39mwrite_packet(data)\n\u001B[0;32m--> 911\u001B[0m auth_packet \u001B[38;5;241m=\u001B[39m \u001B[38;5;28;43mself\u001B[39;49m\u001B[38;5;241;43m.\u001B[39;49m\u001B[43m_read_packet\u001B[49m\u001B[43m(\u001B[49m\u001B[43m)\u001B[49m\n\u001B[1;32m    913\u001B[0m \u001B[38;5;66;03m# if authentication method isn't accepted the first byte\u001B[39;00m\n\u001B[1;32m    914\u001B[0m \u001B[38;5;66;03m# will have the octet 254\u001B[39;00m\n",
      "File \u001B[0;32m~/anaconda3/lib/python3.10/site-packages/pymysql/connections.py:729\u001B[0m, in \u001B[0;36mConnection._read_packet\u001B[0;34m(self, packet_type)\u001B[0m\n\u001B[1;32m    728\u001B[0m         \u001B[38;5;28mself\u001B[39m\u001B[38;5;241m.\u001B[39m_result\u001B[38;5;241m.\u001B[39munbuffered_active \u001B[38;5;241m=\u001B[39m \u001B[38;5;28;01mFalse\u001B[39;00m\n\u001B[0;32m--> 729\u001B[0m     \u001B[43mpacket\u001B[49m\u001B[38;5;241;43m.\u001B[39;49m\u001B[43mraise_for_error\u001B[49m\u001B[43m(\u001B[49m\u001B[43m)\u001B[49m\n\u001B[1;32m    730\u001B[0m \u001B[38;5;28;01mreturn\u001B[39;00m packet\n",
      "File \u001B[0;32m~/anaconda3/lib/python3.10/site-packages/pymysql/protocol.py:221\u001B[0m, in \u001B[0;36mMysqlPacket.raise_for_error\u001B[0;34m(self)\u001B[0m\n\u001B[1;32m    220\u001B[0m     \u001B[38;5;28mprint\u001B[39m(\u001B[38;5;124m\"\u001B[39m\u001B[38;5;124merrno =\u001B[39m\u001B[38;5;124m\"\u001B[39m, errno)\n\u001B[0;32m--> 221\u001B[0m \u001B[43merr\u001B[49m\u001B[38;5;241;43m.\u001B[39;49m\u001B[43mraise_mysql_exception\u001B[49m\u001B[43m(\u001B[49m\u001B[38;5;28;43mself\u001B[39;49m\u001B[38;5;241;43m.\u001B[39;49m\u001B[43m_data\u001B[49m\u001B[43m)\u001B[49m\n",
      "File \u001B[0;32m~/anaconda3/lib/python3.10/site-packages/pymysql/err.py:143\u001B[0m, in \u001B[0;36mraise_mysql_exception\u001B[0;34m(data)\u001B[0m\n\u001B[1;32m    142\u001B[0m     errorclass \u001B[38;5;241m=\u001B[39m InternalError \u001B[38;5;28;01mif\u001B[39;00m errno \u001B[38;5;241m<\u001B[39m \u001B[38;5;241m1000\u001B[39m \u001B[38;5;28;01melse\u001B[39;00m OperationalError\n\u001B[0;32m--> 143\u001B[0m \u001B[38;5;28;01mraise\u001B[39;00m errorclass(errno, errval)\n",
      "\u001B[0;31mOperationalError\u001B[0m: (1044, \"Access denied for user 'pagel_2185'@'%' to database 'emploees'\")",
      "\nThe above exception was the direct cause of the following exception:\n",
      "\u001B[0;31mOperationalError\u001B[0m                          Traceback (most recent call last)",
      "Cell \u001B[0;32mIn[108], line 1\u001B[0m\n\u001B[0;32m----> 1\u001B[0m \u001B[43mpd\u001B[49m\u001B[38;5;241;43m.\u001B[39;49m\u001B[43mread_sql\u001B[49m\u001B[43m(\u001B[49m\u001B[38;5;124;43m'\u001B[39;49m\u001B[38;5;124;43mSELECT * FROM employees LIMIT 5 OFFSET 50\u001B[39;49m\u001B[38;5;124;43m'\u001B[39;49m\u001B[43m,\u001B[49m\u001B[43m \u001B[49m\u001B[43mget_db_url\u001B[49m\u001B[43m(\u001B[49m\u001B[38;5;124;43m\"\u001B[39;49m\u001B[38;5;124;43memploees\u001B[39;49m\u001B[38;5;124;43m\"\u001B[39;49m\u001B[43m)\u001B[49m\u001B[43m)\u001B[49m\n",
      "File \u001B[0;32m~/anaconda3/lib/python3.10/site-packages/pandas/io/sql.py:590\u001B[0m, in \u001B[0;36mread_sql\u001B[0;34m(sql, con, index_col, coerce_float, params, parse_dates, columns, chunksize)\u001B[0m\n\u001B[1;32m    581\u001B[0m     \u001B[38;5;28;01mreturn\u001B[39;00m pandas_sql\u001B[38;5;241m.\u001B[39mread_table(\n\u001B[1;32m    582\u001B[0m         sql,\n\u001B[1;32m    583\u001B[0m         index_col\u001B[38;5;241m=\u001B[39mindex_col,\n\u001B[0;32m   (...)\u001B[0m\n\u001B[1;32m    587\u001B[0m         chunksize\u001B[38;5;241m=\u001B[39mchunksize,\n\u001B[1;32m    588\u001B[0m     )\n\u001B[1;32m    589\u001B[0m \u001B[38;5;28;01melse\u001B[39;00m:\n\u001B[0;32m--> 590\u001B[0m     \u001B[38;5;28;01mreturn\u001B[39;00m \u001B[43mpandas_sql\u001B[49m\u001B[38;5;241;43m.\u001B[39;49m\u001B[43mread_query\u001B[49m\u001B[43m(\u001B[49m\n\u001B[1;32m    591\u001B[0m \u001B[43m        \u001B[49m\u001B[43msql\u001B[49m\u001B[43m,\u001B[49m\n\u001B[1;32m    592\u001B[0m \u001B[43m        \u001B[49m\u001B[43mindex_col\u001B[49m\u001B[38;5;241;43m=\u001B[39;49m\u001B[43mindex_col\u001B[49m\u001B[43m,\u001B[49m\n\u001B[1;32m    593\u001B[0m \u001B[43m        \u001B[49m\u001B[43mparams\u001B[49m\u001B[38;5;241;43m=\u001B[39;49m\u001B[43mparams\u001B[49m\u001B[43m,\u001B[49m\n\u001B[1;32m    594\u001B[0m \u001B[43m        \u001B[49m\u001B[43mcoerce_float\u001B[49m\u001B[38;5;241;43m=\u001B[39;49m\u001B[43mcoerce_float\u001B[49m\u001B[43m,\u001B[49m\n\u001B[1;32m    595\u001B[0m \u001B[43m        \u001B[49m\u001B[43mparse_dates\u001B[49m\u001B[38;5;241;43m=\u001B[39;49m\u001B[43mparse_dates\u001B[49m\u001B[43m,\u001B[49m\n\u001B[1;32m    596\u001B[0m \u001B[43m        \u001B[49m\u001B[43mchunksize\u001B[49m\u001B[38;5;241;43m=\u001B[39;49m\u001B[43mchunksize\u001B[49m\u001B[43m,\u001B[49m\n\u001B[1;32m    597\u001B[0m \u001B[43m    \u001B[49m\u001B[43m)\u001B[49m\n",
      "File \u001B[0;32m~/anaconda3/lib/python3.10/site-packages/pandas/io/sql.py:1560\u001B[0m, in \u001B[0;36mSQLDatabase.read_query\u001B[0;34m(self, sql, index_col, coerce_float, parse_dates, params, chunksize, dtype)\u001B[0m\n\u001B[1;32m   1512\u001B[0m \u001B[38;5;124;03m\"\"\"\u001B[39;00m\n\u001B[1;32m   1513\u001B[0m \u001B[38;5;124;03mRead SQL query into a DataFrame.\u001B[39;00m\n\u001B[1;32m   1514\u001B[0m \n\u001B[0;32m   (...)\u001B[0m\n\u001B[1;32m   1556\u001B[0m \n\u001B[1;32m   1557\u001B[0m \u001B[38;5;124;03m\"\"\"\u001B[39;00m\n\u001B[1;32m   1558\u001B[0m args \u001B[38;5;241m=\u001B[39m _convert_params(sql, params)\n\u001B[0;32m-> 1560\u001B[0m result \u001B[38;5;241m=\u001B[39m \u001B[38;5;28;43mself\u001B[39;49m\u001B[38;5;241;43m.\u001B[39;49m\u001B[43mexecute\u001B[49m\u001B[43m(\u001B[49m\u001B[38;5;241;43m*\u001B[39;49m\u001B[43margs\u001B[49m\u001B[43m)\u001B[49m\n\u001B[1;32m   1561\u001B[0m columns \u001B[38;5;241m=\u001B[39m result\u001B[38;5;241m.\u001B[39mkeys()\n\u001B[1;32m   1563\u001B[0m \u001B[38;5;28;01mif\u001B[39;00m chunksize \u001B[38;5;129;01mis\u001B[39;00m \u001B[38;5;129;01mnot\u001B[39;00m \u001B[38;5;28;01mNone\u001B[39;00m:\n",
      "File \u001B[0;32m~/anaconda3/lib/python3.10/site-packages/pandas/io/sql.py:1405\u001B[0m, in \u001B[0;36mSQLDatabase.execute\u001B[0;34m(self, *args, **kwargs)\u001B[0m\n\u001B[1;32m   1403\u001B[0m \u001B[38;5;28;01mdef\u001B[39;00m \u001B[38;5;21mexecute\u001B[39m(\u001B[38;5;28mself\u001B[39m, \u001B[38;5;241m*\u001B[39margs, \u001B[38;5;241m*\u001B[39m\u001B[38;5;241m*\u001B[39mkwargs):\n\u001B[1;32m   1404\u001B[0m     \u001B[38;5;124;03m\"\"\"Simple passthrough to SQLAlchemy connectable\"\"\"\u001B[39;00m\n\u001B[0;32m-> 1405\u001B[0m     \u001B[38;5;28;01mreturn\u001B[39;00m \u001B[38;5;28;43mself\u001B[39;49m\u001B[38;5;241;43m.\u001B[39;49m\u001B[43mconnectable\u001B[49m\u001B[38;5;241;43m.\u001B[39;49m\u001B[43mexecution_options\u001B[49m\u001B[43m(\u001B[49m\u001B[43m)\u001B[49m\u001B[38;5;241;43m.\u001B[39;49m\u001B[43mexecute\u001B[49m\u001B[43m(\u001B[49m\u001B[38;5;241;43m*\u001B[39;49m\u001B[43margs\u001B[49m\u001B[43m,\u001B[49m\u001B[43m \u001B[49m\u001B[38;5;241;43m*\u001B[39;49m\u001B[38;5;241;43m*\u001B[39;49m\u001B[43mkwargs\u001B[49m\u001B[43m)\u001B[49m\n",
      "File \u001B[0;32m<string>:2\u001B[0m, in \u001B[0;36mexecute\u001B[0;34m(self, statement, *multiparams, **params)\u001B[0m\n",
      "File \u001B[0;32m~/anaconda3/lib/python3.10/site-packages/sqlalchemy/util/deprecations.py:402\u001B[0m, in \u001B[0;36m_decorate_with_warning.<locals>.warned\u001B[0;34m(fn, *args, **kwargs)\u001B[0m\n\u001B[1;32m    400\u001B[0m \u001B[38;5;28;01mif\u001B[39;00m \u001B[38;5;129;01mnot\u001B[39;00m skip_warning:\n\u001B[1;32m    401\u001B[0m     _warn_with_version(message, version, wtype, stacklevel\u001B[38;5;241m=\u001B[39m\u001B[38;5;241m3\u001B[39m)\n\u001B[0;32m--> 402\u001B[0m \u001B[38;5;28;01mreturn\u001B[39;00m \u001B[43mfn\u001B[49m\u001B[43m(\u001B[49m\u001B[38;5;241;43m*\u001B[39;49m\u001B[43margs\u001B[49m\u001B[43m,\u001B[49m\u001B[43m \u001B[49m\u001B[38;5;241;43m*\u001B[39;49m\u001B[38;5;241;43m*\u001B[39;49m\u001B[43mkwargs\u001B[49m\u001B[43m)\u001B[49m\n",
      "File \u001B[0;32m~/anaconda3/lib/python3.10/site-packages/sqlalchemy/engine/base.py:3175\u001B[0m, in \u001B[0;36mEngine.execute\u001B[0;34m(self, statement, *multiparams, **params)\u001B[0m\n\u001B[1;32m   3149\u001B[0m \u001B[38;5;129m@util\u001B[39m\u001B[38;5;241m.\u001B[39mdeprecated_20(\n\u001B[1;32m   3150\u001B[0m     \u001B[38;5;124m\"\u001B[39m\u001B[38;5;124m:meth:`_engine.Engine.execute`\u001B[39m\u001B[38;5;124m\"\u001B[39m,\n\u001B[1;32m   3151\u001B[0m     alternative\u001B[38;5;241m=\u001B[39m\u001B[38;5;124m\"\u001B[39m\u001B[38;5;124mAll statement execution in SQLAlchemy 2.0 is performed \u001B[39m\u001B[38;5;124m\"\u001B[39m\n\u001B[0;32m   (...)\u001B[0m\n\u001B[1;32m   3156\u001B[0m )\n\u001B[1;32m   3157\u001B[0m \u001B[38;5;28;01mdef\u001B[39;00m \u001B[38;5;21mexecute\u001B[39m(\u001B[38;5;28mself\u001B[39m, statement, \u001B[38;5;241m*\u001B[39mmultiparams, \u001B[38;5;241m*\u001B[39m\u001B[38;5;241m*\u001B[39mparams):\n\u001B[1;32m   3158\u001B[0m     \u001B[38;5;124;03m\"\"\"Executes the given construct and returns a\u001B[39;00m\n\u001B[1;32m   3159\u001B[0m \u001B[38;5;124;03m    :class:`_engine.CursorResult`.\u001B[39;00m\n\u001B[1;32m   3160\u001B[0m \n\u001B[0;32m   (...)\u001B[0m\n\u001B[1;32m   3173\u001B[0m \n\u001B[1;32m   3174\u001B[0m \u001B[38;5;124;03m    \"\"\"\u001B[39;00m\n\u001B[0;32m-> 3175\u001B[0m     connection \u001B[38;5;241m=\u001B[39m \u001B[38;5;28;43mself\u001B[39;49m\u001B[38;5;241;43m.\u001B[39;49m\u001B[43mconnect\u001B[49m\u001B[43m(\u001B[49m\u001B[43mclose_with_result\u001B[49m\u001B[38;5;241;43m=\u001B[39;49m\u001B[38;5;28;43;01mTrue\u001B[39;49;00m\u001B[43m)\u001B[49m\n\u001B[1;32m   3176\u001B[0m     \u001B[38;5;28;01mreturn\u001B[39;00m connection\u001B[38;5;241m.\u001B[39mexecute(statement, \u001B[38;5;241m*\u001B[39mmultiparams, \u001B[38;5;241m*\u001B[39m\u001B[38;5;241m*\u001B[39mparams)\n",
      "File \u001B[0;32m~/anaconda3/lib/python3.10/site-packages/sqlalchemy/engine/base.py:3234\u001B[0m, in \u001B[0;36mEngine.connect\u001B[0;34m(self, close_with_result)\u001B[0m\n\u001B[1;32m   3219\u001B[0m \u001B[38;5;28;01mdef\u001B[39;00m \u001B[38;5;21mconnect\u001B[39m(\u001B[38;5;28mself\u001B[39m, close_with_result\u001B[38;5;241m=\u001B[39m\u001B[38;5;28;01mFalse\u001B[39;00m):\n\u001B[1;32m   3220\u001B[0m     \u001B[38;5;124;03m\"\"\"Return a new :class:`_engine.Connection` object.\u001B[39;00m\n\u001B[1;32m   3221\u001B[0m \n\u001B[1;32m   3222\u001B[0m \u001B[38;5;124;03m    The :class:`_engine.Connection` object is a facade that uses a DBAPI\u001B[39;00m\n\u001B[0;32m   (...)\u001B[0m\n\u001B[1;32m   3231\u001B[0m \n\u001B[1;32m   3232\u001B[0m \u001B[38;5;124;03m    \"\"\"\u001B[39;00m\n\u001B[0;32m-> 3234\u001B[0m     \u001B[38;5;28;01mreturn\u001B[39;00m \u001B[38;5;28;43mself\u001B[39;49m\u001B[38;5;241;43m.\u001B[39;49m\u001B[43m_connection_cls\u001B[49m\u001B[43m(\u001B[49m\u001B[38;5;28;43mself\u001B[39;49m\u001B[43m,\u001B[49m\u001B[43m \u001B[49m\u001B[43mclose_with_result\u001B[49m\u001B[38;5;241;43m=\u001B[39;49m\u001B[43mclose_with_result\u001B[49m\u001B[43m)\u001B[49m\n",
      "File \u001B[0;32m~/anaconda3/lib/python3.10/site-packages/sqlalchemy/engine/base.py:96\u001B[0m, in \u001B[0;36mConnection.__init__\u001B[0;34m(self, engine, connection, close_with_result, _branch_from, _execution_options, _dispatch, _has_events, _allow_revalidate)\u001B[0m\n\u001B[1;32m     91\u001B[0m     \u001B[38;5;28mself\u001B[39m\u001B[38;5;241m.\u001B[39m_has_events \u001B[38;5;241m=\u001B[39m _branch_from\u001B[38;5;241m.\u001B[39m_has_events\n\u001B[1;32m     92\u001B[0m \u001B[38;5;28;01melse\u001B[39;00m:\n\u001B[1;32m     93\u001B[0m     \u001B[38;5;28mself\u001B[39m\u001B[38;5;241m.\u001B[39m_dbapi_connection \u001B[38;5;241m=\u001B[39m (\n\u001B[1;32m     94\u001B[0m         connection\n\u001B[1;32m     95\u001B[0m         \u001B[38;5;28;01mif\u001B[39;00m connection \u001B[38;5;129;01mis\u001B[39;00m \u001B[38;5;129;01mnot\u001B[39;00m \u001B[38;5;28;01mNone\u001B[39;00m\n\u001B[0;32m---> 96\u001B[0m         \u001B[38;5;28;01melse\u001B[39;00m \u001B[43mengine\u001B[49m\u001B[38;5;241;43m.\u001B[39;49m\u001B[43mraw_connection\u001B[49m\u001B[43m(\u001B[49m\u001B[43m)\u001B[49m\n\u001B[1;32m     97\u001B[0m     )\n\u001B[1;32m     99\u001B[0m     \u001B[38;5;28mself\u001B[39m\u001B[38;5;241m.\u001B[39m_transaction \u001B[38;5;241m=\u001B[39m \u001B[38;5;28mself\u001B[39m\u001B[38;5;241m.\u001B[39m_nested_transaction \u001B[38;5;241m=\u001B[39m \u001B[38;5;28;01mNone\u001B[39;00m\n\u001B[1;32m    100\u001B[0m     \u001B[38;5;28mself\u001B[39m\u001B[38;5;241m.\u001B[39m__savepoint_seq \u001B[38;5;241m=\u001B[39m \u001B[38;5;241m0\u001B[39m\n",
      "File \u001B[0;32m~/anaconda3/lib/python3.10/site-packages/sqlalchemy/engine/base.py:3313\u001B[0m, in \u001B[0;36mEngine.raw_connection\u001B[0;34m(self, _connection)\u001B[0m\n\u001B[1;32m   3291\u001B[0m \u001B[38;5;28;01mdef\u001B[39;00m \u001B[38;5;21mraw_connection\u001B[39m(\u001B[38;5;28mself\u001B[39m, _connection\u001B[38;5;241m=\u001B[39m\u001B[38;5;28;01mNone\u001B[39;00m):\n\u001B[1;32m   3292\u001B[0m     \u001B[38;5;124;03m\"\"\"Return a \"raw\" DBAPI connection from the connection pool.\u001B[39;00m\n\u001B[1;32m   3293\u001B[0m \n\u001B[1;32m   3294\u001B[0m \u001B[38;5;124;03m    The returned object is a proxied version of the DBAPI\u001B[39;00m\n\u001B[0;32m   (...)\u001B[0m\n\u001B[1;32m   3311\u001B[0m \n\u001B[1;32m   3312\u001B[0m \u001B[38;5;124;03m    \"\"\"\u001B[39;00m\n\u001B[0;32m-> 3313\u001B[0m     \u001B[38;5;28;01mreturn\u001B[39;00m \u001B[38;5;28;43mself\u001B[39;49m\u001B[38;5;241;43m.\u001B[39;49m\u001B[43m_wrap_pool_connect\u001B[49m\u001B[43m(\u001B[49m\u001B[38;5;28;43mself\u001B[39;49m\u001B[38;5;241;43m.\u001B[39;49m\u001B[43mpool\u001B[49m\u001B[38;5;241;43m.\u001B[39;49m\u001B[43mconnect\u001B[49m\u001B[43m,\u001B[49m\u001B[43m \u001B[49m\u001B[43m_connection\u001B[49m\u001B[43m)\u001B[49m\n",
      "File \u001B[0;32m~/anaconda3/lib/python3.10/site-packages/sqlalchemy/engine/base.py:3283\u001B[0m, in \u001B[0;36mEngine._wrap_pool_connect\u001B[0;34m(self, fn, connection)\u001B[0m\n\u001B[1;32m   3281\u001B[0m \u001B[38;5;28;01mexcept\u001B[39;00m dialect\u001B[38;5;241m.\u001B[39mdbapi\u001B[38;5;241m.\u001B[39mError \u001B[38;5;28;01mas\u001B[39;00m e:\n\u001B[1;32m   3282\u001B[0m     \u001B[38;5;28;01mif\u001B[39;00m connection \u001B[38;5;129;01mis\u001B[39;00m \u001B[38;5;28;01mNone\u001B[39;00m:\n\u001B[0;32m-> 3283\u001B[0m         \u001B[43mConnection\u001B[49m\u001B[38;5;241;43m.\u001B[39;49m\u001B[43m_handle_dbapi_exception_noconnection\u001B[49m\u001B[43m(\u001B[49m\n\u001B[1;32m   3284\u001B[0m \u001B[43m            \u001B[49m\u001B[43me\u001B[49m\u001B[43m,\u001B[49m\u001B[43m \u001B[49m\u001B[43mdialect\u001B[49m\u001B[43m,\u001B[49m\u001B[43m \u001B[49m\u001B[38;5;28;43mself\u001B[39;49m\n\u001B[1;32m   3285\u001B[0m \u001B[43m        \u001B[49m\u001B[43m)\u001B[49m\n\u001B[1;32m   3286\u001B[0m     \u001B[38;5;28;01melse\u001B[39;00m:\n\u001B[1;32m   3287\u001B[0m         util\u001B[38;5;241m.\u001B[39mraise_(\n\u001B[1;32m   3288\u001B[0m             sys\u001B[38;5;241m.\u001B[39mexc_info()[\u001B[38;5;241m1\u001B[39m], with_traceback\u001B[38;5;241m=\u001B[39msys\u001B[38;5;241m.\u001B[39mexc_info()[\u001B[38;5;241m2\u001B[39m]\n\u001B[1;32m   3289\u001B[0m         )\n",
      "File \u001B[0;32m~/anaconda3/lib/python3.10/site-packages/sqlalchemy/engine/base.py:2117\u001B[0m, in \u001B[0;36mConnection._handle_dbapi_exception_noconnection\u001B[0;34m(cls, e, dialect, engine)\u001B[0m\n\u001B[1;32m   2115\u001B[0m     util\u001B[38;5;241m.\u001B[39mraise_(newraise, with_traceback\u001B[38;5;241m=\u001B[39mexc_info[\u001B[38;5;241m2\u001B[39m], from_\u001B[38;5;241m=\u001B[39me)\n\u001B[1;32m   2116\u001B[0m \u001B[38;5;28;01melif\u001B[39;00m should_wrap:\n\u001B[0;32m-> 2117\u001B[0m     \u001B[43mutil\u001B[49m\u001B[38;5;241;43m.\u001B[39;49m\u001B[43mraise_\u001B[49m\u001B[43m(\u001B[49m\n\u001B[1;32m   2118\u001B[0m \u001B[43m        \u001B[49m\u001B[43msqlalchemy_exception\u001B[49m\u001B[43m,\u001B[49m\u001B[43m \u001B[49m\u001B[43mwith_traceback\u001B[49m\u001B[38;5;241;43m=\u001B[39;49m\u001B[43mexc_info\u001B[49m\u001B[43m[\u001B[49m\u001B[38;5;241;43m2\u001B[39;49m\u001B[43m]\u001B[49m\u001B[43m,\u001B[49m\u001B[43m \u001B[49m\u001B[43mfrom_\u001B[49m\u001B[38;5;241;43m=\u001B[39;49m\u001B[43me\u001B[49m\n\u001B[1;32m   2119\u001B[0m \u001B[43m    \u001B[49m\u001B[43m)\u001B[49m\n\u001B[1;32m   2120\u001B[0m \u001B[38;5;28;01melse\u001B[39;00m:\n\u001B[1;32m   2121\u001B[0m     util\u001B[38;5;241m.\u001B[39mraise_(exc_info[\u001B[38;5;241m1\u001B[39m], with_traceback\u001B[38;5;241m=\u001B[39mexc_info[\u001B[38;5;241m2\u001B[39m])\n",
      "File \u001B[0;32m~/anaconda3/lib/python3.10/site-packages/sqlalchemy/util/compat.py:208\u001B[0m, in \u001B[0;36mraise_\u001B[0;34m(***failed resolving arguments***)\u001B[0m\n\u001B[1;32m    205\u001B[0m     exception\u001B[38;5;241m.\u001B[39m__cause__ \u001B[38;5;241m=\u001B[39m replace_context\n\u001B[1;32m    207\u001B[0m \u001B[38;5;28;01mtry\u001B[39;00m:\n\u001B[0;32m--> 208\u001B[0m     \u001B[38;5;28;01mraise\u001B[39;00m exception\n\u001B[1;32m    209\u001B[0m \u001B[38;5;28;01mfinally\u001B[39;00m:\n\u001B[1;32m    210\u001B[0m     \u001B[38;5;66;03m# credit to\u001B[39;00m\n\u001B[1;32m    211\u001B[0m     \u001B[38;5;66;03m# https://cosmicpercolator.com/2016/01/13/exception-leaks-in-python-2-and-3/\u001B[39;00m\n\u001B[1;32m    212\u001B[0m     \u001B[38;5;66;03m# as the __traceback__ object creates a cycle\u001B[39;00m\n\u001B[1;32m    213\u001B[0m     \u001B[38;5;28;01mdel\u001B[39;00m exception, replace_context, from_, with_traceback\n",
      "File \u001B[0;32m~/anaconda3/lib/python3.10/site-packages/sqlalchemy/engine/base.py:3280\u001B[0m, in \u001B[0;36mEngine._wrap_pool_connect\u001B[0;34m(self, fn, connection)\u001B[0m\n\u001B[1;32m   3278\u001B[0m dialect \u001B[38;5;241m=\u001B[39m \u001B[38;5;28mself\u001B[39m\u001B[38;5;241m.\u001B[39mdialect\n\u001B[1;32m   3279\u001B[0m \u001B[38;5;28;01mtry\u001B[39;00m:\n\u001B[0;32m-> 3280\u001B[0m     \u001B[38;5;28;01mreturn\u001B[39;00m \u001B[43mfn\u001B[49m\u001B[43m(\u001B[49m\u001B[43m)\u001B[49m\n\u001B[1;32m   3281\u001B[0m \u001B[38;5;28;01mexcept\u001B[39;00m dialect\u001B[38;5;241m.\u001B[39mdbapi\u001B[38;5;241m.\u001B[39mError \u001B[38;5;28;01mas\u001B[39;00m e:\n\u001B[1;32m   3282\u001B[0m     \u001B[38;5;28;01mif\u001B[39;00m connection \u001B[38;5;129;01mis\u001B[39;00m \u001B[38;5;28;01mNone\u001B[39;00m:\n",
      "File \u001B[0;32m~/anaconda3/lib/python3.10/site-packages/sqlalchemy/pool/base.py:310\u001B[0m, in \u001B[0;36mPool.connect\u001B[0;34m(self)\u001B[0m\n\u001B[1;32m    302\u001B[0m \u001B[38;5;28;01mdef\u001B[39;00m \u001B[38;5;21mconnect\u001B[39m(\u001B[38;5;28mself\u001B[39m):\n\u001B[1;32m    303\u001B[0m     \u001B[38;5;124;03m\"\"\"Return a DBAPI connection from the pool.\u001B[39;00m\n\u001B[1;32m    304\u001B[0m \n\u001B[1;32m    305\u001B[0m \u001B[38;5;124;03m    The connection is instrumented such that when its\u001B[39;00m\n\u001B[0;32m   (...)\u001B[0m\n\u001B[1;32m    308\u001B[0m \n\u001B[1;32m    309\u001B[0m \u001B[38;5;124;03m    \"\"\"\u001B[39;00m\n\u001B[0;32m--> 310\u001B[0m     \u001B[38;5;28;01mreturn\u001B[39;00m \u001B[43m_ConnectionFairy\u001B[49m\u001B[38;5;241;43m.\u001B[39;49m\u001B[43m_checkout\u001B[49m\u001B[43m(\u001B[49m\u001B[38;5;28;43mself\u001B[39;49m\u001B[43m)\u001B[49m\n",
      "File \u001B[0;32m~/anaconda3/lib/python3.10/site-packages/sqlalchemy/pool/base.py:868\u001B[0m, in \u001B[0;36m_ConnectionFairy._checkout\u001B[0;34m(cls, pool, threadconns, fairy)\u001B[0m\n\u001B[1;32m    865\u001B[0m \u001B[38;5;129m@classmethod\u001B[39m\n\u001B[1;32m    866\u001B[0m \u001B[38;5;28;01mdef\u001B[39;00m \u001B[38;5;21m_checkout\u001B[39m(\u001B[38;5;28mcls\u001B[39m, pool, threadconns\u001B[38;5;241m=\u001B[39m\u001B[38;5;28;01mNone\u001B[39;00m, fairy\u001B[38;5;241m=\u001B[39m\u001B[38;5;28;01mNone\u001B[39;00m):\n\u001B[1;32m    867\u001B[0m     \u001B[38;5;28;01mif\u001B[39;00m \u001B[38;5;129;01mnot\u001B[39;00m fairy:\n\u001B[0;32m--> 868\u001B[0m         fairy \u001B[38;5;241m=\u001B[39m \u001B[43m_ConnectionRecord\u001B[49m\u001B[38;5;241;43m.\u001B[39;49m\u001B[43mcheckout\u001B[49m\u001B[43m(\u001B[49m\u001B[43mpool\u001B[49m\u001B[43m)\u001B[49m\n\u001B[1;32m    870\u001B[0m         fairy\u001B[38;5;241m.\u001B[39m_pool \u001B[38;5;241m=\u001B[39m pool\n\u001B[1;32m    871\u001B[0m         fairy\u001B[38;5;241m.\u001B[39m_counter \u001B[38;5;241m=\u001B[39m \u001B[38;5;241m0\u001B[39m\n",
      "File \u001B[0;32m~/anaconda3/lib/python3.10/site-packages/sqlalchemy/pool/base.py:476\u001B[0m, in \u001B[0;36m_ConnectionRecord.checkout\u001B[0;34m(cls, pool)\u001B[0m\n\u001B[1;32m    474\u001B[0m \u001B[38;5;129m@classmethod\u001B[39m\n\u001B[1;32m    475\u001B[0m \u001B[38;5;28;01mdef\u001B[39;00m \u001B[38;5;21mcheckout\u001B[39m(\u001B[38;5;28mcls\u001B[39m, pool):\n\u001B[0;32m--> 476\u001B[0m     rec \u001B[38;5;241m=\u001B[39m \u001B[43mpool\u001B[49m\u001B[38;5;241;43m.\u001B[39;49m\u001B[43m_do_get\u001B[49m\u001B[43m(\u001B[49m\u001B[43m)\u001B[49m\n\u001B[1;32m    477\u001B[0m     \u001B[38;5;28;01mtry\u001B[39;00m:\n\u001B[1;32m    478\u001B[0m         dbapi_connection \u001B[38;5;241m=\u001B[39m rec\u001B[38;5;241m.\u001B[39mget_connection()\n",
      "File \u001B[0;32m~/anaconda3/lib/python3.10/site-packages/sqlalchemy/pool/impl.py:145\u001B[0m, in \u001B[0;36mQueuePool._do_get\u001B[0;34m(self)\u001B[0m\n\u001B[1;32m    143\u001B[0m         \u001B[38;5;28;01mreturn\u001B[39;00m \u001B[38;5;28mself\u001B[39m\u001B[38;5;241m.\u001B[39m_create_connection()\n\u001B[1;32m    144\u001B[0m     \u001B[38;5;28;01mexcept\u001B[39;00m:\n\u001B[0;32m--> 145\u001B[0m         \u001B[38;5;28;01mwith\u001B[39;00m util\u001B[38;5;241m.\u001B[39msafe_reraise():\n\u001B[1;32m    146\u001B[0m             \u001B[38;5;28mself\u001B[39m\u001B[38;5;241m.\u001B[39m_dec_overflow()\n\u001B[1;32m    147\u001B[0m \u001B[38;5;28;01melse\u001B[39;00m:\n",
      "File \u001B[0;32m~/anaconda3/lib/python3.10/site-packages/sqlalchemy/util/langhelpers.py:70\u001B[0m, in \u001B[0;36msafe_reraise.__exit__\u001B[0;34m(self, type_, value, traceback)\u001B[0m\n\u001B[1;32m     68\u001B[0m     \u001B[38;5;28mself\u001B[39m\u001B[38;5;241m.\u001B[39m_exc_info \u001B[38;5;241m=\u001B[39m \u001B[38;5;28;01mNone\u001B[39;00m  \u001B[38;5;66;03m# remove potential circular references\u001B[39;00m\n\u001B[1;32m     69\u001B[0m     \u001B[38;5;28;01mif\u001B[39;00m \u001B[38;5;129;01mnot\u001B[39;00m \u001B[38;5;28mself\u001B[39m\u001B[38;5;241m.\u001B[39mwarn_only:\n\u001B[0;32m---> 70\u001B[0m         \u001B[43mcompat\u001B[49m\u001B[38;5;241;43m.\u001B[39;49m\u001B[43mraise_\u001B[49m\u001B[43m(\u001B[49m\n\u001B[1;32m     71\u001B[0m \u001B[43m            \u001B[49m\u001B[43mexc_value\u001B[49m\u001B[43m,\u001B[49m\n\u001B[1;32m     72\u001B[0m \u001B[43m            \u001B[49m\u001B[43mwith_traceback\u001B[49m\u001B[38;5;241;43m=\u001B[39;49m\u001B[43mexc_tb\u001B[49m\u001B[43m,\u001B[49m\n\u001B[1;32m     73\u001B[0m \u001B[43m        \u001B[49m\u001B[43m)\u001B[49m\n\u001B[1;32m     74\u001B[0m \u001B[38;5;28;01melse\u001B[39;00m:\n\u001B[1;32m     75\u001B[0m     \u001B[38;5;28;01mif\u001B[39;00m \u001B[38;5;129;01mnot\u001B[39;00m compat\u001B[38;5;241m.\u001B[39mpy3k \u001B[38;5;129;01mand\u001B[39;00m \u001B[38;5;28mself\u001B[39m\u001B[38;5;241m.\u001B[39m_exc_info \u001B[38;5;129;01mand\u001B[39;00m \u001B[38;5;28mself\u001B[39m\u001B[38;5;241m.\u001B[39m_exc_info[\u001B[38;5;241m1\u001B[39m]:\n\u001B[1;32m     76\u001B[0m         \u001B[38;5;66;03m# emulate Py3K's behavior of telling us when an exception\u001B[39;00m\n\u001B[1;32m     77\u001B[0m         \u001B[38;5;66;03m# occurs in an exception handler.\u001B[39;00m\n",
      "File \u001B[0;32m~/anaconda3/lib/python3.10/site-packages/sqlalchemy/util/compat.py:208\u001B[0m, in \u001B[0;36mraise_\u001B[0;34m(***failed resolving arguments***)\u001B[0m\n\u001B[1;32m    205\u001B[0m     exception\u001B[38;5;241m.\u001B[39m__cause__ \u001B[38;5;241m=\u001B[39m replace_context\n\u001B[1;32m    207\u001B[0m \u001B[38;5;28;01mtry\u001B[39;00m:\n\u001B[0;32m--> 208\u001B[0m     \u001B[38;5;28;01mraise\u001B[39;00m exception\n\u001B[1;32m    209\u001B[0m \u001B[38;5;28;01mfinally\u001B[39;00m:\n\u001B[1;32m    210\u001B[0m     \u001B[38;5;66;03m# credit to\u001B[39;00m\n\u001B[1;32m    211\u001B[0m     \u001B[38;5;66;03m# https://cosmicpercolator.com/2016/01/13/exception-leaks-in-python-2-and-3/\u001B[39;00m\n\u001B[1;32m    212\u001B[0m     \u001B[38;5;66;03m# as the __traceback__ object creates a cycle\u001B[39;00m\n\u001B[1;32m    213\u001B[0m     \u001B[38;5;28;01mdel\u001B[39;00m exception, replace_context, from_, with_traceback\n",
      "File \u001B[0;32m~/anaconda3/lib/python3.10/site-packages/sqlalchemy/pool/impl.py:143\u001B[0m, in \u001B[0;36mQueuePool._do_get\u001B[0;34m(self)\u001B[0m\n\u001B[1;32m    141\u001B[0m \u001B[38;5;28;01mif\u001B[39;00m \u001B[38;5;28mself\u001B[39m\u001B[38;5;241m.\u001B[39m_inc_overflow():\n\u001B[1;32m    142\u001B[0m     \u001B[38;5;28;01mtry\u001B[39;00m:\n\u001B[0;32m--> 143\u001B[0m         \u001B[38;5;28;01mreturn\u001B[39;00m \u001B[38;5;28;43mself\u001B[39;49m\u001B[38;5;241;43m.\u001B[39;49m\u001B[43m_create_connection\u001B[49m\u001B[43m(\u001B[49m\u001B[43m)\u001B[49m\n\u001B[1;32m    144\u001B[0m     \u001B[38;5;28;01mexcept\u001B[39;00m:\n\u001B[1;32m    145\u001B[0m         \u001B[38;5;28;01mwith\u001B[39;00m util\u001B[38;5;241m.\u001B[39msafe_reraise():\n",
      "File \u001B[0;32m~/anaconda3/lib/python3.10/site-packages/sqlalchemy/pool/base.py:256\u001B[0m, in \u001B[0;36mPool._create_connection\u001B[0;34m(self)\u001B[0m\n\u001B[1;32m    253\u001B[0m \u001B[38;5;28;01mdef\u001B[39;00m \u001B[38;5;21m_create_connection\u001B[39m(\u001B[38;5;28mself\u001B[39m):\n\u001B[1;32m    254\u001B[0m     \u001B[38;5;124;03m\"\"\"Called by subclasses to create a new ConnectionRecord.\"\"\"\u001B[39;00m\n\u001B[0;32m--> 256\u001B[0m     \u001B[38;5;28;01mreturn\u001B[39;00m \u001B[43m_ConnectionRecord\u001B[49m\u001B[43m(\u001B[49m\u001B[38;5;28;43mself\u001B[39;49m\u001B[43m)\u001B[49m\n",
      "File \u001B[0;32m~/anaconda3/lib/python3.10/site-packages/sqlalchemy/pool/base.py:371\u001B[0m, in \u001B[0;36m_ConnectionRecord.__init__\u001B[0;34m(self, pool, connect)\u001B[0m\n\u001B[1;32m    369\u001B[0m \u001B[38;5;28mself\u001B[39m\u001B[38;5;241m.\u001B[39m__pool \u001B[38;5;241m=\u001B[39m pool\n\u001B[1;32m    370\u001B[0m \u001B[38;5;28;01mif\u001B[39;00m connect:\n\u001B[0;32m--> 371\u001B[0m     \u001B[38;5;28;43mself\u001B[39;49m\u001B[38;5;241;43m.\u001B[39;49m\u001B[43m__connect\u001B[49m\u001B[43m(\u001B[49m\u001B[43m)\u001B[49m\n\u001B[1;32m    372\u001B[0m \u001B[38;5;28mself\u001B[39m\u001B[38;5;241m.\u001B[39mfinalize_callback \u001B[38;5;241m=\u001B[39m deque()\n",
      "File \u001B[0;32m~/anaconda3/lib/python3.10/site-packages/sqlalchemy/pool/base.py:665\u001B[0m, in \u001B[0;36m_ConnectionRecord.__connect\u001B[0;34m(self)\u001B[0m\n\u001B[1;32m    663\u001B[0m     \u001B[38;5;28mself\u001B[39m\u001B[38;5;241m.\u001B[39mfresh \u001B[38;5;241m=\u001B[39m \u001B[38;5;28;01mTrue\u001B[39;00m\n\u001B[1;32m    664\u001B[0m \u001B[38;5;28;01mexcept\u001B[39;00m \u001B[38;5;167;01mException\u001B[39;00m \u001B[38;5;28;01mas\u001B[39;00m e:\n\u001B[0;32m--> 665\u001B[0m     \u001B[38;5;28;01mwith\u001B[39;00m util\u001B[38;5;241m.\u001B[39msafe_reraise():\n\u001B[1;32m    666\u001B[0m         pool\u001B[38;5;241m.\u001B[39mlogger\u001B[38;5;241m.\u001B[39mdebug(\u001B[38;5;124m\"\u001B[39m\u001B[38;5;124mError on connect(): \u001B[39m\u001B[38;5;132;01m%s\u001B[39;00m\u001B[38;5;124m\"\u001B[39m, e)\n\u001B[1;32m    667\u001B[0m \u001B[38;5;28;01melse\u001B[39;00m:\n\u001B[1;32m    668\u001B[0m     \u001B[38;5;66;03m# in SQLAlchemy 1.4 the first_connect event is not used by\u001B[39;00m\n\u001B[1;32m    669\u001B[0m     \u001B[38;5;66;03m# the engine, so this will usually not be set\u001B[39;00m\n",
      "File \u001B[0;32m~/anaconda3/lib/python3.10/site-packages/sqlalchemy/util/langhelpers.py:70\u001B[0m, in \u001B[0;36msafe_reraise.__exit__\u001B[0;34m(self, type_, value, traceback)\u001B[0m\n\u001B[1;32m     68\u001B[0m     \u001B[38;5;28mself\u001B[39m\u001B[38;5;241m.\u001B[39m_exc_info \u001B[38;5;241m=\u001B[39m \u001B[38;5;28;01mNone\u001B[39;00m  \u001B[38;5;66;03m# remove potential circular references\u001B[39;00m\n\u001B[1;32m     69\u001B[0m     \u001B[38;5;28;01mif\u001B[39;00m \u001B[38;5;129;01mnot\u001B[39;00m \u001B[38;5;28mself\u001B[39m\u001B[38;5;241m.\u001B[39mwarn_only:\n\u001B[0;32m---> 70\u001B[0m         \u001B[43mcompat\u001B[49m\u001B[38;5;241;43m.\u001B[39;49m\u001B[43mraise_\u001B[49m\u001B[43m(\u001B[49m\n\u001B[1;32m     71\u001B[0m \u001B[43m            \u001B[49m\u001B[43mexc_value\u001B[49m\u001B[43m,\u001B[49m\n\u001B[1;32m     72\u001B[0m \u001B[43m            \u001B[49m\u001B[43mwith_traceback\u001B[49m\u001B[38;5;241;43m=\u001B[39;49m\u001B[43mexc_tb\u001B[49m\u001B[43m,\u001B[49m\n\u001B[1;32m     73\u001B[0m \u001B[43m        \u001B[49m\u001B[43m)\u001B[49m\n\u001B[1;32m     74\u001B[0m \u001B[38;5;28;01melse\u001B[39;00m:\n\u001B[1;32m     75\u001B[0m     \u001B[38;5;28;01mif\u001B[39;00m \u001B[38;5;129;01mnot\u001B[39;00m compat\u001B[38;5;241m.\u001B[39mpy3k \u001B[38;5;129;01mand\u001B[39;00m \u001B[38;5;28mself\u001B[39m\u001B[38;5;241m.\u001B[39m_exc_info \u001B[38;5;129;01mand\u001B[39;00m \u001B[38;5;28mself\u001B[39m\u001B[38;5;241m.\u001B[39m_exc_info[\u001B[38;5;241m1\u001B[39m]:\n\u001B[1;32m     76\u001B[0m         \u001B[38;5;66;03m# emulate Py3K's behavior of telling us when an exception\u001B[39;00m\n\u001B[1;32m     77\u001B[0m         \u001B[38;5;66;03m# occurs in an exception handler.\u001B[39;00m\n",
      "File \u001B[0;32m~/anaconda3/lib/python3.10/site-packages/sqlalchemy/util/compat.py:208\u001B[0m, in \u001B[0;36mraise_\u001B[0;34m(***failed resolving arguments***)\u001B[0m\n\u001B[1;32m    205\u001B[0m     exception\u001B[38;5;241m.\u001B[39m__cause__ \u001B[38;5;241m=\u001B[39m replace_context\n\u001B[1;32m    207\u001B[0m \u001B[38;5;28;01mtry\u001B[39;00m:\n\u001B[0;32m--> 208\u001B[0m     \u001B[38;5;28;01mraise\u001B[39;00m exception\n\u001B[1;32m    209\u001B[0m \u001B[38;5;28;01mfinally\u001B[39;00m:\n\u001B[1;32m    210\u001B[0m     \u001B[38;5;66;03m# credit to\u001B[39;00m\n\u001B[1;32m    211\u001B[0m     \u001B[38;5;66;03m# https://cosmicpercolator.com/2016/01/13/exception-leaks-in-python-2-and-3/\u001B[39;00m\n\u001B[1;32m    212\u001B[0m     \u001B[38;5;66;03m# as the __traceback__ object creates a cycle\u001B[39;00m\n\u001B[1;32m    213\u001B[0m     \u001B[38;5;28;01mdel\u001B[39;00m exception, replace_context, from_, with_traceback\n",
      "File \u001B[0;32m~/anaconda3/lib/python3.10/site-packages/sqlalchemy/pool/base.py:661\u001B[0m, in \u001B[0;36m_ConnectionRecord.__connect\u001B[0;34m(self)\u001B[0m\n\u001B[1;32m    659\u001B[0m \u001B[38;5;28;01mtry\u001B[39;00m:\n\u001B[1;32m    660\u001B[0m     \u001B[38;5;28mself\u001B[39m\u001B[38;5;241m.\u001B[39mstarttime \u001B[38;5;241m=\u001B[39m time\u001B[38;5;241m.\u001B[39mtime()\n\u001B[0;32m--> 661\u001B[0m     \u001B[38;5;28mself\u001B[39m\u001B[38;5;241m.\u001B[39mdbapi_connection \u001B[38;5;241m=\u001B[39m connection \u001B[38;5;241m=\u001B[39m \u001B[43mpool\u001B[49m\u001B[38;5;241;43m.\u001B[39;49m\u001B[43m_invoke_creator\u001B[49m\u001B[43m(\u001B[49m\u001B[38;5;28;43mself\u001B[39;49m\u001B[43m)\u001B[49m\n\u001B[1;32m    662\u001B[0m     pool\u001B[38;5;241m.\u001B[39mlogger\u001B[38;5;241m.\u001B[39mdebug(\u001B[38;5;124m\"\u001B[39m\u001B[38;5;124mCreated new connection \u001B[39m\u001B[38;5;132;01m%r\u001B[39;00m\u001B[38;5;124m\"\u001B[39m, connection)\n\u001B[1;32m    663\u001B[0m     \u001B[38;5;28mself\u001B[39m\u001B[38;5;241m.\u001B[39mfresh \u001B[38;5;241m=\u001B[39m \u001B[38;5;28;01mTrue\u001B[39;00m\n",
      "File \u001B[0;32m~/anaconda3/lib/python3.10/site-packages/sqlalchemy/engine/create.py:590\u001B[0m, in \u001B[0;36mcreate_engine.<locals>.connect\u001B[0;34m(connection_record)\u001B[0m\n\u001B[1;32m    588\u001B[0m         \u001B[38;5;28;01mif\u001B[39;00m connection \u001B[38;5;129;01mis\u001B[39;00m \u001B[38;5;129;01mnot\u001B[39;00m \u001B[38;5;28;01mNone\u001B[39;00m:\n\u001B[1;32m    589\u001B[0m             \u001B[38;5;28;01mreturn\u001B[39;00m connection\n\u001B[0;32m--> 590\u001B[0m \u001B[38;5;28;01mreturn\u001B[39;00m \u001B[43mdialect\u001B[49m\u001B[38;5;241;43m.\u001B[39;49m\u001B[43mconnect\u001B[49m\u001B[43m(\u001B[49m\u001B[38;5;241;43m*\u001B[39;49m\u001B[43mcargs\u001B[49m\u001B[43m,\u001B[49m\u001B[43m \u001B[49m\u001B[38;5;241;43m*\u001B[39;49m\u001B[38;5;241;43m*\u001B[39;49m\u001B[43mcparams\u001B[49m\u001B[43m)\u001B[49m\n",
      "File \u001B[0;32m~/anaconda3/lib/python3.10/site-packages/sqlalchemy/engine/default.py:597\u001B[0m, in \u001B[0;36mDefaultDialect.connect\u001B[0;34m(self, *cargs, **cparams)\u001B[0m\n\u001B[1;32m    595\u001B[0m \u001B[38;5;28;01mdef\u001B[39;00m \u001B[38;5;21mconnect\u001B[39m(\u001B[38;5;28mself\u001B[39m, \u001B[38;5;241m*\u001B[39mcargs, \u001B[38;5;241m*\u001B[39m\u001B[38;5;241m*\u001B[39mcparams):\n\u001B[1;32m    596\u001B[0m     \u001B[38;5;66;03m# inherits the docstring from interfaces.Dialect.connect\u001B[39;00m\n\u001B[0;32m--> 597\u001B[0m     \u001B[38;5;28;01mreturn\u001B[39;00m \u001B[38;5;28;43mself\u001B[39;49m\u001B[38;5;241;43m.\u001B[39;49m\u001B[43mdbapi\u001B[49m\u001B[38;5;241;43m.\u001B[39;49m\u001B[43mconnect\u001B[49m\u001B[43m(\u001B[49m\u001B[38;5;241;43m*\u001B[39;49m\u001B[43mcargs\u001B[49m\u001B[43m,\u001B[49m\u001B[43m \u001B[49m\u001B[38;5;241;43m*\u001B[39;49m\u001B[38;5;241;43m*\u001B[39;49m\u001B[43mcparams\u001B[49m\u001B[43m)\u001B[49m\n",
      "File \u001B[0;32m~/anaconda3/lib/python3.10/site-packages/pymysql/connections.py:352\u001B[0m, in \u001B[0;36mConnection.__init__\u001B[0;34m(self, user, password, host, database, unix_socket, port, charset, sql_mode, read_default_file, conv, use_unicode, client_flag, cursorclass, init_command, connect_timeout, read_default_group, autocommit, local_infile, max_allowed_packet, defer_connect, auth_plugin_map, read_timeout, write_timeout, bind_address, binary_prefix, program_name, server_public_key, ssl, ssl_ca, ssl_cert, ssl_disabled, ssl_key, ssl_verify_cert, ssl_verify_identity, compress, named_pipe, passwd, db)\u001B[0m\n\u001B[1;32m    350\u001B[0m     \u001B[38;5;28mself\u001B[39m\u001B[38;5;241m.\u001B[39m_sock \u001B[38;5;241m=\u001B[39m \u001B[38;5;28;01mNone\u001B[39;00m\n\u001B[1;32m    351\u001B[0m \u001B[38;5;28;01melse\u001B[39;00m:\n\u001B[0;32m--> 352\u001B[0m     \u001B[38;5;28;43mself\u001B[39;49m\u001B[38;5;241;43m.\u001B[39;49m\u001B[43mconnect\u001B[49m\u001B[43m(\u001B[49m\u001B[43m)\u001B[49m\n",
      "File \u001B[0;32m~/anaconda3/lib/python3.10/site-packages/pymysql/connections.py:636\u001B[0m, in \u001B[0;36mConnection.connect\u001B[0;34m(self, sock)\u001B[0m\n\u001B[1;32m    633\u001B[0m \u001B[38;5;28mself\u001B[39m\u001B[38;5;241m.\u001B[39m_next_seq_id \u001B[38;5;241m=\u001B[39m \u001B[38;5;241m0\u001B[39m\n\u001B[1;32m    635\u001B[0m \u001B[38;5;28mself\u001B[39m\u001B[38;5;241m.\u001B[39m_get_server_information()\n\u001B[0;32m--> 636\u001B[0m \u001B[38;5;28;43mself\u001B[39;49m\u001B[38;5;241;43m.\u001B[39;49m\u001B[43m_request_authentication\u001B[49m\u001B[43m(\u001B[49m\u001B[43m)\u001B[49m\n\u001B[1;32m    638\u001B[0m \u001B[38;5;28;01mif\u001B[39;00m \u001B[38;5;28mself\u001B[39m\u001B[38;5;241m.\u001B[39msql_mode \u001B[38;5;129;01mis\u001B[39;00m \u001B[38;5;129;01mnot\u001B[39;00m \u001B[38;5;28;01mNone\u001B[39;00m:\n\u001B[1;32m    639\u001B[0m     c \u001B[38;5;241m=\u001B[39m \u001B[38;5;28mself\u001B[39m\u001B[38;5;241m.\u001B[39mcursor()\n",
      "File \u001B[0;32m~/anaconda3/lib/python3.10/site-packages/pymysql/connections.py:911\u001B[0m, in \u001B[0;36mConnection._request_authentication\u001B[0;34m(self)\u001B[0m\n\u001B[1;32m    908\u001B[0m     data \u001B[38;5;241m+\u001B[39m\u001B[38;5;241m=\u001B[39m _lenenc_int(\u001B[38;5;28mlen\u001B[39m(connect_attrs)) \u001B[38;5;241m+\u001B[39m connect_attrs\n\u001B[1;32m    910\u001B[0m \u001B[38;5;28mself\u001B[39m\u001B[38;5;241m.\u001B[39mwrite_packet(data)\n\u001B[0;32m--> 911\u001B[0m auth_packet \u001B[38;5;241m=\u001B[39m \u001B[38;5;28;43mself\u001B[39;49m\u001B[38;5;241;43m.\u001B[39;49m\u001B[43m_read_packet\u001B[49m\u001B[43m(\u001B[49m\u001B[43m)\u001B[49m\n\u001B[1;32m    913\u001B[0m \u001B[38;5;66;03m# if authentication method isn't accepted the first byte\u001B[39;00m\n\u001B[1;32m    914\u001B[0m \u001B[38;5;66;03m# will have the octet 254\u001B[39;00m\n\u001B[1;32m    915\u001B[0m \u001B[38;5;28;01mif\u001B[39;00m auth_packet\u001B[38;5;241m.\u001B[39mis_auth_switch_request():\n",
      "File \u001B[0;32m~/anaconda3/lib/python3.10/site-packages/pymysql/connections.py:729\u001B[0m, in \u001B[0;36mConnection._read_packet\u001B[0;34m(self, packet_type)\u001B[0m\n\u001B[1;32m    727\u001B[0m     \u001B[38;5;28;01mif\u001B[39;00m \u001B[38;5;28mself\u001B[39m\u001B[38;5;241m.\u001B[39m_result \u001B[38;5;129;01mis\u001B[39;00m \u001B[38;5;129;01mnot\u001B[39;00m \u001B[38;5;28;01mNone\u001B[39;00m \u001B[38;5;129;01mand\u001B[39;00m \u001B[38;5;28mself\u001B[39m\u001B[38;5;241m.\u001B[39m_result\u001B[38;5;241m.\u001B[39munbuffered_active \u001B[38;5;129;01mis\u001B[39;00m \u001B[38;5;28;01mTrue\u001B[39;00m:\n\u001B[1;32m    728\u001B[0m         \u001B[38;5;28mself\u001B[39m\u001B[38;5;241m.\u001B[39m_result\u001B[38;5;241m.\u001B[39munbuffered_active \u001B[38;5;241m=\u001B[39m \u001B[38;5;28;01mFalse\u001B[39;00m\n\u001B[0;32m--> 729\u001B[0m     \u001B[43mpacket\u001B[49m\u001B[38;5;241;43m.\u001B[39;49m\u001B[43mraise_for_error\u001B[49m\u001B[43m(\u001B[49m\u001B[43m)\u001B[49m\n\u001B[1;32m    730\u001B[0m \u001B[38;5;28;01mreturn\u001B[39;00m packet\n",
      "File \u001B[0;32m~/anaconda3/lib/python3.10/site-packages/pymysql/protocol.py:221\u001B[0m, in \u001B[0;36mMysqlPacket.raise_for_error\u001B[0;34m(self)\u001B[0m\n\u001B[1;32m    219\u001B[0m \u001B[38;5;28;01mif\u001B[39;00m DEBUG:\n\u001B[1;32m    220\u001B[0m     \u001B[38;5;28mprint\u001B[39m(\u001B[38;5;124m\"\u001B[39m\u001B[38;5;124merrno =\u001B[39m\u001B[38;5;124m\"\u001B[39m, errno)\n\u001B[0;32m--> 221\u001B[0m \u001B[43merr\u001B[49m\u001B[38;5;241;43m.\u001B[39;49m\u001B[43mraise_mysql_exception\u001B[49m\u001B[43m(\u001B[49m\u001B[38;5;28;43mself\u001B[39;49m\u001B[38;5;241;43m.\u001B[39;49m\u001B[43m_data\u001B[49m\u001B[43m)\u001B[49m\n",
      "File \u001B[0;32m~/anaconda3/lib/python3.10/site-packages/pymysql/err.py:143\u001B[0m, in \u001B[0;36mraise_mysql_exception\u001B[0;34m(data)\u001B[0m\n\u001B[1;32m    141\u001B[0m \u001B[38;5;28;01mif\u001B[39;00m errorclass \u001B[38;5;129;01mis\u001B[39;00m \u001B[38;5;28;01mNone\u001B[39;00m:\n\u001B[1;32m    142\u001B[0m     errorclass \u001B[38;5;241m=\u001B[39m InternalError \u001B[38;5;28;01mif\u001B[39;00m errno \u001B[38;5;241m<\u001B[39m \u001B[38;5;241m1000\u001B[39m \u001B[38;5;28;01melse\u001B[39;00m OperationalError\n\u001B[0;32m--> 143\u001B[0m \u001B[38;5;28;01mraise\u001B[39;00m errorclass(errno, errval)\n",
      "\u001B[0;31mOperationalError\u001B[0m: (pymysql.err.OperationalError) (1044, \"Access denied for user 'pagel_2185'@'%' to database 'emploees'\")\n(Background on this error at: https://sqlalche.me/e/14/e3q8)"
     ]
    }
   ],
   "source": [
    "pd.read_sql('SELECT * FROM employees LIMIT 5 OFFSET 50', get_db_url(\"emploees\"))"
   ],
   "metadata": {
    "collapsed": false
   }
  },
  {
   "cell_type": "code",
   "execution_count": null,
   "outputs": [],
   "source": [
    "pd.read_sql('SELECT * FROM employes LIMIT 5 OFFSET 50', get_db_url(\"employees\"))"
   ],
   "metadata": {
    "collapsed": false
   }
  },
  {
   "cell_type": "markdown",
   "source": [
    "6.Read the employees and titles tables into two separate DataFrames."
   ],
   "metadata": {
    "collapsed": false
   }
  },
  {
   "cell_type": "code",
   "execution_count": null,
   "outputs": [],
   "source": [
    "pd.read_sql('SELECT * FROM employees LIMIT 5 OFFSET 50', get_db_url(\"employees\"))"
   ],
   "metadata": {
    "collapsed": false
   }
  },
  {
   "cell_type": "code",
   "execution_count": null,
   "outputs": [],
   "source": [
    "pd.read_sql('SELECT * FROM titles LIMIT 5 OFFSET 50', get_db_url(\"employees\"))"
   ],
   "metadata": {
    "collapsed": false
   }
  },
  {
   "cell_type": "markdown",
   "source": [
    "7.How many rows and columns do you have in each DataFrame? Is that what you expected?"
   ],
   "metadata": {
    "collapsed": false
   }
  },
  {
   "cell_type": "markdown",
   "source": [
    "5 rows 6 columns and 5 rows 4 columns\n",
    "yes that is what i was explecting"
   ],
   "metadata": {
    "collapsed": false
   }
  },
  {
   "cell_type": "markdown",
   "source": [
    "8.Display the summary statistics for each DataFrame."
   ],
   "metadata": {
    "collapsed": false
   }
  },
  {
   "cell_type": "code",
   "execution_count": 109,
   "outputs": [
    {
     "data": {
      "text/plain": "   count(distinct title)\n0                      7",
      "text/html": "<div>\n<style scoped>\n    .dataframe tbody tr th:only-of-type {\n        vertical-align: middle;\n    }\n\n    .dataframe tbody tr th {\n        vertical-align: top;\n    }\n\n    .dataframe thead th {\n        text-align: right;\n    }\n</style>\n<table border=\"1\" class=\"dataframe\">\n  <thead>\n    <tr style=\"text-align: right;\">\n      <th></th>\n      <th>count(distinct title)</th>\n    </tr>\n  </thead>\n  <tbody>\n    <tr>\n      <th>0</th>\n      <td>7</td>\n    </tr>\n  </tbody>\n</table>\n</div>"
     },
     "execution_count": 109,
     "metadata": {},
     "output_type": "execute_result"
    }
   ],
   "source": [
    "pd.read_sql('select count(distinct title)from titles', get_db_url(\"employees\"))"
   ],
   "metadata": {
    "collapsed": false
   }
  },
  {
   "cell_type": "markdown",
   "source": [
    "9.How many unique titles are in the titles DataFrame?"
   ],
   "metadata": {
    "collapsed": false
   }
  },
  {
   "cell_type": "code",
   "execution_count": 110,
   "outputs": [
    {
     "data": {
      "text/plain": "   count(distinct title)\n0                      7",
      "text/html": "<div>\n<style scoped>\n    .dataframe tbody tr th:only-of-type {\n        vertical-align: middle;\n    }\n\n    .dataframe tbody tr th {\n        vertical-align: top;\n    }\n\n    .dataframe thead th {\n        text-align: right;\n    }\n</style>\n<table border=\"1\" class=\"dataframe\">\n  <thead>\n    <tr style=\"text-align: right;\">\n      <th></th>\n      <th>count(distinct title)</th>\n    </tr>\n  </thead>\n  <tbody>\n    <tr>\n      <th>0</th>\n      <td>7</td>\n    </tr>\n  </tbody>\n</table>\n</div>"
     },
     "execution_count": 110,
     "metadata": {},
     "output_type": "execute_result"
    }
   ],
   "source": [
    "pd.read_sql('select count(distinct title)from titles', get_db_url(\"employees\"))"
   ],
   "metadata": {
    "collapsed": false
   }
  },
  {
   "cell_type": "markdown",
   "source": [
    "10.What is the oldest date in the to_date column?"
   ],
   "metadata": {
    "collapsed": false
   }
  },
  {
   "cell_type": "code",
   "execution_count": 111,
   "outputs": [
    {
     "data": {
      "text/plain": "  min(to_date)\n0   1985-03-01",
      "text/html": "<div>\n<style scoped>\n    .dataframe tbody tr th:only-of-type {\n        vertical-align: middle;\n    }\n\n    .dataframe tbody tr th {\n        vertical-align: top;\n    }\n\n    .dataframe thead th {\n        text-align: right;\n    }\n</style>\n<table border=\"1\" class=\"dataframe\">\n  <thead>\n    <tr style=\"text-align: right;\">\n      <th></th>\n      <th>min(to_date)</th>\n    </tr>\n  </thead>\n  <tbody>\n    <tr>\n      <th>0</th>\n      <td>1985-03-01</td>\n    </tr>\n  </tbody>\n</table>\n</div>"
     },
     "execution_count": 111,
     "metadata": {},
     "output_type": "execute_result"
    }
   ],
   "source": [
    "pd.read_sql('select min(to_date)from titles', get_db_url(\"employees\"))"
   ],
   "metadata": {
    "collapsed": false
   }
  },
  {
   "cell_type": "markdown",
   "source": [
    "11.What is the most recent date in the to_date column?"
   ],
   "metadata": {
    "collapsed": false
   }
  },
  {
   "cell_type": "code",
   "execution_count": 112,
   "outputs": [
    {
     "data": {
      "text/plain": "  most_recent_to_date\n0          2002-08-01",
      "text/html": "<div>\n<style scoped>\n    .dataframe tbody tr th:only-of-type {\n        vertical-align: middle;\n    }\n\n    .dataframe tbody tr th {\n        vertical-align: top;\n    }\n\n    .dataframe thead th {\n        text-align: right;\n    }\n</style>\n<table border=\"1\" class=\"dataframe\">\n  <thead>\n    <tr style=\"text-align: right;\">\n      <th></th>\n      <th>most_recent_to_date</th>\n    </tr>\n  </thead>\n  <tbody>\n    <tr>\n      <th>0</th>\n      <td>2002-08-01</td>\n    </tr>\n  </tbody>\n</table>\n</div>"
     },
     "execution_count": 112,
     "metadata": {},
     "output_type": "execute_result"
    }
   ],
   "source": [
    "pd.read_sql('''select max(to_date) as most_recent_to_date\n",
    "from (select to_date\n",
    "from titles\n",
    "where to_date <= now())\n",
    "as no_longer_here''', get_db_url(\"employees\"))"
   ],
   "metadata": {
    "collapsed": false
   }
  },
  {
   "cell_type": "markdown",
   "source": [
    "Exercises II\n",
    "\n",
    "1.Copy the users and roles DataFrames from the examples above.\n",
    "\n",
    "2.What is the result of using a right join on the DataFrames?\n",
    "\n",
    "3.What is the result of using an outer join on the DataFrames?\n",
    "\n",
    "4.What happens if you drop the foreign keys from the DataFrames and try to merge them?\n",
    "\n",
    "5.Load the mpg dataset from PyDataset.\n",
    "\n",
    "6.Output and read the documentation for the mpg dataset.\n",
    "\n",
    "7.How many rows and columns are in the dataset?\n",
    "\n",
    "8.Check out your column names and perform any cleanup you may want on them.\n",
    "\n",
    "9.Display the summary statistics for the dataset.\n",
    "\n",
    "10.How many different manufacturers are there?\n",
    "\n",
    "11.How many different models are there?\n",
    "\n",
    "12.Create a column named mileage_difference like you did in the DataFrames exercises; this column should contain the difference between highway and city mileage for each car.\n",
    "\n",
    "13.Create a column named average_mileage like you did in the DataFrames exercises; this is the mean of the city and highway mileage.\n",
    "\n",
    "14.Create a new column on the mpg dataset named is_automatic that holds boolean values denoting whether the car has an automatic transmission.\n",
    "\n",
    "15.Using the mpg dataset, find out which manufacturer has the best miles per gallon on average?\n",
    "\n",
    "16.Do automatic or manual cars have better miles per gallon?\n",
    "\n"
   ],
   "metadata": {
    "collapsed": false
   }
  },
  {
   "cell_type": "markdown",
   "source": [
    "1.Copy the users and roles DataFrames from the examples above."
   ],
   "metadata": {
    "collapsed": false
   }
  },
  {
   "cell_type": "code",
   "execution_count": 113,
   "outputs": [
    {
     "data": {
      "text/plain": "   id   name  role_id\n0   1    bob      1.0\n1   2    joe      2.0\n2   3  sally      3.0\n3   4   adam      3.0\n4   5   jane      NaN\n5   6   mike      NaN",
      "text/html": "<div>\n<style scoped>\n    .dataframe tbody tr th:only-of-type {\n        vertical-align: middle;\n    }\n\n    .dataframe tbody tr th {\n        vertical-align: top;\n    }\n\n    .dataframe thead th {\n        text-align: right;\n    }\n</style>\n<table border=\"1\" class=\"dataframe\">\n  <thead>\n    <tr style=\"text-align: right;\">\n      <th></th>\n      <th>id</th>\n      <th>name</th>\n      <th>role_id</th>\n    </tr>\n  </thead>\n  <tbody>\n    <tr>\n      <th>0</th>\n      <td>1</td>\n      <td>bob</td>\n      <td>1.0</td>\n    </tr>\n    <tr>\n      <th>1</th>\n      <td>2</td>\n      <td>joe</td>\n      <td>2.0</td>\n    </tr>\n    <tr>\n      <th>2</th>\n      <td>3</td>\n      <td>sally</td>\n      <td>3.0</td>\n    </tr>\n    <tr>\n      <th>3</th>\n      <td>4</td>\n      <td>adam</td>\n      <td>3.0</td>\n    </tr>\n    <tr>\n      <th>4</th>\n      <td>5</td>\n      <td>jane</td>\n      <td>NaN</td>\n    </tr>\n    <tr>\n      <th>5</th>\n      <td>6</td>\n      <td>mike</td>\n      <td>NaN</td>\n    </tr>\n  </tbody>\n</table>\n</div>"
     },
     "execution_count": 113,
     "metadata": {},
     "output_type": "execute_result"
    }
   ],
   "source": [
    "# Create the users DataFrame.\n",
    "\n",
    "users = pd.DataFrame({\n",
    "    'id': [1, 2, 3, 4, 5, 6],\n",
    "    'name': ['bob', 'joe', 'sally', 'adam', 'jane', 'mike'],\n",
    "    'role_id': [1, 2, 3, 3, np.nan, np.nan]\n",
    "})\n",
    "users\n"
   ],
   "metadata": {
    "collapsed": false
   }
  },
  {
   "cell_type": "code",
   "execution_count": 114,
   "outputs": [
    {
     "data": {
      "text/plain": "   id       name\n0   1      admin\n1   2     author\n2   3   reviewer\n3   4  commenter",
      "text/html": "<div>\n<style scoped>\n    .dataframe tbody tr th:only-of-type {\n        vertical-align: middle;\n    }\n\n    .dataframe tbody tr th {\n        vertical-align: top;\n    }\n\n    .dataframe thead th {\n        text-align: right;\n    }\n</style>\n<table border=\"1\" class=\"dataframe\">\n  <thead>\n    <tr style=\"text-align: right;\">\n      <th></th>\n      <th>id</th>\n      <th>name</th>\n    </tr>\n  </thead>\n  <tbody>\n    <tr>\n      <th>0</th>\n      <td>1</td>\n      <td>admin</td>\n    </tr>\n    <tr>\n      <th>1</th>\n      <td>2</td>\n      <td>author</td>\n    </tr>\n    <tr>\n      <th>2</th>\n      <td>3</td>\n      <td>reviewer</td>\n    </tr>\n    <tr>\n      <th>3</th>\n      <td>4</td>\n      <td>commenter</td>\n    </tr>\n  </tbody>\n</table>\n</div>"
     },
     "execution_count": 114,
     "metadata": {},
     "output_type": "execute_result"
    }
   ],
   "source": [
    "# Create the roles DataFrame\n",
    "\n",
    "roles = pd.DataFrame({\n",
    "    'id': [1, 2, 3, 4],\n",
    "    'name': ['admin', 'author', 'reviewer', 'commenter']\n",
    "})\n",
    "roles\n"
   ],
   "metadata": {
    "collapsed": false
   }
  },
  {
   "cell_type": "markdown",
   "source": [
    "2.What is the result of using a right join on the DataFrames?"
   ],
   "metadata": {
    "collapsed": false
   }
  },
  {
   "cell_type": "code",
   "execution_count": 115,
   "outputs": [
    {
     "data": {
      "text/plain": "   id     name_x name_y  role_id\n0   1      admin    bob      1.0\n1   2     author    joe      2.0\n2   3   reviewer  sally      3.0\n3   4  commenter   adam      3.0\n4   5        NaN   jane      NaN\n5   6        NaN   mike      NaN",
      "text/html": "<div>\n<style scoped>\n    .dataframe tbody tr th:only-of-type {\n        vertical-align: middle;\n    }\n\n    .dataframe tbody tr th {\n        vertical-align: top;\n    }\n\n    .dataframe thead th {\n        text-align: right;\n    }\n</style>\n<table border=\"1\" class=\"dataframe\">\n  <thead>\n    <tr style=\"text-align: right;\">\n      <th></th>\n      <th>id</th>\n      <th>name_x</th>\n      <th>name_y</th>\n      <th>role_id</th>\n    </tr>\n  </thead>\n  <tbody>\n    <tr>\n      <th>0</th>\n      <td>1</td>\n      <td>admin</td>\n      <td>bob</td>\n      <td>1.0</td>\n    </tr>\n    <tr>\n      <th>1</th>\n      <td>2</td>\n      <td>author</td>\n      <td>joe</td>\n      <td>2.0</td>\n    </tr>\n    <tr>\n      <th>2</th>\n      <td>3</td>\n      <td>reviewer</td>\n      <td>sally</td>\n      <td>3.0</td>\n    </tr>\n    <tr>\n      <th>3</th>\n      <td>4</td>\n      <td>commenter</td>\n      <td>adam</td>\n      <td>3.0</td>\n    </tr>\n    <tr>\n      <th>4</th>\n      <td>5</td>\n      <td>NaN</td>\n      <td>jane</td>\n      <td>NaN</td>\n    </tr>\n    <tr>\n      <th>5</th>\n      <td>6</td>\n      <td>NaN</td>\n      <td>mike</td>\n      <td>NaN</td>\n    </tr>\n  </tbody>\n</table>\n</div>"
     },
     "execution_count": 115,
     "metadata": {},
     "output_type": "execute_result"
    }
   ],
   "source": [
    "right_merge = roles.merge(users, on='id', how='right')\n",
    "right_merge\n"
   ],
   "metadata": {
    "collapsed": false
   }
  },
  {
   "cell_type": "markdown",
   "source": [
    "3.What is the result of using an outer join on the DataFrames?"
   ],
   "metadata": {
    "collapsed": false
   }
  },
  {
   "cell_type": "code",
   "execution_count": 116,
   "outputs": [
    {
     "data": {
      "text/plain": "   id name_x  role_id     name_y\n0   1    bob      1.0      admin\n1   2    joe      2.0     author\n2   3  sally      3.0   reviewer\n3   4   adam      3.0  commenter\n4   5   jane      NaN        NaN\n5   6   mike      NaN        NaN",
      "text/html": "<div>\n<style scoped>\n    .dataframe tbody tr th:only-of-type {\n        vertical-align: middle;\n    }\n\n    .dataframe tbody tr th {\n        vertical-align: top;\n    }\n\n    .dataframe thead th {\n        text-align: right;\n    }\n</style>\n<table border=\"1\" class=\"dataframe\">\n  <thead>\n    <tr style=\"text-align: right;\">\n      <th></th>\n      <th>id</th>\n      <th>name_x</th>\n      <th>role_id</th>\n      <th>name_y</th>\n    </tr>\n  </thead>\n  <tbody>\n    <tr>\n      <th>0</th>\n      <td>1</td>\n      <td>bob</td>\n      <td>1.0</td>\n      <td>admin</td>\n    </tr>\n    <tr>\n      <th>1</th>\n      <td>2</td>\n      <td>joe</td>\n      <td>2.0</td>\n      <td>author</td>\n    </tr>\n    <tr>\n      <th>2</th>\n      <td>3</td>\n      <td>sally</td>\n      <td>3.0</td>\n      <td>reviewer</td>\n    </tr>\n    <tr>\n      <th>3</th>\n      <td>4</td>\n      <td>adam</td>\n      <td>3.0</td>\n      <td>commenter</td>\n    </tr>\n    <tr>\n      <th>4</th>\n      <td>5</td>\n      <td>jane</td>\n      <td>NaN</td>\n      <td>NaN</td>\n    </tr>\n    <tr>\n      <th>5</th>\n      <td>6</td>\n      <td>mike</td>\n      <td>NaN</td>\n      <td>NaN</td>\n    </tr>\n  </tbody>\n</table>\n</div>"
     },
     "execution_count": 116,
     "metadata": {},
     "output_type": "execute_result"
    }
   ],
   "source": [
    "outer_merge = users.merge(roles, on='id', how='outer')\n",
    "outer_merge"
   ],
   "metadata": {
    "collapsed": false
   }
  },
  {
   "cell_type": "markdown",
   "source": [
    "4.What happens if you drop the foreign keys from the DataFrames and try to merge them?\n",
    "doesnt show anything\n"
   ],
   "metadata": {
    "collapsed": false
   }
  },
  {
   "cell_type": "code",
   "execution_count": 117,
   "outputs": [
    {
     "data": {
      "text/plain": "Empty DataFrame\nColumns: [id_x, name, id_y, role_id]\nIndex: []",
      "text/html": "<div>\n<style scoped>\n    .dataframe tbody tr th:only-of-type {\n        vertical-align: middle;\n    }\n\n    .dataframe tbody tr th {\n        vertical-align: top;\n    }\n\n    .dataframe thead th {\n        text-align: right;\n    }\n</style>\n<table border=\"1\" class=\"dataframe\">\n  <thead>\n    <tr style=\"text-align: right;\">\n      <th></th>\n      <th>id_x</th>\n      <th>name</th>\n      <th>id_y</th>\n      <th>role_id</th>\n    </tr>\n  </thead>\n  <tbody>\n  </tbody>\n</table>\n</div>"
     },
     "execution_count": 117,
     "metadata": {},
     "output_type": "execute_result"
    }
   ],
   "source": [
    "foreign_merge = roles.merge(users, on='name', how='inner')\n",
    "foreign_merge"
   ],
   "metadata": {
    "collapsed": false
   }
  },
  {
   "cell_type": "markdown",
   "source": [
    "5.Load the mpg dataset from PyDataset."
   ],
   "metadata": {
    "collapsed": false
   }
  },
  {
   "cell_type": "code",
   "execution_count": 118,
   "outputs": [
    {
     "data": {
      "text/plain": "    manufacturer   model  displ  year  cyl       trans drv  cty  hwy fl  \\\n1           audi      a4    1.8  1999    4    auto(l5)   f   18   29  p   \n2           audi      a4    1.8  1999    4  manual(m5)   f   21   29  p   \n3           audi      a4    2.0  2008    4  manual(m6)   f   20   31  p   \n4           audi      a4    2.0  2008    4    auto(av)   f   21   30  p   \n5           audi      a4    2.8  1999    6    auto(l5)   f   16   26  p   \n..           ...     ...    ...   ...  ...         ...  ..  ...  ... ..   \n230   volkswagen  passat    2.0  2008    4    auto(s6)   f   19   28  p   \n231   volkswagen  passat    2.0  2008    4  manual(m6)   f   21   29  p   \n232   volkswagen  passat    2.8  1999    6    auto(l5)   f   16   26  p   \n233   volkswagen  passat    2.8  1999    6  manual(m5)   f   18   26  p   \n234   volkswagen  passat    3.6  2008    6    auto(s6)   f   17   26  p   \n\n       class  \n1    compact  \n2    compact  \n3    compact  \n4    compact  \n5    compact  \n..       ...  \n230  midsize  \n231  midsize  \n232  midsize  \n233  midsize  \n234  midsize  \n\n[234 rows x 11 columns]",
      "text/html": "<div>\n<style scoped>\n    .dataframe tbody tr th:only-of-type {\n        vertical-align: middle;\n    }\n\n    .dataframe tbody tr th {\n        vertical-align: top;\n    }\n\n    .dataframe thead th {\n        text-align: right;\n    }\n</style>\n<table border=\"1\" class=\"dataframe\">\n  <thead>\n    <tr style=\"text-align: right;\">\n      <th></th>\n      <th>manufacturer</th>\n      <th>model</th>\n      <th>displ</th>\n      <th>year</th>\n      <th>cyl</th>\n      <th>trans</th>\n      <th>drv</th>\n      <th>cty</th>\n      <th>hwy</th>\n      <th>fl</th>\n      <th>class</th>\n    </tr>\n  </thead>\n  <tbody>\n    <tr>\n      <th>1</th>\n      <td>audi</td>\n      <td>a4</td>\n      <td>1.8</td>\n      <td>1999</td>\n      <td>4</td>\n      <td>auto(l5)</td>\n      <td>f</td>\n      <td>18</td>\n      <td>29</td>\n      <td>p</td>\n      <td>compact</td>\n    </tr>\n    <tr>\n      <th>2</th>\n      <td>audi</td>\n      <td>a4</td>\n      <td>1.8</td>\n      <td>1999</td>\n      <td>4</td>\n      <td>manual(m5)</td>\n      <td>f</td>\n      <td>21</td>\n      <td>29</td>\n      <td>p</td>\n      <td>compact</td>\n    </tr>\n    <tr>\n      <th>3</th>\n      <td>audi</td>\n      <td>a4</td>\n      <td>2.0</td>\n      <td>2008</td>\n      <td>4</td>\n      <td>manual(m6)</td>\n      <td>f</td>\n      <td>20</td>\n      <td>31</td>\n      <td>p</td>\n      <td>compact</td>\n    </tr>\n    <tr>\n      <th>4</th>\n      <td>audi</td>\n      <td>a4</td>\n      <td>2.0</td>\n      <td>2008</td>\n      <td>4</td>\n      <td>auto(av)</td>\n      <td>f</td>\n      <td>21</td>\n      <td>30</td>\n      <td>p</td>\n      <td>compact</td>\n    </tr>\n    <tr>\n      <th>5</th>\n      <td>audi</td>\n      <td>a4</td>\n      <td>2.8</td>\n      <td>1999</td>\n      <td>6</td>\n      <td>auto(l5)</td>\n      <td>f</td>\n      <td>16</td>\n      <td>26</td>\n      <td>p</td>\n      <td>compact</td>\n    </tr>\n    <tr>\n      <th>...</th>\n      <td>...</td>\n      <td>...</td>\n      <td>...</td>\n      <td>...</td>\n      <td>...</td>\n      <td>...</td>\n      <td>...</td>\n      <td>...</td>\n      <td>...</td>\n      <td>...</td>\n      <td>...</td>\n    </tr>\n    <tr>\n      <th>230</th>\n      <td>volkswagen</td>\n      <td>passat</td>\n      <td>2.0</td>\n      <td>2008</td>\n      <td>4</td>\n      <td>auto(s6)</td>\n      <td>f</td>\n      <td>19</td>\n      <td>28</td>\n      <td>p</td>\n      <td>midsize</td>\n    </tr>\n    <tr>\n      <th>231</th>\n      <td>volkswagen</td>\n      <td>passat</td>\n      <td>2.0</td>\n      <td>2008</td>\n      <td>4</td>\n      <td>manual(m6)</td>\n      <td>f</td>\n      <td>21</td>\n      <td>29</td>\n      <td>p</td>\n      <td>midsize</td>\n    </tr>\n    <tr>\n      <th>232</th>\n      <td>volkswagen</td>\n      <td>passat</td>\n      <td>2.8</td>\n      <td>1999</td>\n      <td>6</td>\n      <td>auto(l5)</td>\n      <td>f</td>\n      <td>16</td>\n      <td>26</td>\n      <td>p</td>\n      <td>midsize</td>\n    </tr>\n    <tr>\n      <th>233</th>\n      <td>volkswagen</td>\n      <td>passat</td>\n      <td>2.8</td>\n      <td>1999</td>\n      <td>6</td>\n      <td>manual(m5)</td>\n      <td>f</td>\n      <td>18</td>\n      <td>26</td>\n      <td>p</td>\n      <td>midsize</td>\n    </tr>\n    <tr>\n      <th>234</th>\n      <td>volkswagen</td>\n      <td>passat</td>\n      <td>3.6</td>\n      <td>2008</td>\n      <td>6</td>\n      <td>auto(s6)</td>\n      <td>f</td>\n      <td>17</td>\n      <td>26</td>\n      <td>p</td>\n      <td>midsize</td>\n    </tr>\n  </tbody>\n</table>\n<p>234 rows × 11 columns</p>\n</div>"
     },
     "execution_count": 118,
     "metadata": {},
     "output_type": "execute_result"
    }
   ],
   "source": [
    "from pydataset import data\n",
    "mpg_df = data('mpg')\n",
    "mpg_df"
   ],
   "metadata": {
    "collapsed": false
   }
  },
  {
   "cell_type": "markdown",
   "source": [
    "6.Output and read the documentation for the mpg dataset."
   ],
   "metadata": {
    "collapsed": false
   }
  },
  {
   "cell_type": "code",
   "execution_count": 119,
   "outputs": [
    {
     "data": {
      "text/plain": "    manufacturer   model  displ  year  cyl       trans drv  cty  hwy fl  \\\n1           audi      a4    1.8  1999    4    auto(l5)   f   18   29  p   \n2           audi      a4    1.8  1999    4  manual(m5)   f   21   29  p   \n3           audi      a4    2.0  2008    4  manual(m6)   f   20   31  p   \n4           audi      a4    2.0  2008    4    auto(av)   f   21   30  p   \n5           audi      a4    2.8  1999    6    auto(l5)   f   16   26  p   \n..           ...     ...    ...   ...  ...         ...  ..  ...  ... ..   \n230   volkswagen  passat    2.0  2008    4    auto(s6)   f   19   28  p   \n231   volkswagen  passat    2.0  2008    4  manual(m6)   f   21   29  p   \n232   volkswagen  passat    2.8  1999    6    auto(l5)   f   16   26  p   \n233   volkswagen  passat    2.8  1999    6  manual(m5)   f   18   26  p   \n234   volkswagen  passat    3.6  2008    6    auto(s6)   f   17   26  p   \n\n       class  \n1    compact  \n2    compact  \n3    compact  \n4    compact  \n5    compact  \n..       ...  \n230  midsize  \n231  midsize  \n232  midsize  \n233  midsize  \n234  midsize  \n\n[234 rows x 11 columns]",
      "text/html": "<div>\n<style scoped>\n    .dataframe tbody tr th:only-of-type {\n        vertical-align: middle;\n    }\n\n    .dataframe tbody tr th {\n        vertical-align: top;\n    }\n\n    .dataframe thead th {\n        text-align: right;\n    }\n</style>\n<table border=\"1\" class=\"dataframe\">\n  <thead>\n    <tr style=\"text-align: right;\">\n      <th></th>\n      <th>manufacturer</th>\n      <th>model</th>\n      <th>displ</th>\n      <th>year</th>\n      <th>cyl</th>\n      <th>trans</th>\n      <th>drv</th>\n      <th>cty</th>\n      <th>hwy</th>\n      <th>fl</th>\n      <th>class</th>\n    </tr>\n  </thead>\n  <tbody>\n    <tr>\n      <th>1</th>\n      <td>audi</td>\n      <td>a4</td>\n      <td>1.8</td>\n      <td>1999</td>\n      <td>4</td>\n      <td>auto(l5)</td>\n      <td>f</td>\n      <td>18</td>\n      <td>29</td>\n      <td>p</td>\n      <td>compact</td>\n    </tr>\n    <tr>\n      <th>2</th>\n      <td>audi</td>\n      <td>a4</td>\n      <td>1.8</td>\n      <td>1999</td>\n      <td>4</td>\n      <td>manual(m5)</td>\n      <td>f</td>\n      <td>21</td>\n      <td>29</td>\n      <td>p</td>\n      <td>compact</td>\n    </tr>\n    <tr>\n      <th>3</th>\n      <td>audi</td>\n      <td>a4</td>\n      <td>2.0</td>\n      <td>2008</td>\n      <td>4</td>\n      <td>manual(m6)</td>\n      <td>f</td>\n      <td>20</td>\n      <td>31</td>\n      <td>p</td>\n      <td>compact</td>\n    </tr>\n    <tr>\n      <th>4</th>\n      <td>audi</td>\n      <td>a4</td>\n      <td>2.0</td>\n      <td>2008</td>\n      <td>4</td>\n      <td>auto(av)</td>\n      <td>f</td>\n      <td>21</td>\n      <td>30</td>\n      <td>p</td>\n      <td>compact</td>\n    </tr>\n    <tr>\n      <th>5</th>\n      <td>audi</td>\n      <td>a4</td>\n      <td>2.8</td>\n      <td>1999</td>\n      <td>6</td>\n      <td>auto(l5)</td>\n      <td>f</td>\n      <td>16</td>\n      <td>26</td>\n      <td>p</td>\n      <td>compact</td>\n    </tr>\n    <tr>\n      <th>...</th>\n      <td>...</td>\n      <td>...</td>\n      <td>...</td>\n      <td>...</td>\n      <td>...</td>\n      <td>...</td>\n      <td>...</td>\n      <td>...</td>\n      <td>...</td>\n      <td>...</td>\n      <td>...</td>\n    </tr>\n    <tr>\n      <th>230</th>\n      <td>volkswagen</td>\n      <td>passat</td>\n      <td>2.0</td>\n      <td>2008</td>\n      <td>4</td>\n      <td>auto(s6)</td>\n      <td>f</td>\n      <td>19</td>\n      <td>28</td>\n      <td>p</td>\n      <td>midsize</td>\n    </tr>\n    <tr>\n      <th>231</th>\n      <td>volkswagen</td>\n      <td>passat</td>\n      <td>2.0</td>\n      <td>2008</td>\n      <td>4</td>\n      <td>manual(m6)</td>\n      <td>f</td>\n      <td>21</td>\n      <td>29</td>\n      <td>p</td>\n      <td>midsize</td>\n    </tr>\n    <tr>\n      <th>232</th>\n      <td>volkswagen</td>\n      <td>passat</td>\n      <td>2.8</td>\n      <td>1999</td>\n      <td>6</td>\n      <td>auto(l5)</td>\n      <td>f</td>\n      <td>16</td>\n      <td>26</td>\n      <td>p</td>\n      <td>midsize</td>\n    </tr>\n    <tr>\n      <th>233</th>\n      <td>volkswagen</td>\n      <td>passat</td>\n      <td>2.8</td>\n      <td>1999</td>\n      <td>6</td>\n      <td>manual(m5)</td>\n      <td>f</td>\n      <td>18</td>\n      <td>26</td>\n      <td>p</td>\n      <td>midsize</td>\n    </tr>\n    <tr>\n      <th>234</th>\n      <td>volkswagen</td>\n      <td>passat</td>\n      <td>3.6</td>\n      <td>2008</td>\n      <td>6</td>\n      <td>auto(s6)</td>\n      <td>f</td>\n      <td>17</td>\n      <td>26</td>\n      <td>p</td>\n      <td>midsize</td>\n    </tr>\n  </tbody>\n</table>\n<p>234 rows × 11 columns</p>\n</div>"
     },
     "execution_count": 119,
     "metadata": {},
     "output_type": "execute_result"
    }
   ],
   "source": [
    "mpg_df"
   ],
   "metadata": {
    "collapsed": false
   }
  },
  {
   "cell_type": "markdown",
   "source": [
    "7.How many rows and columns are in the dataset?"
   ],
   "metadata": {
    "collapsed": false
   }
  },
  {
   "cell_type": "markdown",
   "source": [
    "234 rows x 11 columns"
   ],
   "metadata": {
    "collapsed": false
   }
  },
  {
   "cell_type": "markdown",
   "source": [
    "8.Check out your column names and perform any cleanup you may want on them."
   ],
   "metadata": {
    "collapsed": false
   }
  },
  {
   "cell_type": "code",
   "execution_count": 120,
   "outputs": [
    {
     "data": {
      "text/plain": "    manufacturer                model  displ  year  cyl       trans drv  cty  \\\n55         dodge    dakota pickup 4wd    4.7  2008    8    auto(l5)   4    9   \n66         dodge  ram 1500 pickup 4wd    4.7  2008    8    auto(l5)   4    9   \n127         jeep   grand cherokee 4wd    4.7  2008    8    auto(l5)   4    9   \n70         dodge  ram 1500 pickup 4wd    4.7  2008    8  manual(m6)   4    9   \n60         dodge          durango 4wd    4.7  2008    8    auto(l5)   4    9   \n..           ...                  ...    ...   ...  ...         ...  ..  ...   \n107        honda                civic    1.8  2008    4    auto(l5)   f   24   \n197       toyota              corolla    1.8  2008    4  manual(m5)   f   28   \n223   volkswagen           new beetle    1.9  1999    4    auto(l4)   f   29   \n213   volkswagen                jetta    1.9  1999    4  manual(m5)   f   33   \n222   volkswagen           new beetle    1.9  1999    4  manual(m5)   f   35   \n\n     hwy fl       class  \n55    12  e      pickup  \n66    12  e      pickup  \n127   12  e         suv  \n70    12  e      pickup  \n60    12  e         suv  \n..   ... ..         ...  \n107   36  c  subcompact  \n197   37  r     compact  \n223   41  d  subcompact  \n213   44  d     compact  \n222   44  d  subcompact  \n\n[234 rows x 11 columns]",
      "text/html": "<div>\n<style scoped>\n    .dataframe tbody tr th:only-of-type {\n        vertical-align: middle;\n    }\n\n    .dataframe tbody tr th {\n        vertical-align: top;\n    }\n\n    .dataframe thead th {\n        text-align: right;\n    }\n</style>\n<table border=\"1\" class=\"dataframe\">\n  <thead>\n    <tr style=\"text-align: right;\">\n      <th></th>\n      <th>manufacturer</th>\n      <th>model</th>\n      <th>displ</th>\n      <th>year</th>\n      <th>cyl</th>\n      <th>trans</th>\n      <th>drv</th>\n      <th>cty</th>\n      <th>hwy</th>\n      <th>fl</th>\n      <th>class</th>\n    </tr>\n  </thead>\n  <tbody>\n    <tr>\n      <th>55</th>\n      <td>dodge</td>\n      <td>dakota pickup 4wd</td>\n      <td>4.7</td>\n      <td>2008</td>\n      <td>8</td>\n      <td>auto(l5)</td>\n      <td>4</td>\n      <td>9</td>\n      <td>12</td>\n      <td>e</td>\n      <td>pickup</td>\n    </tr>\n    <tr>\n      <th>66</th>\n      <td>dodge</td>\n      <td>ram 1500 pickup 4wd</td>\n      <td>4.7</td>\n      <td>2008</td>\n      <td>8</td>\n      <td>auto(l5)</td>\n      <td>4</td>\n      <td>9</td>\n      <td>12</td>\n      <td>e</td>\n      <td>pickup</td>\n    </tr>\n    <tr>\n      <th>127</th>\n      <td>jeep</td>\n      <td>grand cherokee 4wd</td>\n      <td>4.7</td>\n      <td>2008</td>\n      <td>8</td>\n      <td>auto(l5)</td>\n      <td>4</td>\n      <td>9</td>\n      <td>12</td>\n      <td>e</td>\n      <td>suv</td>\n    </tr>\n    <tr>\n      <th>70</th>\n      <td>dodge</td>\n      <td>ram 1500 pickup 4wd</td>\n      <td>4.7</td>\n      <td>2008</td>\n      <td>8</td>\n      <td>manual(m6)</td>\n      <td>4</td>\n      <td>9</td>\n      <td>12</td>\n      <td>e</td>\n      <td>pickup</td>\n    </tr>\n    <tr>\n      <th>60</th>\n      <td>dodge</td>\n      <td>durango 4wd</td>\n      <td>4.7</td>\n      <td>2008</td>\n      <td>8</td>\n      <td>auto(l5)</td>\n      <td>4</td>\n      <td>9</td>\n      <td>12</td>\n      <td>e</td>\n      <td>suv</td>\n    </tr>\n    <tr>\n      <th>...</th>\n      <td>...</td>\n      <td>...</td>\n      <td>...</td>\n      <td>...</td>\n      <td>...</td>\n      <td>...</td>\n      <td>...</td>\n      <td>...</td>\n      <td>...</td>\n      <td>...</td>\n      <td>...</td>\n    </tr>\n    <tr>\n      <th>107</th>\n      <td>honda</td>\n      <td>civic</td>\n      <td>1.8</td>\n      <td>2008</td>\n      <td>4</td>\n      <td>auto(l5)</td>\n      <td>f</td>\n      <td>24</td>\n      <td>36</td>\n      <td>c</td>\n      <td>subcompact</td>\n    </tr>\n    <tr>\n      <th>197</th>\n      <td>toyota</td>\n      <td>corolla</td>\n      <td>1.8</td>\n      <td>2008</td>\n      <td>4</td>\n      <td>manual(m5)</td>\n      <td>f</td>\n      <td>28</td>\n      <td>37</td>\n      <td>r</td>\n      <td>compact</td>\n    </tr>\n    <tr>\n      <th>223</th>\n      <td>volkswagen</td>\n      <td>new beetle</td>\n      <td>1.9</td>\n      <td>1999</td>\n      <td>4</td>\n      <td>auto(l4)</td>\n      <td>f</td>\n      <td>29</td>\n      <td>41</td>\n      <td>d</td>\n      <td>subcompact</td>\n    </tr>\n    <tr>\n      <th>213</th>\n      <td>volkswagen</td>\n      <td>jetta</td>\n      <td>1.9</td>\n      <td>1999</td>\n      <td>4</td>\n      <td>manual(m5)</td>\n      <td>f</td>\n      <td>33</td>\n      <td>44</td>\n      <td>d</td>\n      <td>compact</td>\n    </tr>\n    <tr>\n      <th>222</th>\n      <td>volkswagen</td>\n      <td>new beetle</td>\n      <td>1.9</td>\n      <td>1999</td>\n      <td>4</td>\n      <td>manual(m5)</td>\n      <td>f</td>\n      <td>35</td>\n      <td>44</td>\n      <td>d</td>\n      <td>subcompact</td>\n    </tr>\n  </tbody>\n</table>\n<p>234 rows × 11 columns</p>\n</div>"
     },
     "execution_count": 120,
     "metadata": {},
     "output_type": "execute_result"
    }
   ],
   "source": [
    "mpg_df.sort_values(\"hwy\")"
   ],
   "metadata": {
    "collapsed": false
   }
  },
  {
   "cell_type": "markdown",
   "source": [
    "\n",
    "9.Display the summary statistics for the dataset."
   ],
   "metadata": {
    "collapsed": false
   }
  },
  {
   "cell_type": "code",
   "execution_count": 121,
   "outputs": [
    {
     "name": "stdout",
     "output_type": "stream",
     "text": [
      "<class 'pandas.core.frame.DataFrame'>\n",
      "Int64Index: 234 entries, 1 to 234\n",
      "Data columns (total 11 columns):\n",
      " #   Column        Non-Null Count  Dtype  \n",
      "---  ------        --------------  -----  \n",
      " 0   manufacturer  234 non-null    object \n",
      " 1   model         234 non-null    object \n",
      " 2   displ         234 non-null    float64\n",
      " 3   year          234 non-null    int64  \n",
      " 4   cyl           234 non-null    int64  \n",
      " 5   trans         234 non-null    object \n",
      " 6   drv           234 non-null    object \n",
      " 7   cty           234 non-null    int64  \n",
      " 8   hwy           234 non-null    int64  \n",
      " 9   fl            234 non-null    object \n",
      " 10  class         234 non-null    object \n",
      "dtypes: float64(1), int64(4), object(6)\n",
      "memory usage: 21.9+ KB\n"
     ]
    },
    {
     "data": {
      "text/plain": "            displ         year         cyl         cty         hwy\ncount  234.000000   234.000000  234.000000  234.000000  234.000000\nmean     3.471795  2003.500000    5.888889   16.858974   23.440171\nstd      1.291959     4.509646    1.611534    4.255946    5.954643\nmin      1.600000  1999.000000    4.000000    9.000000   12.000000\n25%      2.400000  1999.000000    4.000000   14.000000   18.000000\n50%      3.300000  2003.500000    6.000000   17.000000   24.000000\n75%      4.600000  2008.000000    8.000000   19.000000   27.000000\nmax      7.000000  2008.000000    8.000000   35.000000   44.000000",
      "text/html": "<div>\n<style scoped>\n    .dataframe tbody tr th:only-of-type {\n        vertical-align: middle;\n    }\n\n    .dataframe tbody tr th {\n        vertical-align: top;\n    }\n\n    .dataframe thead th {\n        text-align: right;\n    }\n</style>\n<table border=\"1\" class=\"dataframe\">\n  <thead>\n    <tr style=\"text-align: right;\">\n      <th></th>\n      <th>displ</th>\n      <th>year</th>\n      <th>cyl</th>\n      <th>cty</th>\n      <th>hwy</th>\n    </tr>\n  </thead>\n  <tbody>\n    <tr>\n      <th>count</th>\n      <td>234.000000</td>\n      <td>234.000000</td>\n      <td>234.000000</td>\n      <td>234.000000</td>\n      <td>234.000000</td>\n    </tr>\n    <tr>\n      <th>mean</th>\n      <td>3.471795</td>\n      <td>2003.500000</td>\n      <td>5.888889</td>\n      <td>16.858974</td>\n      <td>23.440171</td>\n    </tr>\n    <tr>\n      <th>std</th>\n      <td>1.291959</td>\n      <td>4.509646</td>\n      <td>1.611534</td>\n      <td>4.255946</td>\n      <td>5.954643</td>\n    </tr>\n    <tr>\n      <th>min</th>\n      <td>1.600000</td>\n      <td>1999.000000</td>\n      <td>4.000000</td>\n      <td>9.000000</td>\n      <td>12.000000</td>\n    </tr>\n    <tr>\n      <th>25%</th>\n      <td>2.400000</td>\n      <td>1999.000000</td>\n      <td>4.000000</td>\n      <td>14.000000</td>\n      <td>18.000000</td>\n    </tr>\n    <tr>\n      <th>50%</th>\n      <td>3.300000</td>\n      <td>2003.500000</td>\n      <td>6.000000</td>\n      <td>17.000000</td>\n      <td>24.000000</td>\n    </tr>\n    <tr>\n      <th>75%</th>\n      <td>4.600000</td>\n      <td>2008.000000</td>\n      <td>8.000000</td>\n      <td>19.000000</td>\n      <td>27.000000</td>\n    </tr>\n    <tr>\n      <th>max</th>\n      <td>7.000000</td>\n      <td>2008.000000</td>\n      <td>8.000000</td>\n      <td>35.000000</td>\n      <td>44.000000</td>\n    </tr>\n  </tbody>\n</table>\n</div>"
     },
     "execution_count": 121,
     "metadata": {},
     "output_type": "execute_result"
    }
   ],
   "source": [
    "mpg_df.info()\n",
    "mpg_df.describe()"
   ],
   "metadata": {
    "collapsed": false
   }
  },
  {
   "cell_type": "markdown",
   "source": [
    "\n",
    "10.How many different manufacturers are there? 15"
   ],
   "metadata": {
    "collapsed": false
   }
  },
  {
   "cell_type": "code",
   "execution_count": 122,
   "outputs": [
    {
     "data": {
      "text/plain": "             displ                                                       year  \\\n             count      mean           std  min    25%  50%    75%  max count   \nmanufacturer                                                                    \naudi          18.0  2.544444  6.732032e-01  1.8  2.000  2.8  3.025  4.2  18.0   \nchevrolet     19.0  5.063158  1.370406e+00  2.4  4.450  5.3  5.850  7.0  19.0   \ndodge         37.0  4.378378  8.679910e-01  2.4  3.800  4.7  4.700  5.9  37.0   \nford          25.0  4.536000  5.407402e-01  3.8  4.000  4.6  4.600  5.4  25.0   \nhonda          9.0  1.711111  1.452966e-01  1.6  1.600  1.6  1.800  2.0   9.0   \nhyundai       14.0  2.428571  3.646464e-01  2.0  2.100  2.4  2.650  3.3  14.0   \njeep           8.0  4.575000  1.015241e+00  3.0  3.925  4.7  4.950  6.1   8.0   \nland rover     4.0  4.300000  2.581989e-01  4.0  4.150  4.3  4.450  4.6   4.0   \nlincoln        3.0  5.400000  1.087792e-15  5.4  5.400  5.4  5.400  5.4   3.0   \nmercury        4.0  4.400000  4.898979e-01  4.0  4.000  4.3  4.700  5.0   4.0   \nnissan        13.0  3.269231  8.644696e-01  2.4  2.500  3.3  3.500  5.6  13.0   \npontiac        5.0  3.960000  8.080842e-01  3.1  3.800  3.8  3.800  5.3   5.0   \nsubaru        14.0  2.457143  1.089410e-01  2.2  2.500  2.5  2.500  2.5  14.0   \ntoyota        34.0  2.952941  9.313513e-01  1.8  2.250  2.7  3.400  5.7  34.0   \nvolkswagen    27.0  2.255556  4.431820e-01  1.8  2.000  2.0  2.500  3.6  27.0   \n\n                           ...    cty         hwy                             \\\n                     mean  ...    75%   max count       mean       std   min   \nmanufacturer               ...                                                 \naudi          2003.500000  ...  18.75  21.0  18.0  26.444444  2.175322  23.0   \nchevrolet     2004.684211  ...  16.50  22.0  19.0  21.894737  5.108759  14.0   \ndodge         2004.108108  ...  15.00  18.0  37.0  17.945946  3.574182  12.0   \nford          2002.600000  ...  15.00  18.0  25.0  19.360000  3.327662  15.0   \nhonda         2003.000000  ...  25.00  28.0   9.0  32.555556  2.554952  29.0   \nhyundai       2004.142857  ...  19.75  21.0  14.0  26.857143  2.178819  24.0   \njeep          2005.750000  ...  15.00  17.0   8.0  17.625000  3.248626  12.0   \nland rover    2003.500000  ...  12.00  12.0   4.0  16.500000  1.732051  15.0   \nlincoln       2002.000000  ...  11.50  12.0   3.0  17.000000  1.000000  16.0   \nmercury       2003.500000  ...  13.25  14.0   4.0  18.000000  1.154701  17.0   \nnissan        2003.846154  ...  19.00  23.0  13.0  24.615385  5.091471  17.0   \npontiac       2002.600000  ...  18.00  18.0   5.0  26.400000  1.140175  25.0   \nsubaru        2004.142857  ...  20.00  21.0  14.0  25.571429  1.157868  23.0   \ntoyota        2002.705882  ...  21.00  28.0  34.0  24.911765  6.166221  15.0   \nvolkswagen    2002.666667  ...  21.00  35.0  27.0  29.222222  5.315676  23.0   \n\n                                        \n                25%   50%    75%   max  \nmanufacturer                            \naudi          25.00  26.0  27.75  31.0  \nchevrolet     17.00  23.0  26.00  30.0  \ndodge         16.00  17.0  21.00  24.0  \nford          17.00  18.0  22.00  26.0  \nhonda         32.00  32.0  34.00  36.0  \nhyundai       26.00  26.5  28.00  31.0  \njeep          16.25  18.5  19.25  22.0  \nland rover    15.00  16.5  18.00  18.0  \nlincoln       16.50  17.0  17.50  18.0  \nmercury       17.00  18.0  19.00  19.0  \nnissan        20.00  26.0  27.00  32.0  \npontiac       26.00  26.0  27.00  28.0  \nsubaru        25.00  26.0  26.00  27.0  \ntoyota        20.00  26.0  29.75  37.0  \nvolkswagen    26.00  29.0  29.00  44.0  \n\n[15 rows x 40 columns]",
      "text/html": "<div>\n<style scoped>\n    .dataframe tbody tr th:only-of-type {\n        vertical-align: middle;\n    }\n\n    .dataframe tbody tr th {\n        vertical-align: top;\n    }\n\n    .dataframe thead tr th {\n        text-align: left;\n    }\n\n    .dataframe thead tr:last-of-type th {\n        text-align: right;\n    }\n</style>\n<table border=\"1\" class=\"dataframe\">\n  <thead>\n    <tr>\n      <th></th>\n      <th colspan=\"8\" halign=\"left\">displ</th>\n      <th colspan=\"2\" halign=\"left\">year</th>\n      <th>...</th>\n      <th colspan=\"2\" halign=\"left\">cty</th>\n      <th colspan=\"8\" halign=\"left\">hwy</th>\n    </tr>\n    <tr>\n      <th></th>\n      <th>count</th>\n      <th>mean</th>\n      <th>std</th>\n      <th>min</th>\n      <th>25%</th>\n      <th>50%</th>\n      <th>75%</th>\n      <th>max</th>\n      <th>count</th>\n      <th>mean</th>\n      <th>...</th>\n      <th>75%</th>\n      <th>max</th>\n      <th>count</th>\n      <th>mean</th>\n      <th>std</th>\n      <th>min</th>\n      <th>25%</th>\n      <th>50%</th>\n      <th>75%</th>\n      <th>max</th>\n    </tr>\n    <tr>\n      <th>manufacturer</th>\n      <th></th>\n      <th></th>\n      <th></th>\n      <th></th>\n      <th></th>\n      <th></th>\n      <th></th>\n      <th></th>\n      <th></th>\n      <th></th>\n      <th></th>\n      <th></th>\n      <th></th>\n      <th></th>\n      <th></th>\n      <th></th>\n      <th></th>\n      <th></th>\n      <th></th>\n      <th></th>\n      <th></th>\n    </tr>\n  </thead>\n  <tbody>\n    <tr>\n      <th>audi</th>\n      <td>18.0</td>\n      <td>2.544444</td>\n      <td>6.732032e-01</td>\n      <td>1.8</td>\n      <td>2.000</td>\n      <td>2.8</td>\n      <td>3.025</td>\n      <td>4.2</td>\n      <td>18.0</td>\n      <td>2003.500000</td>\n      <td>...</td>\n      <td>18.75</td>\n      <td>21.0</td>\n      <td>18.0</td>\n      <td>26.444444</td>\n      <td>2.175322</td>\n      <td>23.0</td>\n      <td>25.00</td>\n      <td>26.0</td>\n      <td>27.75</td>\n      <td>31.0</td>\n    </tr>\n    <tr>\n      <th>chevrolet</th>\n      <td>19.0</td>\n      <td>5.063158</td>\n      <td>1.370406e+00</td>\n      <td>2.4</td>\n      <td>4.450</td>\n      <td>5.3</td>\n      <td>5.850</td>\n      <td>7.0</td>\n      <td>19.0</td>\n      <td>2004.684211</td>\n      <td>...</td>\n      <td>16.50</td>\n      <td>22.0</td>\n      <td>19.0</td>\n      <td>21.894737</td>\n      <td>5.108759</td>\n      <td>14.0</td>\n      <td>17.00</td>\n      <td>23.0</td>\n      <td>26.00</td>\n      <td>30.0</td>\n    </tr>\n    <tr>\n      <th>dodge</th>\n      <td>37.0</td>\n      <td>4.378378</td>\n      <td>8.679910e-01</td>\n      <td>2.4</td>\n      <td>3.800</td>\n      <td>4.7</td>\n      <td>4.700</td>\n      <td>5.9</td>\n      <td>37.0</td>\n      <td>2004.108108</td>\n      <td>...</td>\n      <td>15.00</td>\n      <td>18.0</td>\n      <td>37.0</td>\n      <td>17.945946</td>\n      <td>3.574182</td>\n      <td>12.0</td>\n      <td>16.00</td>\n      <td>17.0</td>\n      <td>21.00</td>\n      <td>24.0</td>\n    </tr>\n    <tr>\n      <th>ford</th>\n      <td>25.0</td>\n      <td>4.536000</td>\n      <td>5.407402e-01</td>\n      <td>3.8</td>\n      <td>4.000</td>\n      <td>4.6</td>\n      <td>4.600</td>\n      <td>5.4</td>\n      <td>25.0</td>\n      <td>2002.600000</td>\n      <td>...</td>\n      <td>15.00</td>\n      <td>18.0</td>\n      <td>25.0</td>\n      <td>19.360000</td>\n      <td>3.327662</td>\n      <td>15.0</td>\n      <td>17.00</td>\n      <td>18.0</td>\n      <td>22.00</td>\n      <td>26.0</td>\n    </tr>\n    <tr>\n      <th>honda</th>\n      <td>9.0</td>\n      <td>1.711111</td>\n      <td>1.452966e-01</td>\n      <td>1.6</td>\n      <td>1.600</td>\n      <td>1.6</td>\n      <td>1.800</td>\n      <td>2.0</td>\n      <td>9.0</td>\n      <td>2003.000000</td>\n      <td>...</td>\n      <td>25.00</td>\n      <td>28.0</td>\n      <td>9.0</td>\n      <td>32.555556</td>\n      <td>2.554952</td>\n      <td>29.0</td>\n      <td>32.00</td>\n      <td>32.0</td>\n      <td>34.00</td>\n      <td>36.0</td>\n    </tr>\n    <tr>\n      <th>hyundai</th>\n      <td>14.0</td>\n      <td>2.428571</td>\n      <td>3.646464e-01</td>\n      <td>2.0</td>\n      <td>2.100</td>\n      <td>2.4</td>\n      <td>2.650</td>\n      <td>3.3</td>\n      <td>14.0</td>\n      <td>2004.142857</td>\n      <td>...</td>\n      <td>19.75</td>\n      <td>21.0</td>\n      <td>14.0</td>\n      <td>26.857143</td>\n      <td>2.178819</td>\n      <td>24.0</td>\n      <td>26.00</td>\n      <td>26.5</td>\n      <td>28.00</td>\n      <td>31.0</td>\n    </tr>\n    <tr>\n      <th>jeep</th>\n      <td>8.0</td>\n      <td>4.575000</td>\n      <td>1.015241e+00</td>\n      <td>3.0</td>\n      <td>3.925</td>\n      <td>4.7</td>\n      <td>4.950</td>\n      <td>6.1</td>\n      <td>8.0</td>\n      <td>2005.750000</td>\n      <td>...</td>\n      <td>15.00</td>\n      <td>17.0</td>\n      <td>8.0</td>\n      <td>17.625000</td>\n      <td>3.248626</td>\n      <td>12.0</td>\n      <td>16.25</td>\n      <td>18.5</td>\n      <td>19.25</td>\n      <td>22.0</td>\n    </tr>\n    <tr>\n      <th>land rover</th>\n      <td>4.0</td>\n      <td>4.300000</td>\n      <td>2.581989e-01</td>\n      <td>4.0</td>\n      <td>4.150</td>\n      <td>4.3</td>\n      <td>4.450</td>\n      <td>4.6</td>\n      <td>4.0</td>\n      <td>2003.500000</td>\n      <td>...</td>\n      <td>12.00</td>\n      <td>12.0</td>\n      <td>4.0</td>\n      <td>16.500000</td>\n      <td>1.732051</td>\n      <td>15.0</td>\n      <td>15.00</td>\n      <td>16.5</td>\n      <td>18.00</td>\n      <td>18.0</td>\n    </tr>\n    <tr>\n      <th>lincoln</th>\n      <td>3.0</td>\n      <td>5.400000</td>\n      <td>1.087792e-15</td>\n      <td>5.4</td>\n      <td>5.400</td>\n      <td>5.4</td>\n      <td>5.400</td>\n      <td>5.4</td>\n      <td>3.0</td>\n      <td>2002.000000</td>\n      <td>...</td>\n      <td>11.50</td>\n      <td>12.0</td>\n      <td>3.0</td>\n      <td>17.000000</td>\n      <td>1.000000</td>\n      <td>16.0</td>\n      <td>16.50</td>\n      <td>17.0</td>\n      <td>17.50</td>\n      <td>18.0</td>\n    </tr>\n    <tr>\n      <th>mercury</th>\n      <td>4.0</td>\n      <td>4.400000</td>\n      <td>4.898979e-01</td>\n      <td>4.0</td>\n      <td>4.000</td>\n      <td>4.3</td>\n      <td>4.700</td>\n      <td>5.0</td>\n      <td>4.0</td>\n      <td>2003.500000</td>\n      <td>...</td>\n      <td>13.25</td>\n      <td>14.0</td>\n      <td>4.0</td>\n      <td>18.000000</td>\n      <td>1.154701</td>\n      <td>17.0</td>\n      <td>17.00</td>\n      <td>18.0</td>\n      <td>19.00</td>\n      <td>19.0</td>\n    </tr>\n    <tr>\n      <th>nissan</th>\n      <td>13.0</td>\n      <td>3.269231</td>\n      <td>8.644696e-01</td>\n      <td>2.4</td>\n      <td>2.500</td>\n      <td>3.3</td>\n      <td>3.500</td>\n      <td>5.6</td>\n      <td>13.0</td>\n      <td>2003.846154</td>\n      <td>...</td>\n      <td>19.00</td>\n      <td>23.0</td>\n      <td>13.0</td>\n      <td>24.615385</td>\n      <td>5.091471</td>\n      <td>17.0</td>\n      <td>20.00</td>\n      <td>26.0</td>\n      <td>27.00</td>\n      <td>32.0</td>\n    </tr>\n    <tr>\n      <th>pontiac</th>\n      <td>5.0</td>\n      <td>3.960000</td>\n      <td>8.080842e-01</td>\n      <td>3.1</td>\n      <td>3.800</td>\n      <td>3.8</td>\n      <td>3.800</td>\n      <td>5.3</td>\n      <td>5.0</td>\n      <td>2002.600000</td>\n      <td>...</td>\n      <td>18.00</td>\n      <td>18.0</td>\n      <td>5.0</td>\n      <td>26.400000</td>\n      <td>1.140175</td>\n      <td>25.0</td>\n      <td>26.00</td>\n      <td>26.0</td>\n      <td>27.00</td>\n      <td>28.0</td>\n    </tr>\n    <tr>\n      <th>subaru</th>\n      <td>14.0</td>\n      <td>2.457143</td>\n      <td>1.089410e-01</td>\n      <td>2.2</td>\n      <td>2.500</td>\n      <td>2.5</td>\n      <td>2.500</td>\n      <td>2.5</td>\n      <td>14.0</td>\n      <td>2004.142857</td>\n      <td>...</td>\n      <td>20.00</td>\n      <td>21.0</td>\n      <td>14.0</td>\n      <td>25.571429</td>\n      <td>1.157868</td>\n      <td>23.0</td>\n      <td>25.00</td>\n      <td>26.0</td>\n      <td>26.00</td>\n      <td>27.0</td>\n    </tr>\n    <tr>\n      <th>toyota</th>\n      <td>34.0</td>\n      <td>2.952941</td>\n      <td>9.313513e-01</td>\n      <td>1.8</td>\n      <td>2.250</td>\n      <td>2.7</td>\n      <td>3.400</td>\n      <td>5.7</td>\n      <td>34.0</td>\n      <td>2002.705882</td>\n      <td>...</td>\n      <td>21.00</td>\n      <td>28.0</td>\n      <td>34.0</td>\n      <td>24.911765</td>\n      <td>6.166221</td>\n      <td>15.0</td>\n      <td>20.00</td>\n      <td>26.0</td>\n      <td>29.75</td>\n      <td>37.0</td>\n    </tr>\n    <tr>\n      <th>volkswagen</th>\n      <td>27.0</td>\n      <td>2.255556</td>\n      <td>4.431820e-01</td>\n      <td>1.8</td>\n      <td>2.000</td>\n      <td>2.0</td>\n      <td>2.500</td>\n      <td>3.6</td>\n      <td>27.0</td>\n      <td>2002.666667</td>\n      <td>...</td>\n      <td>21.00</td>\n      <td>35.0</td>\n      <td>27.0</td>\n      <td>29.222222</td>\n      <td>5.315676</td>\n      <td>23.0</td>\n      <td>26.00</td>\n      <td>29.0</td>\n      <td>29.00</td>\n      <td>44.0</td>\n    </tr>\n  </tbody>\n</table>\n<p>15 rows × 40 columns</p>\n</div>"
     },
     "execution_count": 122,
     "metadata": {},
     "output_type": "execute_result"
    }
   ],
   "source": [
    "mpg_df.groupby('manufacturer').describe()"
   ],
   "metadata": {
    "collapsed": false
   }
  },
  {
   "cell_type": "markdown",
   "source": [
    "\n",
    "11.How many different models are there? 38"
   ],
   "metadata": {
    "collapsed": false
   }
  },
  {
   "cell_type": "code",
   "execution_count": 123,
   "outputs": [
    {
     "data": {
      "text/plain": "                       displ                                                   \\\n                       count      mean           std  min    25%   50%    75%   \nmodel                                                                           \n4runner 4wd              6.0  3.483333  7.730890e-01  2.7  2.875  3.40  3.850   \na4                       7.0  2.328571  5.498918e-01  1.8  1.900  2.00  2.800   \na4 quattro               8.0  2.425000  5.775564e-01  1.8  1.950  2.40  2.875   \na6 quattro               3.0  3.366667  7.371115e-01  2.8  2.950  3.10  3.650   \naltima                   6.0  2.800000  5.440588e-01  2.4  2.425  2.50  3.250   \nc1500 suburban 2wd       5.0  5.520000  3.193744e-01  5.3  5.300  5.30  5.700   \ncamry                    7.0  2.671429  4.990467e-01  2.2  2.300  2.40  3.000   \ncamry solara             7.0  2.642857  4.466809e-01  2.2  2.300  2.40  3.000   \ncaravan 2wd             11.0  3.390909  4.526689e-01  2.4  3.300  3.30  3.800   \ncivic                    9.0  1.711111  1.452966e-01  1.6  1.600  1.60  1.800   \ncorolla                  5.0  1.800000  0.000000e+00  1.8  1.800  1.80  1.800   \ncorvette                 5.0  6.160000  5.319774e-01  5.7  5.700  6.20  6.200   \ndakota pickup 4wd        9.0  4.411111  6.153138e-01  3.7  3.900  4.70  4.700   \ndurango 4wd              7.0  4.971429  6.848705e-01  3.9  4.700  4.70  5.450   \nexpedition 2wd           3.0  5.133333  4.618802e-01  4.6  5.000  5.40  5.400   \nexplorer 4wd             6.0  4.266667  4.320494e-01  4.0  4.000  4.00  4.450   \nf150 pickup 4wd          7.0  4.714286  5.014265e-01  4.2  4.400  4.60  5.000   \nforester awd             6.0  2.500000  0.000000e+00  2.5  2.500  2.50  2.500   \ngrand cherokee 4wd       8.0  4.575000  1.015241e+00  3.0  3.925  4.70  4.950   \ngrand prix               5.0  3.960000  8.080842e-01  3.1  3.800  3.80  3.800   \ngti                      5.0  2.160000  3.577709e-01  2.0  2.000  2.00  2.000   \nimpreza awd              8.0  2.425000  1.388730e-01  2.2  2.425  2.50  2.500   \njetta                    9.0  2.277778  3.700601e-01  1.9  2.000  2.00  2.500   \nk1500 tahoe 4wd          4.0  5.700000  5.656854e-01  5.3  5.300  5.50  5.900   \nland cruiser wagon 4wd   2.0  5.200000  7.071068e-01  4.7  4.950  5.20  5.450   \nmalibu                   5.0  3.000000  5.787918e-01  2.4  2.400  3.10  3.500   \nmaxima                   3.0  3.166667  2.886751e-01  3.0  3.000  3.00  3.250   \nmountaineer 4wd          4.0  4.400000  4.898979e-01  4.0  4.000  4.30  4.700   \nmustang                  9.0  4.377778  5.238745e-01  3.8  4.000  4.60  4.600   \nnavigator 2wd            3.0  5.400000  1.087792e-15  5.4  5.400  5.40  5.400   \nnew beetle               6.0  2.133333  2.875181e-01  1.9  1.925  2.00  2.375   \npassat                   7.0  2.400000  6.831301e-01  1.8  1.900  2.00  2.800   \npathfinder 4wd           4.0  4.050000  1.084743e+00  3.3  3.300  3.65  4.400   \nram 1500 pickup 4wd     10.0  5.020000  4.613988e-01  4.7  4.700  4.70  5.200   \nrange rover              4.0  4.300000  2.581989e-01  4.0  4.150  4.30  4.450   \nsonata                   7.0  2.557143  3.309438e-01  2.4  2.400  2.40  2.500   \ntiburon                  7.0  2.300000  3.741657e-01  2.0  2.000  2.00  2.700   \ntoyota tacoma 4wd        7.0  3.271429  5.879747e-01  2.7  2.700  3.40  3.700   \n\n                             year               ...    cty         hwy  \\\n                        max count         mean  ...    75%   max count   \nmodel                                           ...                      \n4runner 4wd             4.7   6.0  2002.000000  ...  15.75  16.0   6.0   \na4                      3.1   7.0  2002.857143  ...  20.50  21.0   7.0   \na4 quattro              3.1   8.0  2003.500000  ...  18.25  20.0   8.0   \na6 quattro              4.2   3.0  2005.000000  ...  16.50  17.0   3.0   \naltima                  3.5   6.0  2005.000000  ...  22.50  23.0   6.0   \nc1500 suburban 2wd      6.0   5.0  2006.200000  ...  14.00  14.0   5.0   \ncamry                   3.5   7.0  2002.857143  ...  21.00  21.0   7.0   \ncamry solara            3.3   7.0  2002.857143  ...  21.00  22.0   7.0   \ncaravan 2wd             4.0  11.0  2003.090909  ...  17.00  18.0  11.0   \ncivic                   2.0   9.0  2003.000000  ...  25.00  28.0   9.0   \ncorolla                 1.8   5.0  2002.600000  ...  26.00  28.0   5.0   \ncorvette                7.0   5.0  2004.400000  ...  16.00  16.0   5.0   \ndakota pickup 4wd       5.2   9.0  2004.000000  ...  14.00  15.0   9.0   \ndurango 4wd             5.9   7.0  2004.142857  ...  13.00  13.0   7.0   \nexpedition 2wd          5.4   3.0  2002.000000  ...  11.50  12.0   3.0   \nexplorer 4wd            5.0   6.0  2002.000000  ...  14.00  15.0   6.0   \nf150 pickup 4wd         5.4   7.0  2001.571429  ...  13.50  14.0   7.0   \nforester awd            2.5   6.0  2005.000000  ...  19.75  20.0   6.0   \ngrand cherokee 4wd      6.1   8.0  2005.750000  ...  15.00  17.0   8.0   \ngrand prix              5.3   5.0  2002.600000  ...  18.00  18.0   5.0   \ngti                     2.8   5.0  2002.600000  ...  21.00  22.0   5.0   \nimpreza awd             2.5   8.0  2003.500000  ...  20.00  21.0   8.0   \njetta                   2.8   9.0  2003.000000  ...  21.00  33.0   9.0   \nk1500 tahoe 4wd         6.5   4.0  2003.500000  ...  14.00  14.0   4.0   \nland cruiser wagon 4wd  5.7   2.0  2003.500000  ...  12.50  13.0   2.0   \nmalibu                  3.6   5.0  2004.400000  ...  19.00  22.0   5.0   \nmaxima                  3.5   3.0  2002.000000  ...  19.00  19.0   3.0   \nmountaineer 4wd         5.0   4.0  2003.500000  ...  13.25  14.0   4.0   \nmustang                 5.4   9.0  2004.000000  ...  17.00  18.0   9.0   \nnavigator 2wd           5.4   3.0  2002.000000  ...  11.50  12.0   3.0   \nnew beetle              2.5   6.0  2002.000000  ...  27.00  35.0   6.0   \npassat                  3.6   7.0  2002.857143  ...  20.00  21.0   7.0   \npathfinder 4wd          5.6   4.0  2003.500000  ...  14.25  15.0   4.0   \nram 1500 pickup 4wd     5.9  10.0  2005.300000  ...  12.75  13.0  10.0   \nrange rover             4.6   4.0  2003.500000  ...  12.00  12.0   4.0   \nsonata                  3.3   7.0  2002.857143  ...  20.00  21.0   7.0   \ntiburon                 2.7   7.0  2005.428571  ...  19.50  20.0   7.0   \ntoyota tacoma 4wd       4.0   7.0  2002.857143  ...  16.00  17.0   7.0   \n\n                                                                             \n                             mean       std   min    25%   50%    75%   max  \nmodel                                                                        \n4runner 4wd             18.833333  1.471960  17.0  17.50  19.5  20.00  20.0  \na4                      28.285714  1.976047  26.0  26.50  29.0  29.50  31.0  \na4 quattro              25.750000  1.164965  25.0  25.00  25.0  26.25  28.0  \na6 quattro              24.000000  1.000000  23.0  23.50  24.0  24.50  25.0  \naltima                  28.666667  2.422120  26.0  27.00  28.0  30.50  32.0  \nc1500 suburban 2wd      17.800000  2.167948  15.0  17.00  17.0  20.00  20.0  \ncamry                   28.285714  2.138090  26.0  26.50  28.0  30.00  31.0  \ncamry solara            28.142857  2.193063  26.0  26.50  27.0  30.00  31.0  \ncaravan 2wd             22.363636  2.062655  17.0  22.00  23.0  24.00  24.0  \ncivic                   32.555556  2.554952  29.0  32.00  32.0  34.00  36.0  \ncorolla                 34.000000  2.645751  30.0  33.00  35.0  35.00  37.0  \ncorvette                24.800000  1.303840  23.0  24.00  25.0  26.00  26.0  \ndakota pickup 4wd       17.000000  2.291288  12.0  17.00  17.0  19.00  19.0  \ndurango 4wd             16.000000  2.000000  12.0  15.50  17.0  17.00  18.0  \nexpedition 2wd          17.333333  0.577350  17.0  17.00  17.0  17.50  18.0  \nexplorer 4wd            18.000000  1.095445  17.0  17.00  18.0  19.00  19.0  \nf150 pickup 4wd         16.428571  0.786796  15.0  16.00  17.0  17.00  17.0  \nforester awd            25.000000  1.414214  23.0  24.25  25.0  25.75  27.0  \ngrand cherokee 4wd      17.625000  3.248626  12.0  16.25  18.5  19.25  22.0  \ngrand prix              26.400000  1.140175  25.0  26.00  26.0  27.00  28.0  \ngti                     27.400000  2.302173  24.0  26.00  29.0  29.00  29.0  \nimpreza awd             26.000000  0.755929  25.0  25.75  26.0  26.25  27.0  \njetta                   29.111111  6.071335  23.0  26.00  29.0  29.00  44.0  \nk1500 tahoe 4wd         16.250000  2.217356  14.0  14.75  16.0  17.50  19.0  \nland cruiser wagon 4wd  16.500000  2.121320  15.0  15.75  16.5  17.25  18.0  \nmalibu                  27.600000  1.816590  26.0  26.00  27.0  29.00  30.0  \nmaxima                  25.333333  0.577350  25.0  25.00  25.0  25.50  26.0  \nmountaineer 4wd         18.000000  1.154701  17.0  17.00  18.0  19.00  19.0  \nmustang                 23.222222  2.166667  20.0  22.00  23.0  25.00  26.0  \nnavigator 2wd           17.000000  1.000000  16.0  16.50  17.0  17.50  18.0  \nnew beetle              32.833333  7.626707  26.0  28.25  29.0  38.00  44.0  \npassat                  27.571429  1.511858  26.0  26.00  28.0  29.00  29.0  \npathfinder 4wd          18.000000  1.414214  17.0  17.00  17.5  18.50  20.0  \nram 1500 pickup 4wd     15.300000  1.888562  12.0  15.00  16.0  16.75  17.0  \nrange rover             16.500000  1.732051  15.0  15.00  16.5  18.00  18.0  \nsonata                  27.714286  2.058663  26.0  26.00  27.0  29.00  31.0  \ntiburon                 26.000000  2.081666  24.0  24.00  26.0  27.50  29.0  \ntoyota tacoma 4wd       19.428571  1.618347  17.0  18.50  20.0  20.00  22.0  \n\n[38 rows x 40 columns]",
      "text/html": "<div>\n<style scoped>\n    .dataframe tbody tr th:only-of-type {\n        vertical-align: middle;\n    }\n\n    .dataframe tbody tr th {\n        vertical-align: top;\n    }\n\n    .dataframe thead tr th {\n        text-align: left;\n    }\n\n    .dataframe thead tr:last-of-type th {\n        text-align: right;\n    }\n</style>\n<table border=\"1\" class=\"dataframe\">\n  <thead>\n    <tr>\n      <th></th>\n      <th colspan=\"8\" halign=\"left\">displ</th>\n      <th colspan=\"2\" halign=\"left\">year</th>\n      <th>...</th>\n      <th colspan=\"2\" halign=\"left\">cty</th>\n      <th colspan=\"8\" halign=\"left\">hwy</th>\n    </tr>\n    <tr>\n      <th></th>\n      <th>count</th>\n      <th>mean</th>\n      <th>std</th>\n      <th>min</th>\n      <th>25%</th>\n      <th>50%</th>\n      <th>75%</th>\n      <th>max</th>\n      <th>count</th>\n      <th>mean</th>\n      <th>...</th>\n      <th>75%</th>\n      <th>max</th>\n      <th>count</th>\n      <th>mean</th>\n      <th>std</th>\n      <th>min</th>\n      <th>25%</th>\n      <th>50%</th>\n      <th>75%</th>\n      <th>max</th>\n    </tr>\n    <tr>\n      <th>model</th>\n      <th></th>\n      <th></th>\n      <th></th>\n      <th></th>\n      <th></th>\n      <th></th>\n      <th></th>\n      <th></th>\n      <th></th>\n      <th></th>\n      <th></th>\n      <th></th>\n      <th></th>\n      <th></th>\n      <th></th>\n      <th></th>\n      <th></th>\n      <th></th>\n      <th></th>\n      <th></th>\n      <th></th>\n    </tr>\n  </thead>\n  <tbody>\n    <tr>\n      <th>4runner 4wd</th>\n      <td>6.0</td>\n      <td>3.483333</td>\n      <td>7.730890e-01</td>\n      <td>2.7</td>\n      <td>2.875</td>\n      <td>3.40</td>\n      <td>3.850</td>\n      <td>4.7</td>\n      <td>6.0</td>\n      <td>2002.000000</td>\n      <td>...</td>\n      <td>15.75</td>\n      <td>16.0</td>\n      <td>6.0</td>\n      <td>18.833333</td>\n      <td>1.471960</td>\n      <td>17.0</td>\n      <td>17.50</td>\n      <td>19.5</td>\n      <td>20.00</td>\n      <td>20.0</td>\n    </tr>\n    <tr>\n      <th>a4</th>\n      <td>7.0</td>\n      <td>2.328571</td>\n      <td>5.498918e-01</td>\n      <td>1.8</td>\n      <td>1.900</td>\n      <td>2.00</td>\n      <td>2.800</td>\n      <td>3.1</td>\n      <td>7.0</td>\n      <td>2002.857143</td>\n      <td>...</td>\n      <td>20.50</td>\n      <td>21.0</td>\n      <td>7.0</td>\n      <td>28.285714</td>\n      <td>1.976047</td>\n      <td>26.0</td>\n      <td>26.50</td>\n      <td>29.0</td>\n      <td>29.50</td>\n      <td>31.0</td>\n    </tr>\n    <tr>\n      <th>a4 quattro</th>\n      <td>8.0</td>\n      <td>2.425000</td>\n      <td>5.775564e-01</td>\n      <td>1.8</td>\n      <td>1.950</td>\n      <td>2.40</td>\n      <td>2.875</td>\n      <td>3.1</td>\n      <td>8.0</td>\n      <td>2003.500000</td>\n      <td>...</td>\n      <td>18.25</td>\n      <td>20.0</td>\n      <td>8.0</td>\n      <td>25.750000</td>\n      <td>1.164965</td>\n      <td>25.0</td>\n      <td>25.00</td>\n      <td>25.0</td>\n      <td>26.25</td>\n      <td>28.0</td>\n    </tr>\n    <tr>\n      <th>a6 quattro</th>\n      <td>3.0</td>\n      <td>3.366667</td>\n      <td>7.371115e-01</td>\n      <td>2.8</td>\n      <td>2.950</td>\n      <td>3.10</td>\n      <td>3.650</td>\n      <td>4.2</td>\n      <td>3.0</td>\n      <td>2005.000000</td>\n      <td>...</td>\n      <td>16.50</td>\n      <td>17.0</td>\n      <td>3.0</td>\n      <td>24.000000</td>\n      <td>1.000000</td>\n      <td>23.0</td>\n      <td>23.50</td>\n      <td>24.0</td>\n      <td>24.50</td>\n      <td>25.0</td>\n    </tr>\n    <tr>\n      <th>altima</th>\n      <td>6.0</td>\n      <td>2.800000</td>\n      <td>5.440588e-01</td>\n      <td>2.4</td>\n      <td>2.425</td>\n      <td>2.50</td>\n      <td>3.250</td>\n      <td>3.5</td>\n      <td>6.0</td>\n      <td>2005.000000</td>\n      <td>...</td>\n      <td>22.50</td>\n      <td>23.0</td>\n      <td>6.0</td>\n      <td>28.666667</td>\n      <td>2.422120</td>\n      <td>26.0</td>\n      <td>27.00</td>\n      <td>28.0</td>\n      <td>30.50</td>\n      <td>32.0</td>\n    </tr>\n    <tr>\n      <th>c1500 suburban 2wd</th>\n      <td>5.0</td>\n      <td>5.520000</td>\n      <td>3.193744e-01</td>\n      <td>5.3</td>\n      <td>5.300</td>\n      <td>5.30</td>\n      <td>5.700</td>\n      <td>6.0</td>\n      <td>5.0</td>\n      <td>2006.200000</td>\n      <td>...</td>\n      <td>14.00</td>\n      <td>14.0</td>\n      <td>5.0</td>\n      <td>17.800000</td>\n      <td>2.167948</td>\n      <td>15.0</td>\n      <td>17.00</td>\n      <td>17.0</td>\n      <td>20.00</td>\n      <td>20.0</td>\n    </tr>\n    <tr>\n      <th>camry</th>\n      <td>7.0</td>\n      <td>2.671429</td>\n      <td>4.990467e-01</td>\n      <td>2.2</td>\n      <td>2.300</td>\n      <td>2.40</td>\n      <td>3.000</td>\n      <td>3.5</td>\n      <td>7.0</td>\n      <td>2002.857143</td>\n      <td>...</td>\n      <td>21.00</td>\n      <td>21.0</td>\n      <td>7.0</td>\n      <td>28.285714</td>\n      <td>2.138090</td>\n      <td>26.0</td>\n      <td>26.50</td>\n      <td>28.0</td>\n      <td>30.00</td>\n      <td>31.0</td>\n    </tr>\n    <tr>\n      <th>camry solara</th>\n      <td>7.0</td>\n      <td>2.642857</td>\n      <td>4.466809e-01</td>\n      <td>2.2</td>\n      <td>2.300</td>\n      <td>2.40</td>\n      <td>3.000</td>\n      <td>3.3</td>\n      <td>7.0</td>\n      <td>2002.857143</td>\n      <td>...</td>\n      <td>21.00</td>\n      <td>22.0</td>\n      <td>7.0</td>\n      <td>28.142857</td>\n      <td>2.193063</td>\n      <td>26.0</td>\n      <td>26.50</td>\n      <td>27.0</td>\n      <td>30.00</td>\n      <td>31.0</td>\n    </tr>\n    <tr>\n      <th>caravan 2wd</th>\n      <td>11.0</td>\n      <td>3.390909</td>\n      <td>4.526689e-01</td>\n      <td>2.4</td>\n      <td>3.300</td>\n      <td>3.30</td>\n      <td>3.800</td>\n      <td>4.0</td>\n      <td>11.0</td>\n      <td>2003.090909</td>\n      <td>...</td>\n      <td>17.00</td>\n      <td>18.0</td>\n      <td>11.0</td>\n      <td>22.363636</td>\n      <td>2.062655</td>\n      <td>17.0</td>\n      <td>22.00</td>\n      <td>23.0</td>\n      <td>24.00</td>\n      <td>24.0</td>\n    </tr>\n    <tr>\n      <th>civic</th>\n      <td>9.0</td>\n      <td>1.711111</td>\n      <td>1.452966e-01</td>\n      <td>1.6</td>\n      <td>1.600</td>\n      <td>1.60</td>\n      <td>1.800</td>\n      <td>2.0</td>\n      <td>9.0</td>\n      <td>2003.000000</td>\n      <td>...</td>\n      <td>25.00</td>\n      <td>28.0</td>\n      <td>9.0</td>\n      <td>32.555556</td>\n      <td>2.554952</td>\n      <td>29.0</td>\n      <td>32.00</td>\n      <td>32.0</td>\n      <td>34.00</td>\n      <td>36.0</td>\n    </tr>\n    <tr>\n      <th>corolla</th>\n      <td>5.0</td>\n      <td>1.800000</td>\n      <td>0.000000e+00</td>\n      <td>1.8</td>\n      <td>1.800</td>\n      <td>1.80</td>\n      <td>1.800</td>\n      <td>1.8</td>\n      <td>5.0</td>\n      <td>2002.600000</td>\n      <td>...</td>\n      <td>26.00</td>\n      <td>28.0</td>\n      <td>5.0</td>\n      <td>34.000000</td>\n      <td>2.645751</td>\n      <td>30.0</td>\n      <td>33.00</td>\n      <td>35.0</td>\n      <td>35.00</td>\n      <td>37.0</td>\n    </tr>\n    <tr>\n      <th>corvette</th>\n      <td>5.0</td>\n      <td>6.160000</td>\n      <td>5.319774e-01</td>\n      <td>5.7</td>\n      <td>5.700</td>\n      <td>6.20</td>\n      <td>6.200</td>\n      <td>7.0</td>\n      <td>5.0</td>\n      <td>2004.400000</td>\n      <td>...</td>\n      <td>16.00</td>\n      <td>16.0</td>\n      <td>5.0</td>\n      <td>24.800000</td>\n      <td>1.303840</td>\n      <td>23.0</td>\n      <td>24.00</td>\n      <td>25.0</td>\n      <td>26.00</td>\n      <td>26.0</td>\n    </tr>\n    <tr>\n      <th>dakota pickup 4wd</th>\n      <td>9.0</td>\n      <td>4.411111</td>\n      <td>6.153138e-01</td>\n      <td>3.7</td>\n      <td>3.900</td>\n      <td>4.70</td>\n      <td>4.700</td>\n      <td>5.2</td>\n      <td>9.0</td>\n      <td>2004.000000</td>\n      <td>...</td>\n      <td>14.00</td>\n      <td>15.0</td>\n      <td>9.0</td>\n      <td>17.000000</td>\n      <td>2.291288</td>\n      <td>12.0</td>\n      <td>17.00</td>\n      <td>17.0</td>\n      <td>19.00</td>\n      <td>19.0</td>\n    </tr>\n    <tr>\n      <th>durango 4wd</th>\n      <td>7.0</td>\n      <td>4.971429</td>\n      <td>6.848705e-01</td>\n      <td>3.9</td>\n      <td>4.700</td>\n      <td>4.70</td>\n      <td>5.450</td>\n      <td>5.9</td>\n      <td>7.0</td>\n      <td>2004.142857</td>\n      <td>...</td>\n      <td>13.00</td>\n      <td>13.0</td>\n      <td>7.0</td>\n      <td>16.000000</td>\n      <td>2.000000</td>\n      <td>12.0</td>\n      <td>15.50</td>\n      <td>17.0</td>\n      <td>17.00</td>\n      <td>18.0</td>\n    </tr>\n    <tr>\n      <th>expedition 2wd</th>\n      <td>3.0</td>\n      <td>5.133333</td>\n      <td>4.618802e-01</td>\n      <td>4.6</td>\n      <td>5.000</td>\n      <td>5.40</td>\n      <td>5.400</td>\n      <td>5.4</td>\n      <td>3.0</td>\n      <td>2002.000000</td>\n      <td>...</td>\n      <td>11.50</td>\n      <td>12.0</td>\n      <td>3.0</td>\n      <td>17.333333</td>\n      <td>0.577350</td>\n      <td>17.0</td>\n      <td>17.00</td>\n      <td>17.0</td>\n      <td>17.50</td>\n      <td>18.0</td>\n    </tr>\n    <tr>\n      <th>explorer 4wd</th>\n      <td>6.0</td>\n      <td>4.266667</td>\n      <td>4.320494e-01</td>\n      <td>4.0</td>\n      <td>4.000</td>\n      <td>4.00</td>\n      <td>4.450</td>\n      <td>5.0</td>\n      <td>6.0</td>\n      <td>2002.000000</td>\n      <td>...</td>\n      <td>14.00</td>\n      <td>15.0</td>\n      <td>6.0</td>\n      <td>18.000000</td>\n      <td>1.095445</td>\n      <td>17.0</td>\n      <td>17.00</td>\n      <td>18.0</td>\n      <td>19.00</td>\n      <td>19.0</td>\n    </tr>\n    <tr>\n      <th>f150 pickup 4wd</th>\n      <td>7.0</td>\n      <td>4.714286</td>\n      <td>5.014265e-01</td>\n      <td>4.2</td>\n      <td>4.400</td>\n      <td>4.60</td>\n      <td>5.000</td>\n      <td>5.4</td>\n      <td>7.0</td>\n      <td>2001.571429</td>\n      <td>...</td>\n      <td>13.50</td>\n      <td>14.0</td>\n      <td>7.0</td>\n      <td>16.428571</td>\n      <td>0.786796</td>\n      <td>15.0</td>\n      <td>16.00</td>\n      <td>17.0</td>\n      <td>17.00</td>\n      <td>17.0</td>\n    </tr>\n    <tr>\n      <th>forester awd</th>\n      <td>6.0</td>\n      <td>2.500000</td>\n      <td>0.000000e+00</td>\n      <td>2.5</td>\n      <td>2.500</td>\n      <td>2.50</td>\n      <td>2.500</td>\n      <td>2.5</td>\n      <td>6.0</td>\n      <td>2005.000000</td>\n      <td>...</td>\n      <td>19.75</td>\n      <td>20.0</td>\n      <td>6.0</td>\n      <td>25.000000</td>\n      <td>1.414214</td>\n      <td>23.0</td>\n      <td>24.25</td>\n      <td>25.0</td>\n      <td>25.75</td>\n      <td>27.0</td>\n    </tr>\n    <tr>\n      <th>grand cherokee 4wd</th>\n      <td>8.0</td>\n      <td>4.575000</td>\n      <td>1.015241e+00</td>\n      <td>3.0</td>\n      <td>3.925</td>\n      <td>4.70</td>\n      <td>4.950</td>\n      <td>6.1</td>\n      <td>8.0</td>\n      <td>2005.750000</td>\n      <td>...</td>\n      <td>15.00</td>\n      <td>17.0</td>\n      <td>8.0</td>\n      <td>17.625000</td>\n      <td>3.248626</td>\n      <td>12.0</td>\n      <td>16.25</td>\n      <td>18.5</td>\n      <td>19.25</td>\n      <td>22.0</td>\n    </tr>\n    <tr>\n      <th>grand prix</th>\n      <td>5.0</td>\n      <td>3.960000</td>\n      <td>8.080842e-01</td>\n      <td>3.1</td>\n      <td>3.800</td>\n      <td>3.80</td>\n      <td>3.800</td>\n      <td>5.3</td>\n      <td>5.0</td>\n      <td>2002.600000</td>\n      <td>...</td>\n      <td>18.00</td>\n      <td>18.0</td>\n      <td>5.0</td>\n      <td>26.400000</td>\n      <td>1.140175</td>\n      <td>25.0</td>\n      <td>26.00</td>\n      <td>26.0</td>\n      <td>27.00</td>\n      <td>28.0</td>\n    </tr>\n    <tr>\n      <th>gti</th>\n      <td>5.0</td>\n      <td>2.160000</td>\n      <td>3.577709e-01</td>\n      <td>2.0</td>\n      <td>2.000</td>\n      <td>2.00</td>\n      <td>2.000</td>\n      <td>2.8</td>\n      <td>5.0</td>\n      <td>2002.600000</td>\n      <td>...</td>\n      <td>21.00</td>\n      <td>22.0</td>\n      <td>5.0</td>\n      <td>27.400000</td>\n      <td>2.302173</td>\n      <td>24.0</td>\n      <td>26.00</td>\n      <td>29.0</td>\n      <td>29.00</td>\n      <td>29.0</td>\n    </tr>\n    <tr>\n      <th>impreza awd</th>\n      <td>8.0</td>\n      <td>2.425000</td>\n      <td>1.388730e-01</td>\n      <td>2.2</td>\n      <td>2.425</td>\n      <td>2.50</td>\n      <td>2.500</td>\n      <td>2.5</td>\n      <td>8.0</td>\n      <td>2003.500000</td>\n      <td>...</td>\n      <td>20.00</td>\n      <td>21.0</td>\n      <td>8.0</td>\n      <td>26.000000</td>\n      <td>0.755929</td>\n      <td>25.0</td>\n      <td>25.75</td>\n      <td>26.0</td>\n      <td>26.25</td>\n      <td>27.0</td>\n    </tr>\n    <tr>\n      <th>jetta</th>\n      <td>9.0</td>\n      <td>2.277778</td>\n      <td>3.700601e-01</td>\n      <td>1.9</td>\n      <td>2.000</td>\n      <td>2.00</td>\n      <td>2.500</td>\n      <td>2.8</td>\n      <td>9.0</td>\n      <td>2003.000000</td>\n      <td>...</td>\n      <td>21.00</td>\n      <td>33.0</td>\n      <td>9.0</td>\n      <td>29.111111</td>\n      <td>6.071335</td>\n      <td>23.0</td>\n      <td>26.00</td>\n      <td>29.0</td>\n      <td>29.00</td>\n      <td>44.0</td>\n    </tr>\n    <tr>\n      <th>k1500 tahoe 4wd</th>\n      <td>4.0</td>\n      <td>5.700000</td>\n      <td>5.656854e-01</td>\n      <td>5.3</td>\n      <td>5.300</td>\n      <td>5.50</td>\n      <td>5.900</td>\n      <td>6.5</td>\n      <td>4.0</td>\n      <td>2003.500000</td>\n      <td>...</td>\n      <td>14.00</td>\n      <td>14.0</td>\n      <td>4.0</td>\n      <td>16.250000</td>\n      <td>2.217356</td>\n      <td>14.0</td>\n      <td>14.75</td>\n      <td>16.0</td>\n      <td>17.50</td>\n      <td>19.0</td>\n    </tr>\n    <tr>\n      <th>land cruiser wagon 4wd</th>\n      <td>2.0</td>\n      <td>5.200000</td>\n      <td>7.071068e-01</td>\n      <td>4.7</td>\n      <td>4.950</td>\n      <td>5.20</td>\n      <td>5.450</td>\n      <td>5.7</td>\n      <td>2.0</td>\n      <td>2003.500000</td>\n      <td>...</td>\n      <td>12.50</td>\n      <td>13.0</td>\n      <td>2.0</td>\n      <td>16.500000</td>\n      <td>2.121320</td>\n      <td>15.0</td>\n      <td>15.75</td>\n      <td>16.5</td>\n      <td>17.25</td>\n      <td>18.0</td>\n    </tr>\n    <tr>\n      <th>malibu</th>\n      <td>5.0</td>\n      <td>3.000000</td>\n      <td>5.787918e-01</td>\n      <td>2.4</td>\n      <td>2.400</td>\n      <td>3.10</td>\n      <td>3.500</td>\n      <td>3.6</td>\n      <td>5.0</td>\n      <td>2004.400000</td>\n      <td>...</td>\n      <td>19.00</td>\n      <td>22.0</td>\n      <td>5.0</td>\n      <td>27.600000</td>\n      <td>1.816590</td>\n      <td>26.0</td>\n      <td>26.00</td>\n      <td>27.0</td>\n      <td>29.00</td>\n      <td>30.0</td>\n    </tr>\n    <tr>\n      <th>maxima</th>\n      <td>3.0</td>\n      <td>3.166667</td>\n      <td>2.886751e-01</td>\n      <td>3.0</td>\n      <td>3.000</td>\n      <td>3.00</td>\n      <td>3.250</td>\n      <td>3.5</td>\n      <td>3.0</td>\n      <td>2002.000000</td>\n      <td>...</td>\n      <td>19.00</td>\n      <td>19.0</td>\n      <td>3.0</td>\n      <td>25.333333</td>\n      <td>0.577350</td>\n      <td>25.0</td>\n      <td>25.00</td>\n      <td>25.0</td>\n      <td>25.50</td>\n      <td>26.0</td>\n    </tr>\n    <tr>\n      <th>mountaineer 4wd</th>\n      <td>4.0</td>\n      <td>4.400000</td>\n      <td>4.898979e-01</td>\n      <td>4.0</td>\n      <td>4.000</td>\n      <td>4.30</td>\n      <td>4.700</td>\n      <td>5.0</td>\n      <td>4.0</td>\n      <td>2003.500000</td>\n      <td>...</td>\n      <td>13.25</td>\n      <td>14.0</td>\n      <td>4.0</td>\n      <td>18.000000</td>\n      <td>1.154701</td>\n      <td>17.0</td>\n      <td>17.00</td>\n      <td>18.0</td>\n      <td>19.00</td>\n      <td>19.0</td>\n    </tr>\n    <tr>\n      <th>mustang</th>\n      <td>9.0</td>\n      <td>4.377778</td>\n      <td>5.238745e-01</td>\n      <td>3.8</td>\n      <td>4.000</td>\n      <td>4.60</td>\n      <td>4.600</td>\n      <td>5.4</td>\n      <td>9.0</td>\n      <td>2004.000000</td>\n      <td>...</td>\n      <td>17.00</td>\n      <td>18.0</td>\n      <td>9.0</td>\n      <td>23.222222</td>\n      <td>2.166667</td>\n      <td>20.0</td>\n      <td>22.00</td>\n      <td>23.0</td>\n      <td>25.00</td>\n      <td>26.0</td>\n    </tr>\n    <tr>\n      <th>navigator 2wd</th>\n      <td>3.0</td>\n      <td>5.400000</td>\n      <td>1.087792e-15</td>\n      <td>5.4</td>\n      <td>5.400</td>\n      <td>5.40</td>\n      <td>5.400</td>\n      <td>5.4</td>\n      <td>3.0</td>\n      <td>2002.000000</td>\n      <td>...</td>\n      <td>11.50</td>\n      <td>12.0</td>\n      <td>3.0</td>\n      <td>17.000000</td>\n      <td>1.000000</td>\n      <td>16.0</td>\n      <td>16.50</td>\n      <td>17.0</td>\n      <td>17.50</td>\n      <td>18.0</td>\n    </tr>\n    <tr>\n      <th>new beetle</th>\n      <td>6.0</td>\n      <td>2.133333</td>\n      <td>2.875181e-01</td>\n      <td>1.9</td>\n      <td>1.925</td>\n      <td>2.00</td>\n      <td>2.375</td>\n      <td>2.5</td>\n      <td>6.0</td>\n      <td>2002.000000</td>\n      <td>...</td>\n      <td>27.00</td>\n      <td>35.0</td>\n      <td>6.0</td>\n      <td>32.833333</td>\n      <td>7.626707</td>\n      <td>26.0</td>\n      <td>28.25</td>\n      <td>29.0</td>\n      <td>38.00</td>\n      <td>44.0</td>\n    </tr>\n    <tr>\n      <th>passat</th>\n      <td>7.0</td>\n      <td>2.400000</td>\n      <td>6.831301e-01</td>\n      <td>1.8</td>\n      <td>1.900</td>\n      <td>2.00</td>\n      <td>2.800</td>\n      <td>3.6</td>\n      <td>7.0</td>\n      <td>2002.857143</td>\n      <td>...</td>\n      <td>20.00</td>\n      <td>21.0</td>\n      <td>7.0</td>\n      <td>27.571429</td>\n      <td>1.511858</td>\n      <td>26.0</td>\n      <td>26.00</td>\n      <td>28.0</td>\n      <td>29.00</td>\n      <td>29.0</td>\n    </tr>\n    <tr>\n      <th>pathfinder 4wd</th>\n      <td>4.0</td>\n      <td>4.050000</td>\n      <td>1.084743e+00</td>\n      <td>3.3</td>\n      <td>3.300</td>\n      <td>3.65</td>\n      <td>4.400</td>\n      <td>5.6</td>\n      <td>4.0</td>\n      <td>2003.500000</td>\n      <td>...</td>\n      <td>14.25</td>\n      <td>15.0</td>\n      <td>4.0</td>\n      <td>18.000000</td>\n      <td>1.414214</td>\n      <td>17.0</td>\n      <td>17.00</td>\n      <td>17.5</td>\n      <td>18.50</td>\n      <td>20.0</td>\n    </tr>\n    <tr>\n      <th>ram 1500 pickup 4wd</th>\n      <td>10.0</td>\n      <td>5.020000</td>\n      <td>4.613988e-01</td>\n      <td>4.7</td>\n      <td>4.700</td>\n      <td>4.70</td>\n      <td>5.200</td>\n      <td>5.9</td>\n      <td>10.0</td>\n      <td>2005.300000</td>\n      <td>...</td>\n      <td>12.75</td>\n      <td>13.0</td>\n      <td>10.0</td>\n      <td>15.300000</td>\n      <td>1.888562</td>\n      <td>12.0</td>\n      <td>15.00</td>\n      <td>16.0</td>\n      <td>16.75</td>\n      <td>17.0</td>\n    </tr>\n    <tr>\n      <th>range rover</th>\n      <td>4.0</td>\n      <td>4.300000</td>\n      <td>2.581989e-01</td>\n      <td>4.0</td>\n      <td>4.150</td>\n      <td>4.30</td>\n      <td>4.450</td>\n      <td>4.6</td>\n      <td>4.0</td>\n      <td>2003.500000</td>\n      <td>...</td>\n      <td>12.00</td>\n      <td>12.0</td>\n      <td>4.0</td>\n      <td>16.500000</td>\n      <td>1.732051</td>\n      <td>15.0</td>\n      <td>15.00</td>\n      <td>16.5</td>\n      <td>18.00</td>\n      <td>18.0</td>\n    </tr>\n    <tr>\n      <th>sonata</th>\n      <td>7.0</td>\n      <td>2.557143</td>\n      <td>3.309438e-01</td>\n      <td>2.4</td>\n      <td>2.400</td>\n      <td>2.40</td>\n      <td>2.500</td>\n      <td>3.3</td>\n      <td>7.0</td>\n      <td>2002.857143</td>\n      <td>...</td>\n      <td>20.00</td>\n      <td>21.0</td>\n      <td>7.0</td>\n      <td>27.714286</td>\n      <td>2.058663</td>\n      <td>26.0</td>\n      <td>26.00</td>\n      <td>27.0</td>\n      <td>29.00</td>\n      <td>31.0</td>\n    </tr>\n    <tr>\n      <th>tiburon</th>\n      <td>7.0</td>\n      <td>2.300000</td>\n      <td>3.741657e-01</td>\n      <td>2.0</td>\n      <td>2.000</td>\n      <td>2.00</td>\n      <td>2.700</td>\n      <td>2.7</td>\n      <td>7.0</td>\n      <td>2005.428571</td>\n      <td>...</td>\n      <td>19.50</td>\n      <td>20.0</td>\n      <td>7.0</td>\n      <td>26.000000</td>\n      <td>2.081666</td>\n      <td>24.0</td>\n      <td>24.00</td>\n      <td>26.0</td>\n      <td>27.50</td>\n      <td>29.0</td>\n    </tr>\n    <tr>\n      <th>toyota tacoma 4wd</th>\n      <td>7.0</td>\n      <td>3.271429</td>\n      <td>5.879747e-01</td>\n      <td>2.7</td>\n      <td>2.700</td>\n      <td>3.40</td>\n      <td>3.700</td>\n      <td>4.0</td>\n      <td>7.0</td>\n      <td>2002.857143</td>\n      <td>...</td>\n      <td>16.00</td>\n      <td>17.0</td>\n      <td>7.0</td>\n      <td>19.428571</td>\n      <td>1.618347</td>\n      <td>17.0</td>\n      <td>18.50</td>\n      <td>20.0</td>\n      <td>20.00</td>\n      <td>22.0</td>\n    </tr>\n  </tbody>\n</table>\n<p>38 rows × 40 columns</p>\n</div>"
     },
     "execution_count": 123,
     "metadata": {},
     "output_type": "execute_result"
    }
   ],
   "source": [
    "mpg_df.groupby('model').describe()"
   ],
   "metadata": {
    "collapsed": false
   }
  },
  {
   "cell_type": "markdown",
   "source": [
    "\n",
    "12.Create a column named mileage_difference like you did in the DataFrames exercises; this column should contain the difference between highway and city mileage for each car."
   ],
   "metadata": {
    "collapsed": false
   }
  },
  {
   "cell_type": "code",
   "execution_count": 137,
   "outputs": [],
   "source": [
    "mpg_df['mileage_difference'] = abs(mpg_df.hwy - mpg_df.cty)"
   ],
   "metadata": {
    "collapsed": false
   }
  },
  {
   "cell_type": "markdown",
   "source": [
    "\n",
    "13.Create a column named average_mileage like you did in the DataFrames exercises; this is the mean of the city and highway mileage."
   ],
   "metadata": {
    "collapsed": false
   }
  },
  {
   "cell_type": "code",
   "execution_count": 136,
   "outputs": [],
   "source": [
    "mpg_df['average_mileage'] = round((mpg_df.hwy + mpg_df.cty) / 2, 1)"
   ],
   "metadata": {
    "collapsed": false
   }
  },
  {
   "cell_type": "markdown",
   "source": [
    "\n",
    "14.Create a new column on the mpg dataset named is_automatic that holds boolean values denoting whether the car has an automatic transmission."
   ],
   "metadata": {
    "collapsed": false
   }
  },
  {
   "cell_type": "code",
   "execution_count": 131,
   "outputs": [],
   "source": [
    "mpg_df['is_automatic'] = mpg_df[\"trans\"].str.contains(\"auto\")"
   ],
   "metadata": {
    "collapsed": false
   }
  },
  {
   "cell_type": "markdown",
   "source": [
    "\n",
    "15.Using the mpg dataset, find out which manufacturer has the best miles per gallon on average?"
   ],
   "metadata": {
    "collapsed": false
   }
  },
  {
   "cell_type": "code",
   "execution_count": 147,
   "outputs": [
    {
     "data": {
      "text/plain": "'honda'"
     },
     "execution_count": 147,
     "metadata": {},
     "output_type": "execute_result"
    }
   ],
   "source": [
    "mpg_by_manufacturer = mpg_df.groupby('manufacturer')['average_mileage'].mean()\n",
    "best_manufacturer = mpg_by_manufacturer.idxmax()\n",
    "best_manufacturer"
   ],
   "metadata": {
    "collapsed": false
   }
  },
  {
   "cell_type": "markdown",
   "source": [
    "\n",
    "16.Do automatic or manual cars have better miles per gallon?"
   ],
   "metadata": {
    "collapsed": false
   }
  },
  {
   "cell_type": "code",
   "execution_count": 149,
   "outputs": [
    {
     "data": {
      "text/plain": "is_automatic\nFalse    22.227273\nTrue     19.130573\nName: average_mileage, dtype: float64"
     },
     "execution_count": 149,
     "metadata": {},
     "output_type": "execute_result"
    }
   ],
   "source": [
    "mpg_by_trans = mpg_df.groupby('is_automatic')['average_mileage'].mean()\n",
    "mpg_by_trans"
   ],
   "metadata": {
    "collapsed": false
   }
  },
  {
   "cell_type": "markdown",
   "source": [
    "Exercises III\n",
    "\n",
    "1.Use your get_db_url function to help you explore the data from the chipotle database."
   ],
   "metadata": {
    "collapsed": false
   }
  },
  {
   "cell_type": "code",
   "execution_count": null,
   "outputs": [],
   "source": [],
   "metadata": {
    "collapsed": false
   }
  },
  {
   "cell_type": "markdown",
   "source": [
    "2.What is the total price for each order?"
   ],
   "metadata": {
    "collapsed": false
   }
  },
  {
   "cell_type": "code",
   "execution_count": null,
   "outputs": [],
   "source": [],
   "metadata": {
    "collapsed": false
   }
  },
  {
   "cell_type": "markdown",
   "source": [
    "3.What are the most popular 3 items?"
   ],
   "metadata": {
    "collapsed": false
   }
  },
  {
   "cell_type": "code",
   "execution_count": null,
   "outputs": [],
   "source": [],
   "metadata": {
    "collapsed": false
   }
  },
  {
   "cell_type": "markdown",
   "source": [
    "4.Which item has produced the most revenue?"
   ],
   "metadata": {
    "collapsed": false
   }
  },
  {
   "cell_type": "code",
   "execution_count": null,
   "outputs": [],
   "source": [],
   "metadata": {
    "collapsed": false
   }
  },
  {
   "cell_type": "markdown",
   "source": [
    "5.Join the employees and titles DataFrames together."
   ],
   "metadata": {
    "collapsed": false
   }
  },
  {
   "cell_type": "code",
   "execution_count": null,
   "outputs": [],
   "source": [],
   "metadata": {
    "collapsed": false
   }
  },
  {
   "cell_type": "markdown",
   "source": [
    "6.For each title, find the hire date of the employee that was hired most recently with that title."
   ],
   "metadata": {
    "collapsed": false
   }
  },
  {
   "cell_type": "code",
   "execution_count": null,
   "outputs": [],
   "source": [],
   "metadata": {
    "collapsed": false
   }
  },
  {
   "cell_type": "markdown",
   "source": [
    "7.Write the code necessary to create a cross tabulation of the number of titles by department. (Hint: this will involve a combination of SQL code to pull the necessary data and python/pandas code to perform the manipulations.)"
   ],
   "metadata": {
    "collapsed": false
   }
  },
  {
   "cell_type": "code",
   "execution_count": null,
   "outputs": [],
   "source": [],
   "metadata": {
    "collapsed": false
   }
  }
 ],
 "metadata": {
  "kernelspec": {
   "display_name": "Python 3",
   "language": "python",
   "name": "python3"
  },
  "language_info": {
   "codemirror_mode": {
    "name": "ipython",
    "version": 2
   },
   "file_extension": ".py",
   "mimetype": "text/x-python",
   "name": "python",
   "nbconvert_exporter": "python",
   "pygments_lexer": "ipython2",
   "version": "2.7.6"
  }
 },
 "nbformat": 4,
 "nbformat_minor": 0
}
