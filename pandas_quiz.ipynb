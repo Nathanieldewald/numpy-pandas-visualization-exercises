{
 "cells": [
  {
   "cell_type": "markdown",
   "id": "2d45f3d2",
   "metadata": {},
   "source": [
    "<div class=\"alert alert-block alert-success\">\n",
    "    \n",
    "## Data Science Libraries Quiz"
   ]
  },
  {
   "cell_type": "markdown",
   "id": "ef7573e4",
   "metadata": {},
   "source": [
    "### Instructions\n",
    "\n",
    "\n",
    "1. Write code which will produce the specified result  \n",
    "2. Enter that result in the green response cell when prompted\n",
    "3. Write comment(s) to describe the code\n",
    "\n",
    "\n",
    "#### Note:\n",
    "\n",
    "1. Complete the work without the help of others\n",
    "2. Enter one comment on Question 0 for 1 point \n",
    "3. There are 9 questions, each worth 11 points\n",
    "    - 10 points for code and answers\n",
    "    - 1 point for at least one code comment on each question\n",
    "4. You can receive partial credit for your code\n",
    "\n",
    "\n",
    "\n"
   ]
  },
  {
   "cell_type": "markdown",
   "id": "00089e29",
   "metadata": {},
   "source": [
    "<div class=\"alert alert-block alert-info\">\n",
    "\n",
    "### Question 0 \n",
    "\n",
    "- Run the following two cells\n",
    "- Enter one code comment"
   ]
  },
  {
   "cell_type": "code",
   "execution_count": null,
   "id": "7518c63f",
   "metadata": {
    "pycharm": {
     "is_executing": true
    }
   },
   "outputs": [],
   "source": [
    "# imports for the quiz\n",
    "from pydataset import data\n",
    "import pandas as pd\n",
    "import matplotlib.pyplot as plt"
   ]
  },
  {
   "cell_type": "code",
   "execution_count": 131,
   "id": "865d50ed",
   "metadata": {},
   "outputs": [],
   "source": [
    "df = data('tips')"
   ]
  },
  {
   "cell_type": "markdown",
   "id": "fe27cde9",
   "metadata": {},
   "source": [
    "---\n",
    "\n",
    "<div class=\"alert alert-block alert-info\">\n",
    "  \n",
    "## Question 1\n",
    "        \n",
    "a) What is the highest bill?\n",
    "    \n",
    "b) What time of day did this bill occur? "
   ]
  },
  {
   "cell_type": "code",
   "execution_count": null,
   "id": "a244a32e",
   "metadata": {},
   "outputs": [],
   "source": [
    "df.total_bill.max()"
   ]
  },
  {
   "cell_type": "code",
   "execution_count": null,
   "id": "c3876d70",
   "metadata": {},
   "outputs": [],
   "source": []
  },
  {
   "cell_type": "markdown",
   "id": "0396d4ec",
   "metadata": {},
   "source": [
    "<div class=\"alert alert-block alert-success\">\n",
    "\n",
    "### Question 1 Response\n",
    "    \n",
    "a)\n",
    "    \n",
    "b)\n"
   ]
  },
  {
   "cell_type": "markdown",
   "id": "556bf24a",
   "metadata": {},
   "source": [
    "---\n",
    "\n",
    "<div class=\"alert alert-block alert-info\">\n",
    "  \n",
    "## Question 2\n",
    "    \n",
    "a) What values are in the smoker column?\n",
    "    \n",
    "b) Are the majority of tables smoking or non-smoking?"
   ]
  },
  {
   "cell_type": "code",
   "execution_count": null,
   "id": "18a06047",
   "metadata": {},
   "outputs": [],
   "source": []
  },
  {
   "cell_type": "code",
   "execution_count": null,
   "id": "535dc72c",
   "metadata": {},
   "outputs": [],
   "source": []
  },
  {
   "cell_type": "markdown",
   "id": "f07030c8",
   "metadata": {},
   "source": [
    "<div class=\"alert alert-block alert-success\">\n",
    "\n",
    "### Question 2 Response\n",
    "    \n",
    "a)\n",
    "\n",
    "b)"
   ]
  },
  {
   "cell_type": "markdown",
   "id": "b626b24b",
   "metadata": {},
   "source": [
    "---\n",
    "\n",
    "<div class=\"alert alert-block alert-info\">\n",
    "  \n",
    "## Question 3 \n",
    "    \n",
    "- What proportion of the bills are from the weekend (Saturday and/or Sunday)?\n",
    "- Round your answer to two decimal points."
   ]
  },
  {
   "cell_type": "code",
   "execution_count": null,
   "id": "0ed5802e",
   "metadata": {},
   "outputs": [],
   "source": []
  },
  {
   "cell_type": "code",
   "execution_count": null,
   "id": "dabe286c",
   "metadata": {},
   "outputs": [],
   "source": []
  },
  {
   "cell_type": "markdown",
   "id": "8f492a09",
   "metadata": {},
   "source": [
    "<div class=\"alert alert-block alert-success\">\n",
    "\n",
    "### Question 3 Response\n",
    "    \n",
    "- \n",
    "\n"
   ]
  },
  {
   "cell_type": "markdown",
   "id": "431c62fa",
   "metadata": {},
   "source": [
    "---\n",
    "<div class=\"alert alert-block alert-info\">\n",
    "    \n",
    "## Question 4\n",
    "\n",
    "    \n",
    "-  Create a column named `percent_tip`.\n",
    "\n",
    "\n",
    "- Calculate the percent_tip based on the formula below. \n",
    "\n",
    "\n",
    "\n",
    "> $\\texttt{Percent tip} = \\dfrac{\\texttt{tip amount}}{\\texttt{bill}}$\n",
    "\n",
    "- What was the highest percent tip?"
   ]
  },
  {
   "cell_type": "code",
   "execution_count": null,
   "id": "68c7babf",
   "metadata": {},
   "outputs": [],
   "source": []
  },
  {
   "cell_type": "code",
   "execution_count": null,
   "id": "ed0976bf",
   "metadata": {},
   "outputs": [],
   "source": []
  },
  {
   "cell_type": "markdown",
   "id": "45aa998d",
   "metadata": {},
   "source": [
    "<div class=\"alert alert-block alert-success\">\n",
    "\n",
    "### Question 4 Response\n",
    "    \n",
    "- \n",
    "    "
   ]
  },
  {
   "cell_type": "markdown",
   "id": "918f8c96",
   "metadata": {},
   "source": [
    "---\n",
    "\n",
    "<div class=\"alert alert-block alert-info\">\n",
    "    \n",
    "## Question 5\n",
    "\n",
    "    \n",
    "a) Which time of day has a higher average bill, dinner or lunch?\n",
    "    \n",
    "b) What is the difference in the average bill?\n"
   ]
  },
  {
   "cell_type": "code",
   "execution_count": null,
   "id": "323490b5",
   "metadata": {},
   "outputs": [],
   "source": []
  },
  {
   "cell_type": "code",
   "execution_count": null,
   "id": "68217d84",
   "metadata": {},
   "outputs": [],
   "source": []
  },
  {
   "cell_type": "markdown",
   "id": "7400e7df",
   "metadata": {},
   "source": [
    "<div class=\"alert alert-block alert-success\">\n",
    "\n",
    "### Question 5 Response\n",
    "    \n",
    "a)\n",
    "\n",
    "b)"
   ]
  },
  {
   "cell_type": "markdown",
   "id": "e8568525",
   "metadata": {},
   "source": [
    "---\n",
    "<div class=\"alert alert-block alert-info\">\n",
    "    \n",
    "## Question 6\n",
    "    \n",
    "\n",
    "- Rename the column named `size` to `table size`\n",
    "- Verify this column name replaces the former column name \n",
    "- Use your new column name to determine:\n",
    "    - What is the most common table size?\n"
   ]
  },
  {
   "cell_type": "code",
   "execution_count": null,
   "id": "dfa99618",
   "metadata": {},
   "outputs": [],
   "source": []
  },
  {
   "cell_type": "code",
   "execution_count": null,
   "id": "3575c9f0",
   "metadata": {},
   "outputs": [],
   "source": []
  },
  {
   "cell_type": "markdown",
   "id": "1f77def8",
   "metadata": {},
   "source": [
    "<div class=\"alert alert-block alert-success\">\n",
    "\n",
    "### Question 6 Response\n",
    "    \n",
    "- \n",
    "    "
   ]
  },
  {
   "cell_type": "markdown",
   "id": "ea4b4461",
   "metadata": {},
   "source": [
    "---\n",
    "<div class=\"alert alert-block alert-info\">\n",
    "    \n",
    "## Question 7\n",
    "\n",
    "- The following code produces errors.\n",
    "    \n",
    "- Correct the code to determine:\n",
    "    - What is the **maximum bill** for dinner time on Thursday?\n",
    "    "
   ]
  },
  {
   "cell_type": "markdown",
   "id": "8a1beaa7",
   "metadata": {},
   "source": [
    "#### Incorrect code\n",
    "```python\n",
    "df.total_bill( (df.day == 'Thursday') and (df.time == 'dinner') ) \n",
    "```"
   ]
  },
  {
   "cell_type": "code",
   "execution_count": null,
   "id": "4c324bb9",
   "metadata": {},
   "outputs": [],
   "source": []
  },
  {
   "cell_type": "code",
   "execution_count": null,
   "id": "5712ccce",
   "metadata": {},
   "outputs": [],
   "source": []
  },
  {
   "cell_type": "markdown",
   "id": "bd522803",
   "metadata": {},
   "source": [
    "<div class=\"alert alert-block alert-success\">\n",
    "\n",
    "### Question 7 Response\n",
    "\n",
    "    \n",
    "- \n",
    "    \n",
    "    "
   ]
  },
  {
   "cell_type": "markdown",
   "id": "8919b3dc",
   "metadata": {},
   "source": [
    "---\n",
    "<div class=\"alert alert-block alert-info\">\n",
    "    \n",
    "## Question 8\n",
    "\n",
    "\n",
    "- What is the min, mean, and max total bill?\n",
    "- Plot the distribution of the total bill\n",
    "    - add a title\n",
    "    "
   ]
  },
  {
   "cell_type": "code",
   "execution_count": null,
   "id": "7bab77e4",
   "metadata": {},
   "outputs": [],
   "source": []
  },
  {
   "cell_type": "code",
   "execution_count": null,
   "id": "9cfef007",
   "metadata": {},
   "outputs": [],
   "source": []
  },
  {
   "cell_type": "markdown",
   "id": "5b97e94a",
   "metadata": {},
   "source": [
    "<div class=\"alert alert-block alert-success\">\n",
    "\n",
    "### Question 8 Response\n",
    "\n",
    "    \n",
    "- \n",
    "    \n",
    "    "
   ]
  },
  {
   "cell_type": "markdown",
   "id": "e79587aa",
   "metadata": {},
   "source": [
    "---\n",
    "<div class=\"alert alert-block alert-info\">\n",
    "    \n",
    "## Question 9\n",
    "\n",
    "- Use matplotlib to create a **scatter plot** for total_bill and tips\n",
    "    - Plot total_bill along the x-axis\n",
    "\n",
    "- Customize the visualization in at least one way\n",
    "- Add axis labels and a title"
   ]
  },
  {
   "cell_type": "code",
   "execution_count": null,
   "id": "7a032ae9",
   "metadata": {},
   "outputs": [],
   "source": []
  },
  {
   "cell_type": "code",
   "execution_count": null,
   "id": "f1e7dc60",
   "metadata": {},
   "outputs": [],
   "source": []
  }
 ],
 "metadata": {
  "kernelspec": {
   "display_name": "Python 3 (ipykernel)",
   "language": "python",
   "name": "python3"
  },
  "language_info": {
   "codemirror_mode": {
    "name": "ipython",
    "version": 3
   },
   "file_extension": ".py",
   "mimetype": "text/x-python",
   "name": "python",
   "nbconvert_exporter": "python",
   "pygments_lexer": "ipython3",
   "version": "3.9.12"
  }
 },
 "nbformat": 4,
 "nbformat_minor": 5
}
