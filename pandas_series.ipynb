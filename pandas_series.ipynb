{
 "cells": [
  {
   "cell_type": "code",
   "execution_count": 1,
   "metadata": {
    "collapsed": true
   },
   "outputs": [],
   "source": [
    "\n",
    "import numpy as np\n",
    "import pandas as pd\n",
    "from pydataset import data\n",
    "\n",
    "fruits = pd.Series([\"kiwi\", \"mango\", \"strawberry\", \"pineapple\", \"gala apple\", \"honeycrisp apple\", \"tomato\", \"watermelon\", \"honeydew\", \"kiwi\", \"kiwi\", \"kiwi\", \"mango\", \"blueberry\", \"blackberry\", \"gooseberry\", \"papaya\"])"
   ]
  },
  {
   "cell_type": "markdown",
   "source": [
    "1.Determine the number of elements in fruits."
   ],
   "metadata": {
    "collapsed": false
   }
  },
  {
   "cell_type": "code",
   "execution_count": 1,
   "outputs": [
    {
     "ename": "NameError",
     "evalue": "name 'fruits' is not defined",
     "output_type": "error",
     "traceback": [
      "\u001B[0;31m---------------------------------------------------------------------------\u001B[0m",
      "\u001B[0;31mNameError\u001B[0m                                 Traceback (most recent call last)",
      "Cell \u001B[0;32mIn[1], line 1\u001B[0m\n\u001B[0;32m----> 1\u001B[0m \u001B[38;5;28mprint\u001B[39m(\u001B[38;5;28mlen\u001B[39m(\u001B[43mfruits\u001B[49m))\n",
      "\u001B[0;31mNameError\u001B[0m: name 'fruits' is not defined"
     ]
    }
   ],
   "source": [
    "print(len(fruits))\n"
   ],
   "metadata": {
    "collapsed": false
   }
  },
  {
   "cell_type": "markdown",
   "source": [
    "2.Output only the index from fruits.\n"
   ],
   "metadata": {
    "collapsed": false
   }
  },
  {
   "cell_type": "code",
   "execution_count": 3,
   "outputs": [
    {
     "name": "stdout",
     "output_type": "stream",
     "text": [
      "RangeIndex(start=0, stop=17, step=1)\n"
     ]
    }
   ],
   "source": [
    "print(fruits.index)\n"
   ],
   "metadata": {
    "collapsed": false
   }
  },
  {
   "cell_type": "markdown",
   "source": [
    "3.Output only the values from fruits.\n"
   ],
   "metadata": {
    "collapsed": false
   }
  },
  {
   "cell_type": "code",
   "execution_count": 4,
   "outputs": [
    {
     "name": "stdout",
     "output_type": "stream",
     "text": [
      "['kiwi' 'mango' 'strawberry' 'pineapple' 'gala apple' 'honeycrisp apple'\n",
      " 'tomato' 'watermelon' 'honeydew' 'kiwi' 'kiwi' 'kiwi' 'mango' 'blueberry'\n",
      " 'blackberry' 'gooseberry' 'papaya']\n"
     ]
    }
   ],
   "source": [
    "print(fruits.values)\n"
   ],
   "metadata": {
    "collapsed": false
   }
  },
  {
   "cell_type": "markdown",
   "source": [
    "4.Confirm the data type of the values in fruits.\n"
   ],
   "metadata": {
    "collapsed": false
   }
  },
  {
   "cell_type": "code",
   "execution_count": 5,
   "outputs": [
    {
     "name": "stdout",
     "output_type": "stream",
     "text": [
      "object\n"
     ]
    }
   ],
   "source": [
    "print(fruits.dtype)"
   ],
   "metadata": {
    "collapsed": false
   }
  },
  {
   "cell_type": "markdown",
   "source": [],
   "metadata": {
    "collapsed": false
   }
  },
  {
   "cell_type": "markdown",
   "source": [
    "5.Output only the first five values from fruits. Output the last three values. Output two random values from fruits.\n"
   ],
   "metadata": {
    "collapsed": false
   }
  },
  {
   "cell_type": "code",
   "execution_count": 6,
   "outputs": [
    {
     "data": {
      "text/plain": "0          kiwi\n1         mango\n2    strawberry\n3     pineapple\n4    gala apple\ndtype: object"
     },
     "execution_count": 6,
     "metadata": {},
     "output_type": "execute_result"
    }
   ],
   "source": [
    "fruits.head()"
   ],
   "metadata": {
    "collapsed": false
   }
  },
  {
   "cell_type": "markdown",
   "source": [
    "6.Run the .describe() on fruits to see what information it returns when called on a Series with string values.\n"
   ],
   "metadata": {
    "collapsed": false
   }
  },
  {
   "cell_type": "code",
   "execution_count": 7,
   "outputs": [
    {
     "data": {
      "text/plain": "count       17\nunique      13\ntop       kiwi\nfreq         4\ndtype: object"
     },
     "execution_count": 7,
     "metadata": {},
     "output_type": "execute_result"
    }
   ],
   "source": [
    "fruits.describe()"
   ],
   "metadata": {
    "collapsed": false
   }
  },
  {
   "cell_type": "markdown",
   "source": [
    "7.Run the code necessary to produce only the unique string values from fruits.\n"
   ],
   "metadata": {
    "collapsed": false
   }
  },
  {
   "cell_type": "code",
   "execution_count": 8,
   "outputs": [
    {
     "data": {
      "text/plain": "count       17\nunique      13\ntop       kiwi\nfreq         4\ndtype: object"
     },
     "execution_count": 8,
     "metadata": {},
     "output_type": "execute_result"
    }
   ],
   "source": [
    "fruits.describe()"
   ],
   "metadata": {
    "collapsed": false
   }
  },
  {
   "cell_type": "markdown",
   "source": [
    "8.Determine how many times each unique string value occurs in fruits.\n"
   ],
   "metadata": {
    "collapsed": false
   }
  },
  {
   "cell_type": "code",
   "execution_count": 9,
   "outputs": [
    {
     "name": "stdout",
     "output_type": "stream",
     "text": [
      "['kiwi' 'mango' 'strawberry' 'pineapple' 'gala apple' 'honeycrisp apple'\n",
      " 'tomato' 'watermelon' 'honeydew' 'blueberry' 'blackberry' 'gooseberry'\n",
      " 'papaya']\n"
     ]
    }
   ],
   "source": [
    "print(fruits.unique())\n"
   ],
   "metadata": {
    "collapsed": false
   }
  },
  {
   "cell_type": "markdown",
   "source": [
    "9.Determine the string value that occurs most frequently in fruits.\n"
   ],
   "metadata": {
    "collapsed": false
   }
  },
  {
   "cell_type": "code",
   "execution_count": 10,
   "outputs": [
    {
     "name": "stdout",
     "output_type": "stream",
     "text": [
      "kiwi                4\n",
      "mango               2\n",
      "strawberry          1\n",
      "pineapple           1\n",
      "gala apple          1\n",
      "honeycrisp apple    1\n",
      "tomato              1\n",
      "watermelon          1\n",
      "honeydew            1\n",
      "blueberry           1\n",
      "blackberry          1\n",
      "gooseberry          1\n",
      "papaya              1\n",
      "dtype: int64\n"
     ]
    }
   ],
   "source": [
    "print(fruits.value_counts())\n"
   ],
   "metadata": {
    "collapsed": false
   }
  },
  {
   "cell_type": "markdown",
   "source": [
    "10.Determine the string value that occurs least frequently in fruits.\n"
   ],
   "metadata": {
    "collapsed": false
   }
  },
  {
   "cell_type": "code",
   "execution_count": 11,
   "outputs": [
    {
     "name": "stdout",
     "output_type": "stream",
     "text": [
      "kiwi                4\n",
      "mango               2\n",
      "strawberry          1\n",
      "pineapple           1\n",
      "gala apple          1\n",
      "honeycrisp apple    1\n",
      "tomato              1\n",
      "watermelon          1\n",
      "honeydew            1\n",
      "blueberry           1\n",
      "blackberry          1\n",
      "gooseberry          1\n",
      "papaya              1\n",
      "dtype: int64\n"
     ]
    }
   ],
   "source": [
    "\n",
    "print(fruits.value_counts())"
   ],
   "metadata": {
    "collapsed": false
   }
  },
  {
   "cell_type": "markdown",
   "source": [
    "Exercises Part II\n",
    "Explore more attributes and methods while you continue to work with the fruits Series.\n",
    "\n",
    "1.Capitalize all the string values in fruits.\n",
    "\n",
    "2.Count the letter \"a\" in all the string values (use string vectorization).\n",
    "\n",
    "3.Output the number of vowels in each and every string value.\n",
    "\n",
    "4.Write the code to get the longest string value from fruits.\n",
    "\n",
    "5.Write the code to get the string values with 5 or more letters in the name.\n",
    "\n",
    "6.Find the fruit(s) containing the letter \"o\" two or more times.\n",
    "\n",
    "7.Write the code to get only the string values containing the substring \"berry\".\n",
    "\n",
    "8.Write the code to get only the string values containing the substring \"apple\".\n",
    "\n",
    "9.Which string value contains the most vowels?"
   ],
   "metadata": {
    "collapsed": false
   }
  },
  {
   "cell_type": "markdown",
   "source": [
    "1.Capitalize all the string values in fruits."
   ],
   "metadata": {
    "collapsed": false
   }
  },
  {
   "cell_type": "code",
   "execution_count": 12,
   "outputs": [
    {
     "data": {
      "text/plain": "0                 Kiwi\n1                Mango\n2           Strawberry\n3            Pineapple\n4           Gala apple\n5     Honeycrisp apple\n6               Tomato\n7           Watermelon\n8             Honeydew\n9                 Kiwi\n10                Kiwi\n11                Kiwi\n12               Mango\n13           Blueberry\n14          Blackberry\n15          Gooseberry\n16              Papaya\ndtype: object"
     },
     "execution_count": 12,
     "metadata": {},
     "output_type": "execute_result"
    }
   ],
   "source": [
    "fruits.str.capitalize()"
   ],
   "metadata": {
    "collapsed": false
   }
  },
  {
   "cell_type": "markdown",
   "source": [
    "2.Count the letter \"a\" in all the string values (use string vectorization).\n"
   ],
   "metadata": {
    "collapsed": false
   }
  },
  {
   "cell_type": "code",
   "execution_count": 13,
   "outputs": [
    {
     "data": {
      "text/plain": "14"
     },
     "execution_count": 13,
     "metadata": {},
     "output_type": "execute_result"
    }
   ],
   "source": [
    "a_count = fruits.str.count('a').sum()\n",
    "a_count"
   ],
   "metadata": {
    "collapsed": false
   }
  },
  {
   "cell_type": "markdown",
   "source": [
    "3.Output the number of vowels in each and every string value.\n"
   ],
   "metadata": {
    "collapsed": false
   }
  },
  {
   "cell_type": "code",
   "execution_count": 14,
   "outputs": [
    {
     "data": {
      "text/plain": "0     2\n1     2\n2     2\n3     4\n4     4\n5     5\n6     3\n7     4\n8     3\n9     2\n10    2\n11    2\n12    2\n13    3\n14    2\n15    4\n16    3\ndtype: int64"
     },
     "execution_count": 14,
     "metadata": {},
     "output_type": "execute_result"
    }
   ],
   "source": [
    "vowels = '[aeiou]'\n",
    "vowel_count = fruits.str.count(vowels)\n",
    "vowel_count\n"
   ],
   "metadata": {
    "collapsed": false
   }
  },
  {
   "cell_type": "markdown",
   "source": [
    "4.Write the code to get the longest string value from fruits."
   ],
   "metadata": {
    "collapsed": false
   }
  },
  {
   "cell_type": "code",
   "execution_count": 15,
   "outputs": [
    {
     "data": {
      "text/plain": "'honeycrisp apple'"
     },
     "execution_count": 15,
     "metadata": {},
     "output_type": "execute_result"
    }
   ],
   "source": [
    "longest_fruit = fruits.loc[fruits.str.len().idxmax()]\n",
    "longest_fruit\n"
   ],
   "metadata": {
    "collapsed": false
   }
  },
  {
   "cell_type": "markdown",
   "source": [
    "5.Write the code to get the string values with 5 or more letters in the name.\n"
   ],
   "metadata": {
    "collapsed": false
   }
  },
  {
   "cell_type": "code",
   "execution_count": 16,
   "outputs": [
    {
     "data": {
      "text/plain": "0     kiwi\n9     kiwi\n10    kiwi\n11    kiwi\ndtype: object"
     },
     "execution_count": 16,
     "metadata": {},
     "output_type": "execute_result"
    }
   ],
   "source": [
    "five_or_more = fruits.loc[(fruits.str.len()) < 5]\n",
    "five_or_more"
   ],
   "metadata": {
    "collapsed": false
   }
  },
  {
   "cell_type": "markdown",
   "source": [
    "6.Find the fruit(s) containing the letter \"o\" two or more times."
   ],
   "metadata": {
    "collapsed": false
   }
  },
  {
   "cell_type": "code",
   "execution_count": 17,
   "outputs": [
    {
     "data": {
      "text/plain": "6         tomato\n15    gooseberry\ndtype: object"
     },
     "execution_count": 17,
     "metadata": {},
     "output_type": "execute_result"
    }
   ],
   "source": [
    "o_count = fruits[fruits.str.count(\"o\") >= 2]\n",
    "o_count"
   ],
   "metadata": {
    "collapsed": false
   }
  },
  {
   "cell_type": "markdown",
   "source": [
    "7.Write the code to get only the string values containing the substring \"berry\".\n"
   ],
   "metadata": {
    "collapsed": false
   }
  },
  {
   "cell_type": "code",
   "execution_count": 18,
   "outputs": [
    {
     "name": "stdout",
     "output_type": "stream",
     "text": [
      "2     strawberry\n",
      "13     blueberry\n",
      "14    blackberry\n",
      "15    gooseberry\n",
      "dtype: object\n"
     ]
    }
   ],
   "source": [
    "berry_in_fruits = fruits[fruits.str.contains(\"berry\")]\n",
    "print(berry_in_fruits)\n"
   ],
   "metadata": {
    "collapsed": false
   }
  },
  {
   "cell_type": "markdown",
   "source": [
    "8.Write the code to get only the string values containing the substring \"apple\".\n"
   ],
   "metadata": {
    "collapsed": false
   }
  },
  {
   "cell_type": "code",
   "execution_count": 19,
   "outputs": [
    {
     "data": {
      "text/plain": "3           pineapple\n4          gala apple\n5    honeycrisp apple\ndtype: object"
     },
     "execution_count": 19,
     "metadata": {},
     "output_type": "execute_result"
    }
   ],
   "source": [
    "apple_in_fruits = fruits[fruits.str.contains(\"apple\")]\n",
    "apple_in_fruits"
   ],
   "metadata": {
    "collapsed": false
   }
  },
  {
   "cell_type": "markdown",
   "source": [
    "9.Which string value contains the most vowels?"
   ],
   "metadata": {
    "collapsed": false
   }
  },
  {
   "cell_type": "code",
   "execution_count": 20,
   "outputs": [
    {
     "data": {
      "text/plain": "'honeycrisp apple'"
     },
     "execution_count": 20,
     "metadata": {},
     "output_type": "execute_result"
    }
   ],
   "source": [
    "most_vowels = fruits[fruits.str.count(vowels).idxmax()]\n",
    "most_vowels"
   ],
   "metadata": {
    "collapsed": false
   }
  },
  {
   "cell_type": "markdown",
   "source": [
    "Use pandas to create a Series named letters from the following string. The easiest way to make this string into a Pandas series is to use list to convert each individual letter into a single string on a basic Python list.\n",
    "\n",
    "'hnvidduckkqxwymbimkccexbkmqygkxoyndmcxnwqarhyffsjpsrabtjzsypmzadfavyrnndndvswreauxovncxtwzpwejilzjrmmbbgbyxvjtewqthafnbkqplarokkyydtubbmnexoypulzwfhqvckdpqtpoppzqrmcvhhpwgjwupgzhiofohawytlsiyecuproguy'\n",
    "\n",
    "1.Which letter occurs the most frequently in the letters Series?\n",
    "\n",
    "2.Which letter occurs the Least frequently?\n",
    "\n",
    "3.How many vowels are in the Series?\n",
    "\n",
    "4.How many consonants are in the Series?\n",
    "\n",
    "5.Create a Series that has all of the same letters but uppercased.\n",
    "\n",
    "6.Create a bar plot of the frequencies of the 6 most commonly occuring letters.\n",
    "\n",
    "\n",
    "\n",
    "Use pandas to create a Series named numbers from the following list:\n",
    "\n",
    "['$796,459.41', '$278.60', '$482,571.67', '$4,503,915.98', '$2,121,418.3', '$1,260,813.3', '$87,231.01', '$1,509,175.45', '$4,138,548.00', '$2,848,913.80', '$594,715.39', '$4,789,988.17', '$4,513,644.5', '$3,191,059.97', '$1,758,712.24', '$4,338,283.54', '$4,738,303.38', '$2,791,759.67', '$769,681.94', '$452,650.23']\n",
    "\n",
    "1.What is the data type of the numbers Series?\n",
    "\n",
    "2.How many elements are in the number Series?\n",
    "\n",
    "3.Perform the necessary manipulations by accessing Series attributes and methods to convert the numbers Series to a numeric data type.\n",
    "\n",
    "4.Run the code to discover the maximum value from the Series.\n",
    "\n",
    "5.Run the code to discover the minimum value from the Series.\n",
    "\n",
    "6.What is the range of the values in the Series?\n",
    "\n",
    "7.Bin the data into 4 equally sized intervals or bins and output how many values fall into each bin.\n",
    "\n",
    "8.Plot the binned data in a meaningful way. Be sure to include a title and axis labels.\n",
    "\n",
    "Use pandas to create a Series named exam_scores from the following list:\n",
    "\n",
    "[60, 86, 75, 62, 93, 71, 60, 83, 95, 78, 65, 72, 69, 81, 96, 80, 85, 92, 82, 78]\n",
    "\n",
    "1.How many elements are in the exam_scores Series?\n",
    "\n",
    "2.Run the code to discover the minimum, the maximum, the mean, and the median scores for the exam_scores Series.\n",
    "\n",
    "3.Plot the Series in a meaningful way and make sure your chart has a title and axis labels.\n",
    "\n",
    "4.Write the code necessary to implement a curve for your exam_grades Series and save this as curved_grades. Add the necessary points to the highest grade to make it 100, and add the same number of points to every other score in the Series as well.\n",
    "\n",
    "5.Use a method to convert each of the numeric values in the curved_grades Series into a categorical value of letter grades. For example, 86 should be a 'B' and 95 should be an 'A'. Save this as a Series named letter_grades.\n",
    "\n",
    "6.Plot your new categorical letter_grades Series in a meaninful way and include a title and axis labels."
   ],
   "metadata": {
    "collapsed": false
   }
  },
  {
   "cell_type": "code",
   "execution_count": 21,
   "outputs": [
    {
     "data": {
      "text/plain": "0      h\n1      n\n2      v\n3      i\n4      d\n      ..\n195    r\n196    o\n197    g\n198    u\n199    y\nLength: 200, dtype: object"
     },
     "execution_count": 21,
     "metadata": {},
     "output_type": "execute_result"
    }
   ],
   "source": [
    "letters = 'hnvidduckkqxwymbimkccexbkmqygkxoyndmcxnwqarhyffsjpsrabtjzsypmzadfavyrnndndvswreauxovncxtwzpwejilzjrmmbbgbyxvjtewqthafnbkqplarokkyydtubbmnexoypulzwfhqvckdpqtpoppzqrmcvhhpwgjwupgzhiofohawytlsiyecuproguy'\n",
    "letters_list = list(letters)\n",
    "letters_series = pd.Series(letters_list)\n",
    "letters_series"
   ],
   "metadata": {
    "collapsed": false
   }
  },
  {
   "cell_type": "markdown",
   "source": [
    "1.Which letter occurs the most frequently in the letters Series?\n"
   ],
   "metadata": {
    "collapsed": false
   }
  },
  {
   "cell_type": "code",
   "execution_count": 22,
   "outputs": [
    {
     "data": {
      "text/plain": "'y'"
     },
     "execution_count": 22,
     "metadata": {},
     "output_type": "execute_result"
    }
   ],
   "source": [
    "highest_letter_count = letters_series.value_counts().idxmax()\n",
    "highest_letter_count"
   ],
   "metadata": {
    "collapsed": false
   }
  },
  {
   "cell_type": "markdown",
   "source": [
    "2.Which letter occurs the Least frequently?"
   ],
   "metadata": {
    "collapsed": false
   }
  },
  {
   "cell_type": "code",
   "execution_count": 23,
   "outputs": [
    {
     "data": {
      "text/plain": "'l'"
     },
     "execution_count": 23,
     "metadata": {},
     "output_type": "execute_result"
    }
   ],
   "source": [
    "lowest_letter_count = letters_series.value_counts().idxmin()\n",
    "lowest_letter_count"
   ],
   "metadata": {
    "collapsed": false
   }
  },
  {
   "cell_type": "markdown",
   "source": [
    "3.How many vowels are in the Series?"
   ],
   "metadata": {
    "collapsed": false
   }
  },
  {
   "cell_type": "code",
   "execution_count": 24,
   "outputs": [
    {
     "data": {
      "text/plain": "34"
     },
     "execution_count": 24,
     "metadata": {},
     "output_type": "execute_result"
    }
   ],
   "source": [
    "vowel_letter_count = letters_series.str.count(vowels).sum()\n",
    "vowel_letter_count"
   ],
   "metadata": {
    "collapsed": false
   }
  },
  {
   "cell_type": "markdown",
   "source": [
    "4.How many consonants are in the Series?"
   ],
   "metadata": {
    "collapsed": false
   }
  },
  {
   "cell_type": "code",
   "execution_count": 25,
   "outputs": [
    {
     "data": {
      "text/plain": "166"
     },
     "execution_count": 25,
     "metadata": {},
     "output_type": "execute_result"
    }
   ],
   "source": [
    "consonants = \"[^aeiou]\"\n",
    "consonants_letter_count = letters_series.str.count(consonants).sum()\n",
    "consonants_letter_count"
   ],
   "metadata": {
    "collapsed": false
   }
  },
  {
   "cell_type": "markdown",
   "source": [
    "5.Create a Series that has all of the same letters but uppercased.\n"
   ],
   "metadata": {
    "collapsed": false
   }
  },
  {
   "cell_type": "code",
   "execution_count": 26,
   "outputs": [
    {
     "data": {
      "text/plain": "0      H\n1      N\n2      V\n3      I\n4      D\n      ..\n195    R\n196    O\n197    G\n198    U\n199    Y\nLength: 200, dtype: object"
     },
     "execution_count": 26,
     "metadata": {},
     "output_type": "execute_result"
    }
   ],
   "source": [
    "upper_letter_series = letters_series.str.upper()\n",
    "upper_letter_series"
   ],
   "metadata": {
    "collapsed": false
   }
  },
  {
   "cell_type": "markdown",
   "source": [
    "6.Create a bar plot of the frequencies of the 6 most commonly occuring letters."
   ],
   "metadata": {
    "collapsed": false
   }
  },
  {
   "cell_type": "code",
   "execution_count": 27,
   "outputs": [
    {
     "data": {
      "text/plain": "<Figure size 640x480 with 1 Axes>",
      "image/png": "[encoded data removed]"
     },
     "metadata": {},
     "output_type": "display_data"
    }
   ],
   "source": [
    "import matplotlib.pyplot as plt\n",
    "\n",
    "\n",
    "value_counts = letters_series.value_counts()\n",
    "\n",
    "\n",
    "top_6_values = value_counts.head(6)\n",
    "\n",
    "plt.bar(top_6_values.index, top_6_values.values)\n",
    "\n",
    "\n",
    "plt.title(\"Frequency of the 6 most common letters\")\n",
    "plt.xlabel(\"Letter\")\n",
    "plt.ylabel(\"Amount\")\n",
    "\n",
    "# show plot\n",
    "plt.show()\n"
   ],
   "metadata": {
    "collapsed": false
   }
  },
  {
   "cell_type": "code",
   "execution_count": 28,
   "outputs": [],
   "source": [
    "numbers = pd.Series(['$796,459.41', '$278.60', '$482,571.67', '$4,503,915.98', '$2,121,418.3', '$1,260,813.3', '$87,231.01', '$1,509,175.45', '$4,138,548.00', '$2,848,913.80', '$594,715.39', '$4,789,988.17', '$4,513,644.5', '$3,191,059.97', '$1,758,712.24', '$4,338,283.54', '$4,738,303.38', '$2,791,759.67', '$769,681.94', '$452,650.23'])"
   ],
   "metadata": {
    "collapsed": false
   }
  },
  {
   "cell_type": "code",
   "execution_count": 28,
   "outputs": [],
   "source": [],
   "metadata": {
    "collapsed": false
   }
  },
  {
   "cell_type": "markdown",
   "source": [
    "1.What is the data type of the numbers Series?"
   ],
   "metadata": {
    "collapsed": false
   }
  },
  {
   "cell_type": "code",
   "execution_count": 29,
   "outputs": [
    {
     "name": "stdout",
     "output_type": "stream",
     "text": [
      "object\n"
     ]
    }
   ],
   "source": [
    "print(numbers.dtype)"
   ],
   "metadata": {
    "collapsed": false
   }
  },
  {
   "cell_type": "markdown",
   "source": [
    "2.How many elements are in the number Series?"
   ],
   "metadata": {
    "collapsed": false
   }
  },
  {
   "cell_type": "code",
   "execution_count": 30,
   "outputs": [
    {
     "data": {
      "text/plain": "count              20\nunique             20\ntop       $796,459.41\nfreq                1\ndtype: object"
     },
     "execution_count": 30,
     "metadata": {},
     "output_type": "execute_result"
    }
   ],
   "source": [
    "numbers.describe()"
   ],
   "metadata": {
    "collapsed": false
   }
  },
  {
   "cell_type": "markdown",
   "source": [
    "3.Perform the necessary manipulations by accessing Series attributes and methods to convert the numbers Series to a numeric data type."
   ],
   "metadata": {
    "collapsed": false
   }
  },
  {
   "cell_type": "code",
   "execution_count": 31,
   "outputs": [
    {
     "name": "stderr",
     "output_type": "stream",
     "text": [
      "/var/folders/xz/80c64x6n7gz157jssrv1zmj00000gn/T/ipykernel_69796/344836050.py:1: FutureWarning: The default value of regex will change from True to False in a future version.\n",
      "  just_numbers = numbers.str.replace(\"[$,]\", \"\").astype(float)\n"
     ]
    },
    {
     "data": {
      "text/plain": "0      796459.41\n1         278.60\n2      482571.67\n3     4503915.98\n4     2121418.30\n5     1260813.30\n6       87231.01\n7     1509175.45\n8     4138548.00\n9     2848913.80\n10     594715.39\n11    4789988.17\n12    4513644.50\n13    3191059.97\n14    1758712.24\n15    4338283.54\n16    4738303.38\n17    2791759.67\n18     769681.94\n19     452650.23\ndtype: float64"
     },
     "execution_count": 31,
     "metadata": {},
     "output_type": "execute_result"
    }
   ],
   "source": [
    "just_numbers = numbers.str.replace(\"[$,]\", \"\").astype(float)\n",
    "just_numbers"
   ],
   "metadata": {
    "collapsed": false
   }
  },
  {
   "cell_type": "markdown",
   "source": [
    "4.Run the code to discover the maximum value from the Series."
   ],
   "metadata": {
    "collapsed": false
   }
  },
  {
   "cell_type": "code",
   "execution_count": 32,
   "outputs": [
    {
     "data": {
      "text/plain": "4789988.17"
     },
     "execution_count": 32,
     "metadata": {},
     "output_type": "execute_result"
    }
   ],
   "source": [
    "max_numbers = just_numbers.max()\n",
    "max_numbers"
   ],
   "metadata": {
    "collapsed": false
   }
  },
  {
   "cell_type": "markdown",
   "source": [
    "5.Run the code to discover the minimum value from the Series.\n"
   ],
   "metadata": {
    "collapsed": false
   }
  },
  {
   "cell_type": "code",
   "execution_count": 33,
   "outputs": [
    {
     "data": {
      "text/plain": "278.6"
     },
     "execution_count": 33,
     "metadata": {},
     "output_type": "execute_result"
    }
   ],
   "source": [
    "min_numbers = just_numbers.min()\n",
    "min_numbers"
   ],
   "metadata": {
    "collapsed": false
   }
  },
  {
   "cell_type": "markdown",
   "source": [
    "\n",
    "6.What is the range of the values in the Series?"
   ],
   "metadata": {
    "collapsed": false
   }
  },
  {
   "cell_type": "code",
   "execution_count": 34,
   "outputs": [
    {
     "data": {
      "text/plain": "            value\nmin        278.60\nmax    4789988.17\nrange  4789709.57",
      "text/html": "<div>\n<style scoped>\n    .dataframe tbody tr th:only-of-type {\n        vertical-align: middle;\n    }\n\n    .dataframe tbody tr th {\n        vertical-align: top;\n    }\n\n    .dataframe thead th {\n        text-align: right;\n    }\n</style>\n<table border=\"1\" class=\"dataframe\">\n  <thead>\n    <tr style=\"text-align: right;\">\n      <th></th>\n      <th>value</th>\n    </tr>\n  </thead>\n  <tbody>\n    <tr>\n      <th>min</th>\n      <td>278.60</td>\n    </tr>\n    <tr>\n      <th>max</th>\n      <td>4789988.17</td>\n    </tr>\n    <tr>\n      <th>range</th>\n      <td>4789709.57</td>\n    </tr>\n  </tbody>\n</table>\n</div>"
     },
     "execution_count": 34,
     "metadata": {},
     "output_type": "execute_result"
    }
   ],
   "source": [
    "range_values = just_numbers.describe().loc[['min', 'max']].to_frame(name='value')\n",
    "range_values.loc['range'] = range_values.loc['max'] - range_values.loc['min']\n",
    "range_values"
   ],
   "metadata": {
    "collapsed": false
   }
  },
  {
   "cell_type": "code",
   "execution_count": 35,
   "outputs": [],
   "source": [
    "exam_scores = pd.Series([60, 86, 75, 62, 93, 71, 60, 83, 95, 78, 65, 72, 69, 81, 96, 80, 85, 92, 82, 78])"
   ],
   "metadata": {
    "collapsed": false
   }
  },
  {
   "cell_type": "code",
   "execution_count": 36,
   "outputs": [
    {
     "name": "stdout",
     "output_type": "stream",
     "text": [
      "0     60\n",
      "1     86\n",
      "2     75\n",
      "3     62\n",
      "4     93\n",
      "5     71\n",
      "6     60\n",
      "7     83\n",
      "8     95\n",
      "9     78\n",
      "10    65\n",
      "11    72\n",
      "12    69\n",
      "13    81\n",
      "14    96\n",
      "15    80\n",
      "16    85\n",
      "17    92\n",
      "18    82\n",
      "19    78\n",
      "dtype: int64\n"
     ]
    }
   ],
   "source": [
    "print(exam_scores)"
   ],
   "metadata": {
    "collapsed": false
   }
  },
  {
   "cell_type": "markdown",
   "source": [
    "1.How many elements are in the exam_scores Series?"
   ],
   "metadata": {
    "collapsed": false
   }
  },
  {
   "cell_type": "markdown",
   "source": [
    "1"
   ],
   "metadata": {
    "collapsed": false
   }
  },
  {
   "cell_type": "markdown",
   "source": [
    "2.Run the code to discover the minimum, the maximum, the mean, and the median scores for the exam_scores Series."
   ],
   "metadata": {
    "collapsed": false
   }
  },
  {
   "cell_type": "code",
   "execution_count": 37,
   "outputs": [
    {
     "data": {
      "text/plain": "60"
     },
     "execution_count": 37,
     "metadata": {},
     "output_type": "execute_result"
    }
   ],
   "source": [
    "min_score = exam_scores.min()\n",
    "min_score"
   ],
   "metadata": {
    "collapsed": false
   }
  },
  {
   "cell_type": "code",
   "execution_count": 38,
   "outputs": [
    {
     "data": {
      "text/plain": "96"
     },
     "execution_count": 38,
     "metadata": {},
     "output_type": "execute_result"
    }
   ],
   "source": [
    "max_score = exam_scores.max()\n",
    "max_score"
   ],
   "metadata": {
    "collapsed": false
   }
  },
  {
   "cell_type": "code",
   "execution_count": 39,
   "outputs": [
    {
     "data": {
      "text/plain": "78.15"
     },
     "execution_count": 39,
     "metadata": {},
     "output_type": "execute_result"
    }
   ],
   "source": [
    "mean_score = exam_scores.mean()\n",
    "mean_score"
   ],
   "metadata": {
    "collapsed": false
   }
  },
  {
   "cell_type": "code",
   "execution_count": 40,
   "outputs": [
    {
     "data": {
      "text/plain": "79.0"
     },
     "execution_count": 40,
     "metadata": {},
     "output_type": "execute_result"
    }
   ],
   "source": [
    "median_score = exam_scores.median()\n",
    "median_score"
   ],
   "metadata": {
    "collapsed": false
   }
  },
  {
   "cell_type": "markdown",
   "source": [
    "3.Plot the Series in a meaningful way and make sure your chart has a title and axis labels."
   ],
   "metadata": {
    "collapsed": false
   }
  },
  {
   "cell_type": "code",
   "execution_count": 41,
   "outputs": [
    {
     "data": {
      "text/plain": "<Figure size 640x480 with 1 Axes>",
      "image/png": "[encoded data removed]"
     },
     "metadata": {},
     "output_type": "display_data"
    }
   ],
   "source": [
    "\n",
    "plot = exam_scores.plot.kde()\n",
    "plot.set_title(\"Kernel Density Estimate of Exam Scores\")\n",
    "plot.set_xlabel(\"Score\")\n",
    "plot.set_ylabel(\"Density\")\n",
    "\n",
    "plt.show()"
   ],
   "metadata": {
    "collapsed": false
   }
  },
  {
   "cell_type": "markdown",
   "source": [
    "4.Write the code necessary to implement a curve for your exam_grades Series and save this as curved_grades. Add the necessary points to the highest grade to make it 100, and add the same number of points to every other score in the Series as well."
   ],
   "metadata": {
    "collapsed": false
   }
  },
  {
   "cell_type": "code",
   "execution_count": 42,
   "outputs": [
    {
     "data": {
      "text/plain": "0      64\n1      90\n2      79\n3      66\n4      97\n5      75\n6      64\n7      87\n8      99\n9      82\n10     69\n11     76\n12     73\n13     85\n14    100\n15     84\n16     89\n17     96\n18     86\n19     82\ndtype: int64"
     },
     "execution_count": 42,
     "metadata": {},
     "output_type": "execute_result"
    }
   ],
   "source": [
    "curve_exam_scores = exam_scores + 4\n",
    "curve_exam_scores"
   ],
   "metadata": {
    "collapsed": false
   }
  },
  {
   "cell_type": "markdown",
   "source": [
    "5.Use a method to convert each of the numeric values in the curved_grades Series into a categorical value of letter grades. For example, 86 should be a 'B' and 95 should be an 'A'. Save this as a Series named letter_grades."
   ],
   "metadata": {
    "collapsed": false
   }
  },
  {
   "cell_type": "code",
   "execution_count": 43,
   "outputs": [
    {
     "data": {
      "text/plain": "0     D\n1     A\n2     C\n3     D\n4     A\n5     C\n6     D\n7     B\n8     A\n9     B\n10    D\n11    C\n12    C\n13    B\n14    A\n15    B\n16    B\n17    A\n18    B\n19    B\ndtype: category\nCategories (5, object): ['F' < 'D' < 'C' < 'B' < 'A']"
     },
     "execution_count": 43,
     "metadata": {},
     "output_type": "execute_result"
    }
   ],
   "source": [
    "grades = [0, 59, 69, 79, 89, 100]\n",
    "letters = ['F', 'D', 'C', 'B', 'A']\n",
    "letter_grades = pd.cut(curve_exam_scores, bins=grades, labels=letters)\n",
    "letter_grades"
   ],
   "metadata": {
    "collapsed": false
   }
  },
  {
   "cell_type": "markdown",
   "source": [
    "6.Plot your new categorical letter_grades Series in a meaninful way and include a title and axis labels."
   ],
   "metadata": {
    "collapsed": false
   }
  },
  {
   "cell_type": "code",
   "execution_count": 44,
   "outputs": [
    {
     "data": {
      "text/plain": "Text(0.5, 1.0, 'Letter Grades')"
     },
     "execution_count": 44,
     "metadata": {},
     "output_type": "execute_result"
    },
    {
     "data": {
      "text/plain": "<Figure size 640x480 with 1 Axes>",
      "image/png": "[encoded data removed]"
     },
     "metadata": {},
     "output_type": "display_data"
    }
   ],
   "source": [
    "plot2 = letter_grades.value_counts().plot.pie()\n",
    "plot2.set_title(\"Letter Grades\")\n"
   ],
   "metadata": {
    "collapsed": false
   }
  },
  {
   "cell_type": "code",
   "execution_count": 44,
   "outputs": [],
   "source": [],
   "metadata": {
    "collapsed": false
   }
  },
  {
   "cell_type": "code",
   "execution_count": 44,
   "outputs": [],
   "source": [],
   "metadata": {
    "collapsed": false
   }
  }
 ],
 "metadata": {
  "kernelspec": {
   "display_name": "Python 3",
   "language": "python",
   "name": "python3"
  },
  "language_info": {
   "codemirror_mode": {
    "name": "ipython",
    "version": 2
   },
   "file_extension": ".py",
   "mimetype": "text/x-python",
   "name": "python",
   "nbconvert_exporter": "python",
   "pygments_lexer": "ipython2",
   "version": "2.7.6"
  }
 },
 "nbformat": 4,
 "nbformat_minor": 0
}
